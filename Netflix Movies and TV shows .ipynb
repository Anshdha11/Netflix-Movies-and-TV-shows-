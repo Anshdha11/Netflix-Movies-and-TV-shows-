{
 "cells": [
  {
   "cell_type": "code",
   "execution_count": 5,
   "id": "502228bf",
   "metadata": {},
   "outputs": [],
   "source": [
    "import numpy as np \n",
    "import pandas as pd \n",
    "import seaborn as sns \n",
    "import matplotlib.pyplot as plt \n",
    "from plotly import graph_objects as go\n",
    "from collections import Counter\n",
    "import plotly.graph_objects as go\n",
    "from sklearn.feature_extraction.text import TfidfVectorizer\n",
    "from sklearn.metrics.pairwise import cosine_similarity\n",
    "\n",
    "import os\n",
    "for dirname, _, filenames in os.walk('/kaggle/input'):\n",
    "    for filename in filenames:\n",
    "        print(os.path.join(dirname, filename))"
   ]
  },
  {
   "cell_type": "code",
   "execution_count": 10,
   "id": "d7e99a51",
   "metadata": {},
   "outputs": [],
   "source": [
    "df = pd.read_csv(r'C:\\Users\\HP\\Downloads\\netflix_titles.csv.zip')"
   ]
  },
  {
   "cell_type": "code",
   "execution_count": 11,
   "id": "1110687c",
   "metadata": {},
   "outputs": [
    {
     "data": {
      "text/html": [
       "<div>\n",
       "<style scoped>\n",
       "    .dataframe tbody tr th:only-of-type {\n",
       "        vertical-align: middle;\n",
       "    }\n",
       "\n",
       "    .dataframe tbody tr th {\n",
       "        vertical-align: top;\n",
       "    }\n",
       "\n",
       "    .dataframe thead th {\n",
       "        text-align: right;\n",
       "    }\n",
       "</style>\n",
       "<table border=\"1\" class=\"dataframe\">\n",
       "  <thead>\n",
       "    <tr style=\"text-align: right;\">\n",
       "      <th></th>\n",
       "      <th>show_id</th>\n",
       "      <th>type</th>\n",
       "      <th>title</th>\n",
       "      <th>director</th>\n",
       "      <th>cast</th>\n",
       "      <th>country</th>\n",
       "      <th>date_added</th>\n",
       "      <th>release_year</th>\n",
       "      <th>rating</th>\n",
       "      <th>duration</th>\n",
       "      <th>listed_in</th>\n",
       "      <th>description</th>\n",
       "    </tr>\n",
       "  </thead>\n",
       "  <tbody>\n",
       "    <tr>\n",
       "      <th>0</th>\n",
       "      <td>s1</td>\n",
       "      <td>Movie</td>\n",
       "      <td>Dick Johnson Is Dead</td>\n",
       "      <td>Kirsten Johnson</td>\n",
       "      <td>NaN</td>\n",
       "      <td>United States</td>\n",
       "      <td>September 25, 2021</td>\n",
       "      <td>2020</td>\n",
       "      <td>PG-13</td>\n",
       "      <td>90 min</td>\n",
       "      <td>Documentaries</td>\n",
       "      <td>As her father nears the end of his life, filmm...</td>\n",
       "    </tr>\n",
       "    <tr>\n",
       "      <th>1</th>\n",
       "      <td>s2</td>\n",
       "      <td>TV Show</td>\n",
       "      <td>Blood &amp; Water</td>\n",
       "      <td>NaN</td>\n",
       "      <td>Ama Qamata, Khosi Ngema, Gail Mabalane, Thaban...</td>\n",
       "      <td>South Africa</td>\n",
       "      <td>September 24, 2021</td>\n",
       "      <td>2021</td>\n",
       "      <td>TV-MA</td>\n",
       "      <td>2 Seasons</td>\n",
       "      <td>International TV Shows, TV Dramas, TV Mysteries</td>\n",
       "      <td>After crossing paths at a party, a Cape Town t...</td>\n",
       "    </tr>\n",
       "    <tr>\n",
       "      <th>2</th>\n",
       "      <td>s3</td>\n",
       "      <td>TV Show</td>\n",
       "      <td>Ganglands</td>\n",
       "      <td>Julien Leclercq</td>\n",
       "      <td>Sami Bouajila, Tracy Gotoas, Samuel Jouy, Nabi...</td>\n",
       "      <td>NaN</td>\n",
       "      <td>September 24, 2021</td>\n",
       "      <td>2021</td>\n",
       "      <td>TV-MA</td>\n",
       "      <td>1 Season</td>\n",
       "      <td>Crime TV Shows, International TV Shows, TV Act...</td>\n",
       "      <td>To protect his family from a powerful drug lor...</td>\n",
       "    </tr>\n",
       "    <tr>\n",
       "      <th>3</th>\n",
       "      <td>s4</td>\n",
       "      <td>TV Show</td>\n",
       "      <td>Jailbirds New Orleans</td>\n",
       "      <td>NaN</td>\n",
       "      <td>NaN</td>\n",
       "      <td>NaN</td>\n",
       "      <td>September 24, 2021</td>\n",
       "      <td>2021</td>\n",
       "      <td>TV-MA</td>\n",
       "      <td>1 Season</td>\n",
       "      <td>Docuseries, Reality TV</td>\n",
       "      <td>Feuds, flirtations and toilet talk go down amo...</td>\n",
       "    </tr>\n",
       "    <tr>\n",
       "      <th>4</th>\n",
       "      <td>s5</td>\n",
       "      <td>TV Show</td>\n",
       "      <td>Kota Factory</td>\n",
       "      <td>NaN</td>\n",
       "      <td>Mayur More, Jitendra Kumar, Ranjan Raj, Alam K...</td>\n",
       "      <td>India</td>\n",
       "      <td>September 24, 2021</td>\n",
       "      <td>2021</td>\n",
       "      <td>TV-MA</td>\n",
       "      <td>2 Seasons</td>\n",
       "      <td>International TV Shows, Romantic TV Shows, TV ...</td>\n",
       "      <td>In a city of coaching centers known to train I...</td>\n",
       "    </tr>\n",
       "  </tbody>\n",
       "</table>\n",
       "</div>"
      ],
      "text/plain": [
       "  show_id     type                  title         director  \\\n",
       "0      s1    Movie   Dick Johnson Is Dead  Kirsten Johnson   \n",
       "1      s2  TV Show          Blood & Water              NaN   \n",
       "2      s3  TV Show              Ganglands  Julien Leclercq   \n",
       "3      s4  TV Show  Jailbirds New Orleans              NaN   \n",
       "4      s5  TV Show           Kota Factory              NaN   \n",
       "\n",
       "                                                cast        country  \\\n",
       "0                                                NaN  United States   \n",
       "1  Ama Qamata, Khosi Ngema, Gail Mabalane, Thaban...   South Africa   \n",
       "2  Sami Bouajila, Tracy Gotoas, Samuel Jouy, Nabi...            NaN   \n",
       "3                                                NaN            NaN   \n",
       "4  Mayur More, Jitendra Kumar, Ranjan Raj, Alam K...          India   \n",
       "\n",
       "           date_added  release_year rating   duration  \\\n",
       "0  September 25, 2021          2020  PG-13     90 min   \n",
       "1  September 24, 2021          2021  TV-MA  2 Seasons   \n",
       "2  September 24, 2021          2021  TV-MA   1 Season   \n",
       "3  September 24, 2021          2021  TV-MA   1 Season   \n",
       "4  September 24, 2021          2021  TV-MA  2 Seasons   \n",
       "\n",
       "                                           listed_in  \\\n",
       "0                                      Documentaries   \n",
       "1    International TV Shows, TV Dramas, TV Mysteries   \n",
       "2  Crime TV Shows, International TV Shows, TV Act...   \n",
       "3                             Docuseries, Reality TV   \n",
       "4  International TV Shows, Romantic TV Shows, TV ...   \n",
       "\n",
       "                                         description  \n",
       "0  As her father nears the end of his life, filmm...  \n",
       "1  After crossing paths at a party, a Cape Town t...  \n",
       "2  To protect his family from a powerful drug lor...  \n",
       "3  Feuds, flirtations and toilet talk go down amo...  \n",
       "4  In a city of coaching centers known to train I...  "
      ]
     },
     "execution_count": 11,
     "metadata": {},
     "output_type": "execute_result"
    }
   ],
   "source": [
    "df.head()"
   ]
  },
  {
   "cell_type": "code",
   "execution_count": 12,
   "id": "1bae1da1",
   "metadata": {},
   "outputs": [
    {
     "name": "stdout",
     "output_type": "stream",
     "text": [
      "<class 'pandas.core.frame.DataFrame'>\n",
      "RangeIndex: 8807 entries, 0 to 8806\n",
      "Data columns (total 12 columns):\n",
      " #   Column        Non-Null Count  Dtype \n",
      "---  ------        --------------  ----- \n",
      " 0   show_id       8807 non-null   object\n",
      " 1   type          8807 non-null   object\n",
      " 2   title         8807 non-null   object\n",
      " 3   director      6173 non-null   object\n",
      " 4   cast          7982 non-null   object\n",
      " 5   country       7976 non-null   object\n",
      " 6   date_added    8797 non-null   object\n",
      " 7   release_year  8807 non-null   int64 \n",
      " 8   rating        8803 non-null   object\n",
      " 9   duration      8804 non-null   object\n",
      " 10  listed_in     8807 non-null   object\n",
      " 11  description   8807 non-null   object\n",
      "dtypes: int64(1), object(11)\n",
      "memory usage: 825.8+ KB\n"
     ]
    }
   ],
   "source": [
    "df.info()"
   ]
  },
  {
   "cell_type": "code",
   "execution_count": 18,
   "id": "2056ee11",
   "metadata": {},
   "outputs": [],
   "source": [
    "netflix_shows = df[df['type'] == 'TV Show'].copy()"
   ]
  },
  {
   "cell_type": "code",
   "execution_count": 19,
   "id": "be3513ed",
   "metadata": {},
   "outputs": [],
   "source": [
    "netflix_movies = df[df['type'] == 'Movie'].copy()"
   ]
  },
  {
   "cell_type": "code",
   "execution_count": 20,
   "id": "32541ea4",
   "metadata": {},
   "outputs": [
    {
     "data": {
      "image/png": "[encoded data removed]",
      "text/plain": [
       "<Figure size 640x480 with 1 Axes>"
      ]
     },
     "metadata": {},
     "output_type": "display_data"
    }
   ],
   "source": [
    "sns.set(style = 'darkgrid')\n",
    "ax = sns.countplot(x = 'type',data=df, palette = 'Set2')"
   ]
  },
  {
   "cell_type": "markdown",
   "id": "558d55e1",
   "metadata": {},
   "source": [
    "# Popular duration time"
   ]
  },
  {
   "cell_type": "code",
   "execution_count": 21,
   "id": "5366789b",
   "metadata": {},
   "outputs": [
    {
     "data": {
      "text/plain": [
       "1 Season     1793\n",
       "2 Seasons     425\n",
       "3 Seasons     199\n",
       "90 min        152\n",
       "94 min        146\n",
       "             ... \n",
       "16 min          1\n",
       "186 min         1\n",
       "193 min         1\n",
       "189 min         1\n",
       "191 min         1\n",
       "Name: duration, Length: 220, dtype: int64"
      ]
     },
     "execution_count": 21,
     "metadata": {},
     "output_type": "execute_result"
    }
   ],
   "source": [
    "topdirs  = pd.value_counts(df['duration'])\n",
    "topdirs"
   ]
  },
  {
   "cell_type": "code",
   "execution_count": 24,
   "id": "e02c32dc",
   "metadata": {},
   "outputs": [
    {
     "data": {
      "application/vnd.plotly.v1+json": {
       "config": {
        "plotlyServerURL": "https://plot.ly"
       },
       "data": [
        {
         "marker": {
          "color": "indianred"
         },
         "text": [
          1793,
          425,
          199,
          152,
          146,
          146,
          146,
          144,
          137,
          130,
          129,
          122,
          120,
          118,
          116,
          116,
          114,
          111,
          108,
          106,
          104,
          103,
          101,
          101,
          98,
          97,
          95,
          87,
          80,
          74,
          73,
          69,
          69,
          68,
          67,
          65,
          65,
          65,
          63,
          62,
          61,
          61,
          56,
          56,
          54,
          52,
          52,
          48,
          45,
          45,
          44,
          44,
          43,
          42,
          41,
          40,
          39,
          38,
          37,
          36,
          35,
          35,
          34,
          33,
          33,
          32,
          32,
          31,
          31,
          31,
          30,
          30,
          29,
          28,
          28,
          28,
          28,
          25,
          25,
          25,
          25,
          25,
          24,
          24,
          24,
          24,
          23,
          23,
          23,
          23,
          23,
          22,
          22,
          21,
          21,
          20,
          19,
          19,
          19,
          18,
          17,
          17,
          16,
          16,
          15,
          15,
          14,
          14,
          13,
          13,
          13,
          13,
          13,
          12,
          12,
          12,
          11,
          11,
          11,
          11,
          11,
          11,
          10,
          10,
          10,
          10,
          10,
          10,
          9,
          9,
          9,
          9,
          9,
          8,
          8,
          8,
          7,
          7,
          7,
          6,
          6,
          6,
          6,
          6,
          6,
          6,
          6,
          5,
          5,
          5,
          5,
          5,
          5,
          5,
          4,
          4,
          4,
          3,
          3,
          3,
          3,
          3,
          3,
          3,
          3,
          3,
          3,
          3,
          3,
          2,
          2,
          2,
          2,
          2,
          2,
          2,
          2,
          2,
          2,
          2,
          2,
          2,
          2,
          2,
          2,
          2,
          2,
          1,
          1,
          1,
          1,
          1,
          1,
          1,
          1,
          1,
          1,
          1,
          1,
          1,
          1,
          1,
          1,
          1,
          1,
          1,
          1,
          1,
          1,
          1,
          1,
          1,
          1,
          1,
          1,
          1,
          1,
          1,
          1,
          1
         ],
         "textposition": "outside",
         "texttemplate": "%{text:.2s}",
         "type": "bar",
         "x": [
          "1 Season",
          "2 Seasons",
          "3 Seasons",
          "90 min",
          "94 min",
          "97 min",
          "93 min",
          "91 min",
          "95 min",
          "96 min",
          "92 min",
          "102 min",
          "98 min",
          "99 min",
          "101 min",
          "88 min",
          "103 min",
          "106 min",
          "100 min",
          "89 min",
          "104 min",
          "86 min",
          "105 min",
          "87 min",
          "107 min",
          "110 min",
          "4 Seasons",
          "108 min",
          "116 min",
          "112 min",
          "85 min",
          "113 min",
          "109 min",
          "111 min",
          "84 min",
          "118 min",
          "83 min",
          "5 Seasons",
          "119 min",
          "81 min",
          "115 min",
          "117 min",
          "120 min",
          "114 min",
          "121 min",
          "82 min",
          "124 min",
          "127 min",
          "122 min",
          "78 min",
          "123 min",
          "126 min",
          "80 min",
          "133 min",
          "128 min",
          "130 min",
          "135 min",
          "137 min",
          "132 min",
          "125 min",
          "75 min",
          "79 min",
          "131 min",
          "6 Seasons",
          "72 min",
          "63 min",
          "129 min",
          "76 min",
          "61 min",
          "74 min",
          "73 min",
          "77 min",
          "60 min",
          "71 min",
          "66 min",
          "69 min",
          "70 min",
          "140 min",
          "65 min",
          "58 min",
          "59 min",
          "68 min",
          "54 min",
          "46 min",
          "62 min",
          "53 min",
          "64 min",
          "136 min",
          "7 Seasons",
          "24 min",
          "143 min",
          "134 min",
          "139 min",
          "138 min",
          "67 min",
          "52 min",
          "44 min",
          "141 min",
          "148 min",
          "145 min",
          "150 min",
          "8 Seasons",
          "22 min",
          "55 min",
          "151 min",
          "149 min",
          "162 min",
          "57 min",
          "146 min",
          "23 min",
          "142 min",
          "154 min",
          "40 min",
          "158 min",
          "56 min",
          "147 min",
          "153 min",
          "163 min",
          "25 min",
          "51 min",
          "29 min",
          "47 min",
          "161 min",
          "45 min",
          "155 min",
          "28 min",
          "50 min",
          "156 min",
          "42 min",
          "32 min",
          "144 min",
          "9 Seasons",
          "49 min",
          "166 min",
          "165 min",
          "48 min",
          "168 min",
          "10 Seasons",
          "171 min",
          "173 min",
          "185 min",
          "26 min",
          "33 min",
          "159 min",
          "30 min",
          "160 min",
          "157 min",
          "176 min",
          "152 min",
          "170 min",
          "36 min",
          "177 min",
          "38 min",
          "35 min",
          "172 min",
          "181 min",
          "164 min",
          "14 min",
          "15 min",
          "13 min",
          "41 min",
          "17 min",
          "27 min",
          "34 min",
          "37 min",
          "12 min",
          "21 min",
          "182 min",
          "13 Seasons",
          "192 min",
          "19 min",
          "174 min",
          "11 min",
          "209 min",
          "187 min",
          "31 min",
          "12 Seasons",
          "39 min",
          "169 min",
          "180 min",
          "195 min",
          "179 min",
          "15 Seasons",
          "20 min",
          "190 min",
          "204 min",
          "11 Seasons",
          "200 min",
          "196 min",
          "43 min",
          "167 min",
          "229 min",
          "178 min",
          "228 min",
          "214 min",
          "18 min",
          "205 min",
          "201 min",
          "312 min",
          "17 Seasons",
          "3 min",
          "10 min",
          "8 min",
          "9 min",
          "224 min",
          "212 min",
          "203 min",
          "194 min",
          "233 min",
          "237 min",
          "230 min",
          "253 min",
          "273 min",
          "208 min",
          "5 min",
          "16 min",
          "186 min",
          "193 min",
          "189 min",
          "191 min"
         ],
         "y": [
          1793,
          425,
          199,
          152,
          146,
          146,
          146,
          144,
          137,
          130,
          129,
          122,
          120,
          118,
          116,
          116,
          114,
          111,
          108,
          106,
          104,
          103,
          101,
          101,
          98,
          97,
          95,
          87,
          80,
          74,
          73,
          69,
          69,
          68,
          67,
          65,
          65,
          65,
          63,
          62,
          61,
          61,
          56,
          56,
          54,
          52,
          52,
          48,
          45,
          45,
          44,
          44,
          43,
          42,
          41,
          40,
          39,
          38,
          37,
          36,
          35,
          35,
          34,
          33,
          33,
          32,
          32,
          31,
          31,
          31,
          30,
          30,
          29,
          28,
          28,
          28,
          28,
          25,
          25,
          25,
          25,
          25,
          24,
          24,
          24,
          24,
          23,
          23,
          23,
          23,
          23,
          22,
          22,
          21,
          21,
          20,
          19,
          19,
          19,
          18,
          17,
          17,
          16,
          16,
          15,
          15,
          14,
          14,
          13,
          13,
          13,
          13,
          13,
          12,
          12,
          12,
          11,
          11,
          11,
          11,
          11,
          11,
          10,
          10,
          10,
          10,
          10,
          10,
          9,
          9,
          9,
          9,
          9,
          8,
          8,
          8,
          7,
          7,
          7,
          6,
          6,
          6,
          6,
          6,
          6,
          6,
          6,
          5,
          5,
          5,
          5,
          5,
          5,
          5,
          4,
          4,
          4,
          3,
          3,
          3,
          3,
          3,
          3,
          3,
          3,
          3,
          3,
          3,
          3,
          2,
          2,
          2,
          2,
          2,
          2,
          2,
          2,
          2,
          2,
          2,
          2,
          2,
          2,
          2,
          2,
          2,
          2,
          1,
          1,
          1,
          1,
          1,
          1,
          1,
          1,
          1,
          1,
          1,
          1,
          1,
          1,
          1,
          1,
          1,
          1,
          1,
          1,
          1,
          1,
          1,
          1,
          1,
          1,
          1,
          1,
          1,
          1,
          1,
          1,
          1
         ]
        }
       ],
       "layout": {
        "template": {
         "data": {
          "bar": [
           {
            "error_x": {
             "color": "#2a3f5f"
            },
            "error_y": {
             "color": "#2a3f5f"
            },
            "marker": {
             "line": {
              "color": "#E5ECF6",
              "width": 0.5
             },
             "pattern": {
              "fillmode": "overlay",
              "size": 10,
              "solidity": 0.2
             }
            },
            "type": "bar"
           }
          ],
          "barpolar": [
           {
            "marker": {
             "line": {
              "color": "#E5ECF6",
              "width": 0.5
             },
             "pattern": {
              "fillmode": "overlay",
              "size": 10,
              "solidity": 0.2
             }
            },
            "type": "barpolar"
           }
          ],
          "carpet": [
           {
            "aaxis": {
             "endlinecolor": "#2a3f5f",
             "gridcolor": "white",
             "linecolor": "white",
             "minorgridcolor": "white",
             "startlinecolor": "#2a3f5f"
            },
            "baxis": {
             "endlinecolor": "#2a3f5f",
             "gridcolor": "white",
             "linecolor": "white",
             "minorgridcolor": "white",
             "startlinecolor": "#2a3f5f"
            },
            "type": "carpet"
           }
          ],
          "choropleth": [
           {
            "colorbar": {
             "outlinewidth": 0,
             "ticks": ""
            },
            "type": "choropleth"
           }
          ],
          "contour": [
           {
            "colorbar": {
             "outlinewidth": 0,
             "ticks": ""
            },
            "colorscale": [
             [
              0,
              "#0d0887"
             ],
             [
              0.1111111111111111,
              "#46039f"
             ],
             [
              0.2222222222222222,
              "#7201a8"
             ],
             [
              0.3333333333333333,
              "#9c179e"
             ],
             [
              0.4444444444444444,
              "#bd3786"
             ],
             [
              0.5555555555555556,
              "#d8576b"
             ],
             [
              0.6666666666666666,
              "#ed7953"
             ],
             [
              0.7777777777777778,
              "#fb9f3a"
             ],
             [
              0.8888888888888888,
              "#fdca26"
             ],
             [
              1,
              "#f0f921"
             ]
            ],
            "type": "contour"
           }
          ],
          "contourcarpet": [
           {
            "colorbar": {
             "outlinewidth": 0,
             "ticks": ""
            },
            "type": "contourcarpet"
           }
          ],
          "heatmap": [
           {
            "colorbar": {
             "outlinewidth": 0,
             "ticks": ""
            },
            "colorscale": [
             [
              0,
              "#0d0887"
             ],
             [
              0.1111111111111111,
              "#46039f"
             ],
             [
              0.2222222222222222,
              "#7201a8"
             ],
             [
              0.3333333333333333,
              "#9c179e"
             ],
             [
              0.4444444444444444,
              "#bd3786"
             ],
             [
              0.5555555555555556,
              "#d8576b"
             ],
             [
              0.6666666666666666,
              "#ed7953"
             ],
             [
              0.7777777777777778,
              "#fb9f3a"
             ],
             [
              0.8888888888888888,
              "#fdca26"
             ],
             [
              1,
              "#f0f921"
             ]
            ],
            "type": "heatmap"
           }
          ],
          "heatmapgl": [
           {
            "colorbar": {
             "outlinewidth": 0,
             "ticks": ""
            },
            "colorscale": [
             [
              0,
              "#0d0887"
             ],
             [
              0.1111111111111111,
              "#46039f"
             ],
             [
              0.2222222222222222,
              "#7201a8"
             ],
             [
              0.3333333333333333,
              "#9c179e"
             ],
             [
              0.4444444444444444,
              "#bd3786"
             ],
             [
              0.5555555555555556,
              "#d8576b"
             ],
             [
              0.6666666666666666,
              "#ed7953"
             ],
             [
              0.7777777777777778,
              "#fb9f3a"
             ],
             [
              0.8888888888888888,
              "#fdca26"
             ],
             [
              1,
              "#f0f921"
             ]
            ],
            "type": "heatmapgl"
           }
          ],
          "histogram": [
           {
            "marker": {
             "pattern": {
              "fillmode": "overlay",
              "size": 10,
              "solidity": 0.2
             }
            },
            "type": "histogram"
           }
          ],
          "histogram2d": [
           {
            "colorbar": {
             "outlinewidth": 0,
             "ticks": ""
            },
            "colorscale": [
             [
              0,
              "#0d0887"
             ],
             [
              0.1111111111111111,
              "#46039f"
             ],
             [
              0.2222222222222222,
              "#7201a8"
             ],
             [
              0.3333333333333333,
              "#9c179e"
             ],
             [
              0.4444444444444444,
              "#bd3786"
             ],
             [
              0.5555555555555556,
              "#d8576b"
             ],
             [
              0.6666666666666666,
              "#ed7953"
             ],
             [
              0.7777777777777778,
              "#fb9f3a"
             ],
             [
              0.8888888888888888,
              "#fdca26"
             ],
             [
              1,
              "#f0f921"
             ]
            ],
            "type": "histogram2d"
           }
          ],
          "histogram2dcontour": [
           {
            "colorbar": {
             "outlinewidth": 0,
             "ticks": ""
            },
            "colorscale": [
             [
              0,
              "#0d0887"
             ],
             [
              0.1111111111111111,
              "#46039f"
             ],
             [
              0.2222222222222222,
              "#7201a8"
             ],
             [
              0.3333333333333333,
              "#9c179e"
             ],
             [
              0.4444444444444444,
              "#bd3786"
             ],
             [
              0.5555555555555556,
              "#d8576b"
             ],
             [
              0.6666666666666666,
              "#ed7953"
             ],
             [
              0.7777777777777778,
              "#fb9f3a"
             ],
             [
              0.8888888888888888,
              "#fdca26"
             ],
             [
              1,
              "#f0f921"
             ]
            ],
            "type": "histogram2dcontour"
           }
          ],
          "mesh3d": [
           {
            "colorbar": {
             "outlinewidth": 0,
             "ticks": ""
            },
            "type": "mesh3d"
           }
          ],
          "parcoords": [
           {
            "line": {
             "colorbar": {
              "outlinewidth": 0,
              "ticks": ""
             }
            },
            "type": "parcoords"
           }
          ],
          "pie": [
           {
            "automargin": true,
            "type": "pie"
           }
          ],
          "scatter": [
           {
            "fillpattern": {
             "fillmode": "overlay",
             "size": 10,
             "solidity": 0.2
            },
            "type": "scatter"
           }
          ],
          "scatter3d": [
           {
            "line": {
             "colorbar": {
              "outlinewidth": 0,
              "ticks": ""
             }
            },
            "marker": {
             "colorbar": {
              "outlinewidth": 0,
              "ticks": ""
             }
            },
            "type": "scatter3d"
           }
          ],
          "scattercarpet": [
           {
            "marker": {
             "colorbar": {
              "outlinewidth": 0,
              "ticks": ""
             }
            },
            "type": "scattercarpet"
           }
          ],
          "scattergeo": [
           {
            "marker": {
             "colorbar": {
              "outlinewidth": 0,
              "ticks": ""
             }
            },
            "type": "scattergeo"
           }
          ],
          "scattergl": [
           {
            "marker": {
             "colorbar": {
              "outlinewidth": 0,
              "ticks": ""
             }
            },
            "type": "scattergl"
           }
          ],
          "scattermapbox": [
           {
            "marker": {
             "colorbar": {
              "outlinewidth": 0,
              "ticks": ""
             }
            },
            "type": "scattermapbox"
           }
          ],
          "scatterpolar": [
           {
            "marker": {
             "colorbar": {
              "outlinewidth": 0,
              "ticks": ""
             }
            },
            "type": "scatterpolar"
           }
          ],
          "scatterpolargl": [
           {
            "marker": {
             "colorbar": {
              "outlinewidth": 0,
              "ticks": ""
             }
            },
            "type": "scatterpolargl"
           }
          ],
          "scatterternary": [
           {
            "marker": {
             "colorbar": {
              "outlinewidth": 0,
              "ticks": ""
             }
            },
            "type": "scatterternary"
           }
          ],
          "surface": [
           {
            "colorbar": {
             "outlinewidth": 0,
             "ticks": ""
            },
            "colorscale": [
             [
              0,
              "#0d0887"
             ],
             [
              0.1111111111111111,
              "#46039f"
             ],
             [
              0.2222222222222222,
              "#7201a8"
             ],
             [
              0.3333333333333333,
              "#9c179e"
             ],
             [
              0.4444444444444444,
              "#bd3786"
             ],
             [
              0.5555555555555556,
              "#d8576b"
             ],
             [
              0.6666666666666666,
              "#ed7953"
             ],
             [
              0.7777777777777778,
              "#fb9f3a"
             ],
             [
              0.8888888888888888,
              "#fdca26"
             ],
             [
              1,
              "#f0f921"
             ]
            ],
            "type": "surface"
           }
          ],
          "table": [
           {
            "cells": {
             "fill": {
              "color": "#EBF0F8"
             },
             "line": {
              "color": "white"
             }
            },
            "header": {
             "fill": {
              "color": "#C8D4E3"
             },
             "line": {
              "color": "white"
             }
            },
            "type": "table"
           }
          ]
         },
         "layout": {
          "annotationdefaults": {
           "arrowcolor": "#2a3f5f",
           "arrowhead": 0,
           "arrowwidth": 1
          },
          "autotypenumbers": "strict",
          "coloraxis": {
           "colorbar": {
            "outlinewidth": 0,
            "ticks": ""
           }
          },
          "colorscale": {
           "diverging": [
            [
             0,
             "#8e0152"
            ],
            [
             0.1,
             "#c51b7d"
            ],
            [
             0.2,
             "#de77ae"
            ],
            [
             0.3,
             "#f1b6da"
            ],
            [
             0.4,
             "#fde0ef"
            ],
            [
             0.5,
             "#f7f7f7"
            ],
            [
             0.6,
             "#e6f5d0"
            ],
            [
             0.7,
             "#b8e186"
            ],
            [
             0.8,
             "#7fbc41"
            ],
            [
             0.9,
             "#4d9221"
            ],
            [
             1,
             "#276419"
            ]
           ],
           "sequential": [
            [
             0,
             "#0d0887"
            ],
            [
             0.1111111111111111,
             "#46039f"
            ],
            [
             0.2222222222222222,
             "#7201a8"
            ],
            [
             0.3333333333333333,
             "#9c179e"
            ],
            [
             0.4444444444444444,
             "#bd3786"
            ],
            [
             0.5555555555555556,
             "#d8576b"
            ],
            [
             0.6666666666666666,
             "#ed7953"
            ],
            [
             0.7777777777777778,
             "#fb9f3a"
            ],
            [
             0.8888888888888888,
             "#fdca26"
            ],
            [
             1,
             "#f0f921"
            ]
           ],
           "sequentialminus": [
            [
             0,
             "#0d0887"
            ],
            [
             0.1111111111111111,
             "#46039f"
            ],
            [
             0.2222222222222222,
             "#7201a8"
            ],
            [
             0.3333333333333333,
             "#9c179e"
            ],
            [
             0.4444444444444444,
             "#bd3786"
            ],
            [
             0.5555555555555556,
             "#d8576b"
            ],
            [
             0.6666666666666666,
             "#ed7953"
            ],
            [
             0.7777777777777778,
             "#fb9f3a"
            ],
            [
             0.8888888888888888,
             "#fdca26"
            ],
            [
             1,
             "#f0f921"
            ]
           ]
          },
          "colorway": [
           "#636efa",
           "#EF553B",
           "#00cc96",
           "#ab63fa",
           "#FFA15A",
           "#19d3f3",
           "#FF6692",
           "#B6E880",
           "#FF97FF",
           "#FECB52"
          ],
          "font": {
           "color": "#2a3f5f"
          },
          "geo": {
           "bgcolor": "white",
           "lakecolor": "white",
           "landcolor": "#E5ECF6",
           "showlakes": true,
           "showland": true,
           "subunitcolor": "white"
          },
          "hoverlabel": {
           "align": "left"
          },
          "hovermode": "closest",
          "mapbox": {
           "style": "light"
          },
          "paper_bgcolor": "white",
          "plot_bgcolor": "#E5ECF6",
          "polar": {
           "angularaxis": {
            "gridcolor": "white",
            "linecolor": "white",
            "ticks": ""
           },
           "bgcolor": "#E5ECF6",
           "radialaxis": {
            "gridcolor": "white",
            "linecolor": "white",
            "ticks": ""
           }
          },
          "scene": {
           "xaxis": {
            "backgroundcolor": "#E5ECF6",
            "gridcolor": "white",
            "gridwidth": 2,
            "linecolor": "white",
            "showbackground": true,
            "ticks": "",
            "zerolinecolor": "white"
           },
           "yaxis": {
            "backgroundcolor": "#E5ECF6",
            "gridcolor": "white",
            "gridwidth": 2,
            "linecolor": "white",
            "showbackground": true,
            "ticks": "",
            "zerolinecolor": "white"
           },
           "zaxis": {
            "backgroundcolor": "#E5ECF6",
            "gridcolor": "white",
            "gridwidth": 2,
            "linecolor": "white",
            "showbackground": true,
            "ticks": "",
            "zerolinecolor": "white"
           }
          },
          "shapedefaults": {
           "line": {
            "color": "#2a3f5f"
           }
          },
          "ternary": {
           "aaxis": {
            "gridcolor": "white",
            "linecolor": "white",
            "ticks": ""
           },
           "baxis": {
            "gridcolor": "white",
            "linecolor": "white",
            "ticks": ""
           },
           "bgcolor": "#E5ECF6",
           "caxis": {
            "gridcolor": "white",
            "linecolor": "white",
            "ticks": ""
           }
          },
          "title": {
           "x": 0.05
          },
          "xaxis": {
           "automargin": true,
           "gridcolor": "white",
           "linecolor": "white",
           "ticks": "",
           "title": {
            "standoff": 15
           },
           "zerolinecolor": "white",
           "zerolinewidth": 2
          },
          "yaxis": {
           "automargin": true,
           "gridcolor": "white",
           "linecolor": "white",
           "ticks": "",
           "title": {
            "standoff": 15
           },
           "zerolinecolor": "white",
           "zerolinewidth": 2
          }
         }
        }
       }
      },
      "text/html": [
       "<div>                            <div id=\"de6af77a-af4e-4ee6-9e97-8b26e26e5e08\" class=\"plotly-graph-div\" style=\"height:525px; width:100%;\"></div>            <script type=\"text/javascript\">                require([\"plotly\"], function(Plotly) {                    window.PLOTLYENV=window.PLOTLYENV || {};                                    if (document.getElementById(\"de6af77a-af4e-4ee6-9e97-8b26e26e5e08\")) {                    Plotly.newPlot(                        \"de6af77a-af4e-4ee6-9e97-8b26e26e5e08\",                        [{\"marker\":{\"color\":\"indianred\"},\"text\":[1793.0,425.0,199.0,152.0,146.0,146.0,146.0,144.0,137.0,130.0,129.0,122.0,120.0,118.0,116.0,116.0,114.0,111.0,108.0,106.0,104.0,103.0,101.0,101.0,98.0,97.0,95.0,87.0,80.0,74.0,73.0,69.0,69.0,68.0,67.0,65.0,65.0,65.0,63.0,62.0,61.0,61.0,56.0,56.0,54.0,52.0,52.0,48.0,45.0,45.0,44.0,44.0,43.0,42.0,41.0,40.0,39.0,38.0,37.0,36.0,35.0,35.0,34.0,33.0,33.0,32.0,32.0,31.0,31.0,31.0,30.0,30.0,29.0,28.0,28.0,28.0,28.0,25.0,25.0,25.0,25.0,25.0,24.0,24.0,24.0,24.0,23.0,23.0,23.0,23.0,23.0,22.0,22.0,21.0,21.0,20.0,19.0,19.0,19.0,18.0,17.0,17.0,16.0,16.0,15.0,15.0,14.0,14.0,13.0,13.0,13.0,13.0,13.0,12.0,12.0,12.0,11.0,11.0,11.0,11.0,11.0,11.0,10.0,10.0,10.0,10.0,10.0,10.0,9.0,9.0,9.0,9.0,9.0,8.0,8.0,8.0,7.0,7.0,7.0,6.0,6.0,6.0,6.0,6.0,6.0,6.0,6.0,5.0,5.0,5.0,5.0,5.0,5.0,5.0,4.0,4.0,4.0,3.0,3.0,3.0,3.0,3.0,3.0,3.0,3.0,3.0,3.0,3.0,3.0,2.0,2.0,2.0,2.0,2.0,2.0,2.0,2.0,2.0,2.0,2.0,2.0,2.0,2.0,2.0,2.0,2.0,2.0,1.0,1.0,1.0,1.0,1.0,1.0,1.0,1.0,1.0,1.0,1.0,1.0,1.0,1.0,1.0,1.0,1.0,1.0,1.0,1.0,1.0,1.0,1.0,1.0,1.0,1.0,1.0,1.0,1.0,1.0,1.0,1.0,1.0],\"x\":[\"1 Season\",\"2 Seasons\",\"3 Seasons\",\"90 min\",\"94 min\",\"97 min\",\"93 min\",\"91 min\",\"95 min\",\"96 min\",\"92 min\",\"102 min\",\"98 min\",\"99 min\",\"101 min\",\"88 min\",\"103 min\",\"106 min\",\"100 min\",\"89 min\",\"104 min\",\"86 min\",\"105 min\",\"87 min\",\"107 min\",\"110 min\",\"4 Seasons\",\"108 min\",\"116 min\",\"112 min\",\"85 min\",\"113 min\",\"109 min\",\"111 min\",\"84 min\",\"118 min\",\"83 min\",\"5 Seasons\",\"119 min\",\"81 min\",\"115 min\",\"117 min\",\"120 min\",\"114 min\",\"121 min\",\"82 min\",\"124 min\",\"127 min\",\"122 min\",\"78 min\",\"123 min\",\"126 min\",\"80 min\",\"133 min\",\"128 min\",\"130 min\",\"135 min\",\"137 min\",\"132 min\",\"125 min\",\"75 min\",\"79 min\",\"131 min\",\"6 Seasons\",\"72 min\",\"63 min\",\"129 min\",\"76 min\",\"61 min\",\"74 min\",\"73 min\",\"77 min\",\"60 min\",\"71 min\",\"66 min\",\"69 min\",\"70 min\",\"140 min\",\"65 min\",\"58 min\",\"59 min\",\"68 min\",\"54 min\",\"46 min\",\"62 min\",\"53 min\",\"64 min\",\"136 min\",\"7 Seasons\",\"24 min\",\"143 min\",\"134 min\",\"139 min\",\"138 min\",\"67 min\",\"52 min\",\"44 min\",\"141 min\",\"148 min\",\"145 min\",\"150 min\",\"8 Seasons\",\"22 min\",\"55 min\",\"151 min\",\"149 min\",\"162 min\",\"57 min\",\"146 min\",\"23 min\",\"142 min\",\"154 min\",\"40 min\",\"158 min\",\"56 min\",\"147 min\",\"153 min\",\"163 min\",\"25 min\",\"51 min\",\"29 min\",\"47 min\",\"161 min\",\"45 min\",\"155 min\",\"28 min\",\"50 min\",\"156 min\",\"42 min\",\"32 min\",\"144 min\",\"9 Seasons\",\"49 min\",\"166 min\",\"165 min\",\"48 min\",\"168 min\",\"10 Seasons\",\"171 min\",\"173 min\",\"185 min\",\"26 min\",\"33 min\",\"159 min\",\"30 min\",\"160 min\",\"157 min\",\"176 min\",\"152 min\",\"170 min\",\"36 min\",\"177 min\",\"38 min\",\"35 min\",\"172 min\",\"181 min\",\"164 min\",\"14 min\",\"15 min\",\"13 min\",\"41 min\",\"17 min\",\"27 min\",\"34 min\",\"37 min\",\"12 min\",\"21 min\",\"182 min\",\"13 Seasons\",\"192 min\",\"19 min\",\"174 min\",\"11 min\",\"209 min\",\"187 min\",\"31 min\",\"12 Seasons\",\"39 min\",\"169 min\",\"180 min\",\"195 min\",\"179 min\",\"15 Seasons\",\"20 min\",\"190 min\",\"204 min\",\"11 Seasons\",\"200 min\",\"196 min\",\"43 min\",\"167 min\",\"229 min\",\"178 min\",\"228 min\",\"214 min\",\"18 min\",\"205 min\",\"201 min\",\"312 min\",\"17 Seasons\",\"3 min\",\"10 min\",\"8 min\",\"9 min\",\"224 min\",\"212 min\",\"203 min\",\"194 min\",\"233 min\",\"237 min\",\"230 min\",\"253 min\",\"273 min\",\"208 min\",\"5 min\",\"16 min\",\"186 min\",\"193 min\",\"189 min\",\"191 min\"],\"y\":[1793,425,199,152,146,146,146,144,137,130,129,122,120,118,116,116,114,111,108,106,104,103,101,101,98,97,95,87,80,74,73,69,69,68,67,65,65,65,63,62,61,61,56,56,54,52,52,48,45,45,44,44,43,42,41,40,39,38,37,36,35,35,34,33,33,32,32,31,31,31,30,30,29,28,28,28,28,25,25,25,25,25,24,24,24,24,23,23,23,23,23,22,22,21,21,20,19,19,19,18,17,17,16,16,15,15,14,14,13,13,13,13,13,12,12,12,11,11,11,11,11,11,10,10,10,10,10,10,9,9,9,9,9,8,8,8,7,7,7,6,6,6,6,6,6,6,6,5,5,5,5,5,5,5,4,4,4,3,3,3,3,3,3,3,3,3,3,3,3,2,2,2,2,2,2,2,2,2,2,2,2,2,2,2,2,2,2,1,1,1,1,1,1,1,1,1,1,1,1,1,1,1,1,1,1,1,1,1,1,1,1,1,1,1,1,1,1,1,1,1],\"type\":\"bar\",\"textposition\":\"outside\",\"texttemplate\":\"%{text:.2s}\"}],                        {\"template\":{\"data\":{\"histogram2dcontour\":[{\"type\":\"histogram2dcontour\",\"colorbar\":{\"outlinewidth\":0,\"ticks\":\"\"},\"colorscale\":[[0.0,\"#0d0887\"],[0.1111111111111111,\"#46039f\"],[0.2222222222222222,\"#7201a8\"],[0.3333333333333333,\"#9c179e\"],[0.4444444444444444,\"#bd3786\"],[0.5555555555555556,\"#d8576b\"],[0.6666666666666666,\"#ed7953\"],[0.7777777777777778,\"#fb9f3a\"],[0.8888888888888888,\"#fdca26\"],[1.0,\"#f0f921\"]]}],\"choropleth\":[{\"type\":\"choropleth\",\"colorbar\":{\"outlinewidth\":0,\"ticks\":\"\"}}],\"histogram2d\":[{\"type\":\"histogram2d\",\"colorbar\":{\"outlinewidth\":0,\"ticks\":\"\"},\"colorscale\":[[0.0,\"#0d0887\"],[0.1111111111111111,\"#46039f\"],[0.2222222222222222,\"#7201a8\"],[0.3333333333333333,\"#9c179e\"],[0.4444444444444444,\"#bd3786\"],[0.5555555555555556,\"#d8576b\"],[0.6666666666666666,\"#ed7953\"],[0.7777777777777778,\"#fb9f3a\"],[0.8888888888888888,\"#fdca26\"],[1.0,\"#f0f921\"]]}],\"heatmap\":[{\"type\":\"heatmap\",\"colorbar\":{\"outlinewidth\":0,\"ticks\":\"\"},\"colorscale\":[[0.0,\"#0d0887\"],[0.1111111111111111,\"#46039f\"],[0.2222222222222222,\"#7201a8\"],[0.3333333333333333,\"#9c179e\"],[0.4444444444444444,\"#bd3786\"],[0.5555555555555556,\"#d8576b\"],[0.6666666666666666,\"#ed7953\"],[0.7777777777777778,\"#fb9f3a\"],[0.8888888888888888,\"#fdca26\"],[1.0,\"#f0f921\"]]}],\"heatmapgl\":[{\"type\":\"heatmapgl\",\"colorbar\":{\"outlinewidth\":0,\"ticks\":\"\"},\"colorscale\":[[0.0,\"#0d0887\"],[0.1111111111111111,\"#46039f\"],[0.2222222222222222,\"#7201a8\"],[0.3333333333333333,\"#9c179e\"],[0.4444444444444444,\"#bd3786\"],[0.5555555555555556,\"#d8576b\"],[0.6666666666666666,\"#ed7953\"],[0.7777777777777778,\"#fb9f3a\"],[0.8888888888888888,\"#fdca26\"],[1.0,\"#f0f921\"]]}],\"contourcarpet\":[{\"type\":\"contourcarpet\",\"colorbar\":{\"outlinewidth\":0,\"ticks\":\"\"}}],\"contour\":[{\"type\":\"contour\",\"colorbar\":{\"outlinewidth\":0,\"ticks\":\"\"},\"colorscale\":[[0.0,\"#0d0887\"],[0.1111111111111111,\"#46039f\"],[0.2222222222222222,\"#7201a8\"],[0.3333333333333333,\"#9c179e\"],[0.4444444444444444,\"#bd3786\"],[0.5555555555555556,\"#d8576b\"],[0.6666666666666666,\"#ed7953\"],[0.7777777777777778,\"#fb9f3a\"],[0.8888888888888888,\"#fdca26\"],[1.0,\"#f0f921\"]]}],\"surface\":[{\"type\":\"surface\",\"colorbar\":{\"outlinewidth\":0,\"ticks\":\"\"},\"colorscale\":[[0.0,\"#0d0887\"],[0.1111111111111111,\"#46039f\"],[0.2222222222222222,\"#7201a8\"],[0.3333333333333333,\"#9c179e\"],[0.4444444444444444,\"#bd3786\"],[0.5555555555555556,\"#d8576b\"],[0.6666666666666666,\"#ed7953\"],[0.7777777777777778,\"#fb9f3a\"],[0.8888888888888888,\"#fdca26\"],[1.0,\"#f0f921\"]]}],\"mesh3d\":[{\"type\":\"mesh3d\",\"colorbar\":{\"outlinewidth\":0,\"ticks\":\"\"}}],\"scatter\":[{\"fillpattern\":{\"fillmode\":\"overlay\",\"size\":10,\"solidity\":0.2},\"type\":\"scatter\"}],\"parcoords\":[{\"type\":\"parcoords\",\"line\":{\"colorbar\":{\"outlinewidth\":0,\"ticks\":\"\"}}}],\"scatterpolargl\":[{\"type\":\"scatterpolargl\",\"marker\":{\"colorbar\":{\"outlinewidth\":0,\"ticks\":\"\"}}}],\"bar\":[{\"error_x\":{\"color\":\"#2a3f5f\"},\"error_y\":{\"color\":\"#2a3f5f\"},\"marker\":{\"line\":{\"color\":\"#E5ECF6\",\"width\":0.5},\"pattern\":{\"fillmode\":\"overlay\",\"size\":10,\"solidity\":0.2}},\"type\":\"bar\"}],\"scattergeo\":[{\"type\":\"scattergeo\",\"marker\":{\"colorbar\":{\"outlinewidth\":0,\"ticks\":\"\"}}}],\"scatterpolar\":[{\"type\":\"scatterpolar\",\"marker\":{\"colorbar\":{\"outlinewidth\":0,\"ticks\":\"\"}}}],\"histogram\":[{\"marker\":{\"pattern\":{\"fillmode\":\"overlay\",\"size\":10,\"solidity\":0.2}},\"type\":\"histogram\"}],\"scattergl\":[{\"type\":\"scattergl\",\"marker\":{\"colorbar\":{\"outlinewidth\":0,\"ticks\":\"\"}}}],\"scatter3d\":[{\"type\":\"scatter3d\",\"line\":{\"colorbar\":{\"outlinewidth\":0,\"ticks\":\"\"}},\"marker\":{\"colorbar\":{\"outlinewidth\":0,\"ticks\":\"\"}}}],\"scattermapbox\":[{\"type\":\"scattermapbox\",\"marker\":{\"colorbar\":{\"outlinewidth\":0,\"ticks\":\"\"}}}],\"scatterternary\":[{\"type\":\"scatterternary\",\"marker\":{\"colorbar\":{\"outlinewidth\":0,\"ticks\":\"\"}}}],\"scattercarpet\":[{\"type\":\"scattercarpet\",\"marker\":{\"colorbar\":{\"outlinewidth\":0,\"ticks\":\"\"}}}],\"carpet\":[{\"aaxis\":{\"endlinecolor\":\"#2a3f5f\",\"gridcolor\":\"white\",\"linecolor\":\"white\",\"minorgridcolor\":\"white\",\"startlinecolor\":\"#2a3f5f\"},\"baxis\":{\"endlinecolor\":\"#2a3f5f\",\"gridcolor\":\"white\",\"linecolor\":\"white\",\"minorgridcolor\":\"white\",\"startlinecolor\":\"#2a3f5f\"},\"type\":\"carpet\"}],\"table\":[{\"cells\":{\"fill\":{\"color\":\"#EBF0F8\"},\"line\":{\"color\":\"white\"}},\"header\":{\"fill\":{\"color\":\"#C8D4E3\"},\"line\":{\"color\":\"white\"}},\"type\":\"table\"}],\"barpolar\":[{\"marker\":{\"line\":{\"color\":\"#E5ECF6\",\"width\":0.5},\"pattern\":{\"fillmode\":\"overlay\",\"size\":10,\"solidity\":0.2}},\"type\":\"barpolar\"}],\"pie\":[{\"automargin\":true,\"type\":\"pie\"}]},\"layout\":{\"autotypenumbers\":\"strict\",\"colorway\":[\"#636efa\",\"#EF553B\",\"#00cc96\",\"#ab63fa\",\"#FFA15A\",\"#19d3f3\",\"#FF6692\",\"#B6E880\",\"#FF97FF\",\"#FECB52\"],\"font\":{\"color\":\"#2a3f5f\"},\"hovermode\":\"closest\",\"hoverlabel\":{\"align\":\"left\"},\"paper_bgcolor\":\"white\",\"plot_bgcolor\":\"#E5ECF6\",\"polar\":{\"bgcolor\":\"#E5ECF6\",\"angularaxis\":{\"gridcolor\":\"white\",\"linecolor\":\"white\",\"ticks\":\"\"},\"radialaxis\":{\"gridcolor\":\"white\",\"linecolor\":\"white\",\"ticks\":\"\"}},\"ternary\":{\"bgcolor\":\"#E5ECF6\",\"aaxis\":{\"gridcolor\":\"white\",\"linecolor\":\"white\",\"ticks\":\"\"},\"baxis\":{\"gridcolor\":\"white\",\"linecolor\":\"white\",\"ticks\":\"\"},\"caxis\":{\"gridcolor\":\"white\",\"linecolor\":\"white\",\"ticks\":\"\"}},\"coloraxis\":{\"colorbar\":{\"outlinewidth\":0,\"ticks\":\"\"}},\"colorscale\":{\"sequential\":[[0.0,\"#0d0887\"],[0.1111111111111111,\"#46039f\"],[0.2222222222222222,\"#7201a8\"],[0.3333333333333333,\"#9c179e\"],[0.4444444444444444,\"#bd3786\"],[0.5555555555555556,\"#d8576b\"],[0.6666666666666666,\"#ed7953\"],[0.7777777777777778,\"#fb9f3a\"],[0.8888888888888888,\"#fdca26\"],[1.0,\"#f0f921\"]],\"sequentialminus\":[[0.0,\"#0d0887\"],[0.1111111111111111,\"#46039f\"],[0.2222222222222222,\"#7201a8\"],[0.3333333333333333,\"#9c179e\"],[0.4444444444444444,\"#bd3786\"],[0.5555555555555556,\"#d8576b\"],[0.6666666666666666,\"#ed7953\"],[0.7777777777777778,\"#fb9f3a\"],[0.8888888888888888,\"#fdca26\"],[1.0,\"#f0f921\"]],\"diverging\":[[0,\"#8e0152\"],[0.1,\"#c51b7d\"],[0.2,\"#de77ae\"],[0.3,\"#f1b6da\"],[0.4,\"#fde0ef\"],[0.5,\"#f7f7f7\"],[0.6,\"#e6f5d0\"],[0.7,\"#b8e186\"],[0.8,\"#7fbc41\"],[0.9,\"#4d9221\"],[1,\"#276419\"]]},\"xaxis\":{\"gridcolor\":\"white\",\"linecolor\":\"white\",\"ticks\":\"\",\"title\":{\"standoff\":15},\"zerolinecolor\":\"white\",\"automargin\":true,\"zerolinewidth\":2},\"yaxis\":{\"gridcolor\":\"white\",\"linecolor\":\"white\",\"ticks\":\"\",\"title\":{\"standoff\":15},\"zerolinecolor\":\"white\",\"automargin\":true,\"zerolinewidth\":2},\"scene\":{\"xaxis\":{\"backgroundcolor\":\"#E5ECF6\",\"gridcolor\":\"white\",\"linecolor\":\"white\",\"showbackground\":true,\"ticks\":\"\",\"zerolinecolor\":\"white\",\"gridwidth\":2},\"yaxis\":{\"backgroundcolor\":\"#E5ECF6\",\"gridcolor\":\"white\",\"linecolor\":\"white\",\"showbackground\":true,\"ticks\":\"\",\"zerolinecolor\":\"white\",\"gridwidth\":2},\"zaxis\":{\"backgroundcolor\":\"#E5ECF6\",\"gridcolor\":\"white\",\"linecolor\":\"white\",\"showbackground\":true,\"ticks\":\"\",\"zerolinecolor\":\"white\",\"gridwidth\":2}},\"shapedefaults\":{\"line\":{\"color\":\"#2a3f5f\"}},\"annotationdefaults\":{\"arrowcolor\":\"#2a3f5f\",\"arrowhead\":0,\"arrowwidth\":1},\"geo\":{\"bgcolor\":\"white\",\"landcolor\":\"#E5ECF6\",\"subunitcolor\":\"white\",\"showland\":true,\"showlakes\":true,\"lakecolor\":\"white\"},\"title\":{\"x\":0.05},\"mapbox\":{\"style\":\"light\"}}}},                        {\"responsive\": true}                    ).then(function(){\n",
       "                            \n",
       "var gd = document.getElementById('de6af77a-af4e-4ee6-9e97-8b26e26e5e08');\n",
       "var x = new MutationObserver(function (mutations, observer) {{\n",
       "        var display = window.getComputedStyle(gd).display;\n",
       "        if (!display || display === 'none') {{\n",
       "            console.log([gd, 'removed!']);\n",
       "            Plotly.purge(gd);\n",
       "            observer.disconnect();\n",
       "        }}\n",
       "}});\n",
       "\n",
       "// Listen for the removal of the full notebook cells\n",
       "var notebookContainer = gd.closest('#notebook-container');\n",
       "if (notebookContainer) {{\n",
       "    x.observe(notebookContainer, {childList: true});\n",
       "}}\n",
       "\n",
       "// Listen for the clearing of the current output cell\n",
       "var outputEl = gd.closest('.output');\n",
       "if (outputEl) {{\n",
       "    x.observe(outputEl, {childList: true});\n",
       "}}\n",
       "\n",
       "                        })                };                });            </script>        </div>"
      ]
     },
     "metadata": {},
     "output_type": "display_data"
    }
   ],
   "source": [
    "fig = go.Figure([\n",
    "    go.Bar(x=topdirs.index, y=topdirs.values, text= topdirs.values, marker_color = 'indianred')\n",
    "])\n",
    "fig.update_traces(texttemplate = '%{text:.2s}',textposition = 'outside')\n",
    "fig.show()\n"
   ]
  },
  {
   "cell_type": "markdown",
   "id": "8d9aa56b",
   "metadata": {},
   "source": [
    "# Film Analysis "
   ]
  },
  {
   "cell_type": "code",
   "execution_count": 33,
   "id": "4679d09d",
   "metadata": {},
   "outputs": [
    {
     "data": {
      "text/plain": [
       "show_id            0\n",
       "type               0\n",
       "title              0\n",
       "director        2634\n",
       "cast             825\n",
       "country          831\n",
       "date_added        10\n",
       "release_year       0\n",
       "rating             4\n",
       "duration           3\n",
       "listed_in          0\n",
       "description        0\n",
       "dtype: int64"
      ]
     },
     "execution_count": 33,
     "metadata": {},
     "output_type": "execute_result"
    }
   ],
   "source": [
    "df.isnull().sum()"
   ]
  },
  {
   "cell_type": "code",
   "execution_count": 34,
   "id": "ed32345b",
   "metadata": {},
   "outputs": [
    {
     "data": {
      "text/plain": [
       "date_added    0\n",
       "dtype: int64"
      ]
     },
     "execution_count": 34,
     "metadata": {},
     "output_type": "execute_result"
    }
   ],
   "source": [
    "netflix_date = netflix_shows[['date_added']].dropna()\n",
    "netflix_date.isnull().sum()"
   ]
  },
  {
   "cell_type": "code",
   "execution_count": 27,
   "id": "ee2fd1f6",
   "metadata": {},
   "outputs": [
    {
     "data": {
      "text/html": [
       "<div>\n",
       "<style scoped>\n",
       "    .dataframe tbody tr th:only-of-type {\n",
       "        vertical-align: middle;\n",
       "    }\n",
       "\n",
       "    .dataframe tbody tr th {\n",
       "        vertical-align: top;\n",
       "    }\n",
       "\n",
       "    .dataframe thead th {\n",
       "        text-align: right;\n",
       "    }\n",
       "</style>\n",
       "<table border=\"1\" class=\"dataframe\">\n",
       "  <thead>\n",
       "    <tr style=\"text-align: right;\">\n",
       "      <th></th>\n",
       "      <th>date_added</th>\n",
       "    </tr>\n",
       "  </thead>\n",
       "  <tbody>\n",
       "    <tr>\n",
       "      <th>1</th>\n",
       "      <td>September 24, 2021</td>\n",
       "    </tr>\n",
       "    <tr>\n",
       "      <th>2</th>\n",
       "      <td>September 24, 2021</td>\n",
       "    </tr>\n",
       "    <tr>\n",
       "      <th>3</th>\n",
       "      <td>September 24, 2021</td>\n",
       "    </tr>\n",
       "    <tr>\n",
       "      <th>4</th>\n",
       "      <td>September 24, 2021</td>\n",
       "    </tr>\n",
       "    <tr>\n",
       "      <th>5</th>\n",
       "      <td>September 24, 2021</td>\n",
       "    </tr>\n",
       "    <tr>\n",
       "      <th>...</th>\n",
       "      <td>...</td>\n",
       "    </tr>\n",
       "    <tr>\n",
       "      <th>8795</th>\n",
       "      <td>May 1, 2018</td>\n",
       "    </tr>\n",
       "    <tr>\n",
       "      <th>8796</th>\n",
       "      <td>January 17, 2017</td>\n",
       "    </tr>\n",
       "    <tr>\n",
       "      <th>8797</th>\n",
       "      <td>September 13, 2018</td>\n",
       "    </tr>\n",
       "    <tr>\n",
       "      <th>8800</th>\n",
       "      <td>December 15, 2016</td>\n",
       "    </tr>\n",
       "    <tr>\n",
       "      <th>8803</th>\n",
       "      <td>July 1, 2019</td>\n",
       "    </tr>\n",
       "  </tbody>\n",
       "</table>\n",
       "<p>2666 rows × 1 columns</p>\n",
       "</div>"
      ],
      "text/plain": [
       "              date_added\n",
       "1     September 24, 2021\n",
       "2     September 24, 2021\n",
       "3     September 24, 2021\n",
       "4     September 24, 2021\n",
       "5     September 24, 2021\n",
       "...                  ...\n",
       "8795         May 1, 2018\n",
       "8796    January 17, 2017\n",
       "8797  September 13, 2018\n",
       "8800   December 15, 2016\n",
       "8803        July 1, 2019\n",
       "\n",
       "[2666 rows x 1 columns]"
      ]
     },
     "execution_count": 27,
     "metadata": {},
     "output_type": "execute_result"
    }
   ],
   "source": [
    "netflix_date"
   ]
  },
  {
   "cell_type": "code",
   "execution_count": 28,
   "id": "87da21a4",
   "metadata": {},
   "outputs": [
    {
     "data": {
      "text/html": [
       "<div>\n",
       "<style scoped>\n",
       "    .dataframe tbody tr th:only-of-type {\n",
       "        vertical-align: middle;\n",
       "    }\n",
       "\n",
       "    .dataframe tbody tr th {\n",
       "        vertical-align: top;\n",
       "    }\n",
       "\n",
       "    .dataframe thead th {\n",
       "        text-align: right;\n",
       "    }\n",
       "</style>\n",
       "<table border=\"1\" class=\"dataframe\">\n",
       "  <thead>\n",
       "    <tr style=\"text-align: right;\">\n",
       "      <th></th>\n",
       "      <th>date_added</th>\n",
       "      <th>year</th>\n",
       "      <th>month</th>\n",
       "    </tr>\n",
       "  </thead>\n",
       "  <tbody>\n",
       "    <tr>\n",
       "      <th>1</th>\n",
       "      <td>September 24, 2021</td>\n",
       "      <td>2021</td>\n",
       "      <td>September</td>\n",
       "    </tr>\n",
       "    <tr>\n",
       "      <th>2</th>\n",
       "      <td>September 24, 2021</td>\n",
       "      <td>2021</td>\n",
       "      <td>September</td>\n",
       "    </tr>\n",
       "    <tr>\n",
       "      <th>3</th>\n",
       "      <td>September 24, 2021</td>\n",
       "      <td>2021</td>\n",
       "      <td>September</td>\n",
       "    </tr>\n",
       "    <tr>\n",
       "      <th>4</th>\n",
       "      <td>September 24, 2021</td>\n",
       "      <td>2021</td>\n",
       "      <td>September</td>\n",
       "    </tr>\n",
       "    <tr>\n",
       "      <th>5</th>\n",
       "      <td>September 24, 2021</td>\n",
       "      <td>2021</td>\n",
       "      <td>September</td>\n",
       "    </tr>\n",
       "    <tr>\n",
       "      <th>...</th>\n",
       "      <td>...</td>\n",
       "      <td>...</td>\n",
       "      <td>...</td>\n",
       "    </tr>\n",
       "    <tr>\n",
       "      <th>8795</th>\n",
       "      <td>May 1, 2018</td>\n",
       "      <td>2018</td>\n",
       "      <td>May</td>\n",
       "    </tr>\n",
       "    <tr>\n",
       "      <th>8796</th>\n",
       "      <td>January 17, 2017</td>\n",
       "      <td>2017</td>\n",
       "      <td>January</td>\n",
       "    </tr>\n",
       "    <tr>\n",
       "      <th>8797</th>\n",
       "      <td>September 13, 2018</td>\n",
       "      <td>2018</td>\n",
       "      <td>September</td>\n",
       "    </tr>\n",
       "    <tr>\n",
       "      <th>8800</th>\n",
       "      <td>December 15, 2016</td>\n",
       "      <td>2016</td>\n",
       "      <td>December</td>\n",
       "    </tr>\n",
       "    <tr>\n",
       "      <th>8803</th>\n",
       "      <td>July 1, 2019</td>\n",
       "      <td>2019</td>\n",
       "      <td>July</td>\n",
       "    </tr>\n",
       "  </tbody>\n",
       "</table>\n",
       "<p>2666 rows × 3 columns</p>\n",
       "</div>"
      ],
      "text/plain": [
       "              date_added  year      month\n",
       "1     September 24, 2021  2021  September\n",
       "2     September 24, 2021  2021  September\n",
       "3     September 24, 2021  2021  September\n",
       "4     September 24, 2021  2021  September\n",
       "5     September 24, 2021  2021  September\n",
       "...                  ...   ...        ...\n",
       "8795         May 1, 2018  2018        May\n",
       "8796    January 17, 2017  2017    January\n",
       "8797  September 13, 2018  2018  September\n",
       "8800   December 15, 2016  2016   December\n",
       "8803        July 1, 2019  2019       July\n",
       "\n",
       "[2666 rows x 3 columns]"
      ]
     },
     "execution_count": 28,
     "metadata": {},
     "output_type": "execute_result"
    }
   ],
   "source": [
    "netflix_date['year'] = netflix_date['date_added'].apply(lambda x: x.split(', ')[-1])\n",
    "netflix_date['month'] = netflix_date['date_added'].apply(lambda x: x.lstrip().split(' ')[0])\n",
    "netflix_date"
   ]
  },
  {
   "cell_type": "code",
   "execution_count": 29,
   "id": "7267708b",
   "metadata": {},
   "outputs": [
    {
     "data": {
      "text/html": [
       "<div>\n",
       "<style scoped>\n",
       "    .dataframe tbody tr th:only-of-type {\n",
       "        vertical-align: middle;\n",
       "    }\n",
       "\n",
       "    .dataframe tbody tr th {\n",
       "        vertical-align: top;\n",
       "    }\n",
       "\n",
       "    .dataframe thead th {\n",
       "        text-align: right;\n",
       "    }\n",
       "</style>\n",
       "<table border=\"1\" class=\"dataframe\">\n",
       "  <thead>\n",
       "    <tr style=\"text-align: right;\">\n",
       "      <th></th>\n",
       "      <th>date_added</th>\n",
       "      <th>year</th>\n",
       "      <th>month</th>\n",
       "    </tr>\n",
       "  </thead>\n",
       "  <tbody>\n",
       "    <tr>\n",
       "      <th>6611</th>\n",
       "      <td>February 4, 2008</td>\n",
       "      <td>2008</td>\n",
       "      <td>February</td>\n",
       "    </tr>\n",
       "    <tr>\n",
       "      <th>5940</th>\n",
       "      <td>August 2, 2013</td>\n",
       "      <td>2013</td>\n",
       "      <td>August</td>\n",
       "    </tr>\n",
       "    <tr>\n",
       "      <th>7112</th>\n",
       "      <td>March 31, 2013</td>\n",
       "      <td>2013</td>\n",
       "      <td>March</td>\n",
       "    </tr>\n",
       "    <tr>\n",
       "      <th>6885</th>\n",
       "      <td>October 8, 2013</td>\n",
       "      <td>2013</td>\n",
       "      <td>October</td>\n",
       "    </tr>\n",
       "    <tr>\n",
       "      <th>7908</th>\n",
       "      <td>October 14, 2013</td>\n",
       "      <td>2013</td>\n",
       "      <td>October</td>\n",
       "    </tr>\n",
       "    <tr>\n",
       "      <th>...</th>\n",
       "      <td>...</td>\n",
       "      <td>...</td>\n",
       "      <td>...</td>\n",
       "    </tr>\n",
       "    <tr>\n",
       "      <th>153</th>\n",
       "      <td>September 1, 2021</td>\n",
       "      <td>2021</td>\n",
       "      <td>September</td>\n",
       "    </tr>\n",
       "    <tr>\n",
       "      <th>154</th>\n",
       "      <td>September 1, 2021</td>\n",
       "      <td>2021</td>\n",
       "      <td>September</td>\n",
       "    </tr>\n",
       "    <tr>\n",
       "      <th>160</th>\n",
       "      <td>September 1, 2021</td>\n",
       "      <td>2021</td>\n",
       "      <td>September</td>\n",
       "    </tr>\n",
       "    <tr>\n",
       "      <th>165</th>\n",
       "      <td>September 1, 2021</td>\n",
       "      <td>2021</td>\n",
       "      <td>September</td>\n",
       "    </tr>\n",
       "    <tr>\n",
       "      <th>181</th>\n",
       "      <td>September 1, 2021</td>\n",
       "      <td>2021</td>\n",
       "      <td>September</td>\n",
       "    </tr>\n",
       "  </tbody>\n",
       "</table>\n",
       "<p>2666 rows × 3 columns</p>\n",
       "</div>"
      ],
      "text/plain": [
       "             date_added  year      month\n",
       "6611   February 4, 2008  2008   February\n",
       "5940     August 2, 2013  2013     August\n",
       "7112     March 31, 2013  2013      March\n",
       "6885    October 8, 2013  2013    October\n",
       "7908   October 14, 2013  2013    October\n",
       "...                 ...   ...        ...\n",
       "153   September 1, 2021  2021  September\n",
       "154   September 1, 2021  2021  September\n",
       "160   September 1, 2021  2021  September\n",
       "165   September 1, 2021  2021  September\n",
       "181   September 1, 2021  2021  September\n",
       "\n",
       "[2666 rows x 3 columns]"
      ]
     },
     "execution_count": 29,
     "metadata": {},
     "output_type": "execute_result"
    }
   ],
   "source": [
    "netflix_date.sort_values(by =['year', 'month'])"
   ]
  },
  {
   "cell_type": "code",
   "execution_count": 30,
   "id": "6e234c7d",
   "metadata": {},
   "outputs": [
    {
     "data": {
      "text/plain": [
       "array(['September', 'August', 'July', 'June', 'May', 'April', 'March',\n",
       "       'February', 'January', 'December', 'November', 'October'],\n",
       "      dtype=object)"
      ]
     },
     "execution_count": 30,
     "metadata": {},
     "output_type": "execute_result"
    }
   ],
   "source": [
    "netflix_date['month'].unique()"
   ]
  },
  {
   "cell_type": "code",
   "execution_count": 31,
   "id": "97307ebe",
   "metadata": {},
   "outputs": [],
   "source": [
    "month_order = ['January', 'February','March','April', 'May','June', 'July', 'August', 'September','October','November', 'December']"
   ]
  },
  {
   "cell_type": "code",
   "execution_count": 32,
   "id": "23c40708",
   "metadata": {},
   "outputs": [
    {
     "data": {
      "text/html": [
       "<div>\n",
       "<style scoped>\n",
       "    .dataframe tbody tr th:only-of-type {\n",
       "        vertical-align: middle;\n",
       "    }\n",
       "\n",
       "    .dataframe tbody tr th {\n",
       "        vertical-align: top;\n",
       "    }\n",
       "\n",
       "    .dataframe thead th {\n",
       "        text-align: right;\n",
       "    }\n",
       "</style>\n",
       "<table border=\"1\" class=\"dataframe\">\n",
       "  <thead>\n",
       "    <tr style=\"text-align: right;\">\n",
       "      <th>year</th>\n",
       "      <th>2008</th>\n",
       "      <th>2013</th>\n",
       "      <th>2014</th>\n",
       "      <th>2015</th>\n",
       "      <th>2016</th>\n",
       "      <th>2017</th>\n",
       "      <th>2018</th>\n",
       "      <th>2019</th>\n",
       "      <th>2020</th>\n",
       "      <th>2021</th>\n",
       "    </tr>\n",
       "    <tr>\n",
       "      <th>month</th>\n",
       "      <th></th>\n",
       "      <th></th>\n",
       "      <th></th>\n",
       "      <th></th>\n",
       "      <th></th>\n",
       "      <th></th>\n",
       "      <th></th>\n",
       "      <th></th>\n",
       "      <th></th>\n",
       "      <th></th>\n",
       "    </tr>\n",
       "  </thead>\n",
       "  <tbody>\n",
       "    <tr>\n",
       "      <th>January</th>\n",
       "      <td>0.0</td>\n",
       "      <td>0.0</td>\n",
       "      <td>0.0</td>\n",
       "      <td>0.0</td>\n",
       "      <td>28.0</td>\n",
       "      <td>14.0</td>\n",
       "      <td>24.0</td>\n",
       "      <td>37.0</td>\n",
       "      <td>53.0</td>\n",
       "      <td>36.0</td>\n",
       "    </tr>\n",
       "    <tr>\n",
       "      <th>February</th>\n",
       "      <td>1.0</td>\n",
       "      <td>0.0</td>\n",
       "      <td>1.0</td>\n",
       "      <td>1.0</td>\n",
       "      <td>6.0</td>\n",
       "      <td>17.0</td>\n",
       "      <td>24.0</td>\n",
       "      <td>45.0</td>\n",
       "      <td>42.0</td>\n",
       "      <td>44.0</td>\n",
       "    </tr>\n",
       "    <tr>\n",
       "      <th>March</th>\n",
       "      <td>0.0</td>\n",
       "      <td>1.0</td>\n",
       "      <td>0.0</td>\n",
       "      <td>2.0</td>\n",
       "      <td>3.0</td>\n",
       "      <td>38.0</td>\n",
       "      <td>35.0</td>\n",
       "      <td>53.0</td>\n",
       "      <td>44.0</td>\n",
       "      <td>37.0</td>\n",
       "    </tr>\n",
       "    <tr>\n",
       "      <th>April</th>\n",
       "      <td>0.0</td>\n",
       "      <td>0.0</td>\n",
       "      <td>1.0</td>\n",
       "      <td>4.0</td>\n",
       "      <td>8.0</td>\n",
       "      <td>27.0</td>\n",
       "      <td>28.0</td>\n",
       "      <td>43.0</td>\n",
       "      <td>50.0</td>\n",
       "      <td>53.0</td>\n",
       "    </tr>\n",
       "    <tr>\n",
       "      <th>May</th>\n",
       "      <td>0.0</td>\n",
       "      <td>0.0</td>\n",
       "      <td>0.0</td>\n",
       "      <td>1.0</td>\n",
       "      <td>4.0</td>\n",
       "      <td>23.0</td>\n",
       "      <td>27.0</td>\n",
       "      <td>48.0</td>\n",
       "      <td>52.0</td>\n",
       "      <td>38.0</td>\n",
       "    </tr>\n",
       "    <tr>\n",
       "      <th>June</th>\n",
       "      <td>0.0</td>\n",
       "      <td>0.0</td>\n",
       "      <td>0.0</td>\n",
       "      <td>2.0</td>\n",
       "      <td>7.0</td>\n",
       "      <td>29.0</td>\n",
       "      <td>28.0</td>\n",
       "      <td>46.0</td>\n",
       "      <td>41.0</td>\n",
       "      <td>83.0</td>\n",
       "    </tr>\n",
       "    <tr>\n",
       "      <th>July</th>\n",
       "      <td>0.0</td>\n",
       "      <td>0.0</td>\n",
       "      <td>0.0</td>\n",
       "      <td>2.0</td>\n",
       "      <td>9.0</td>\n",
       "      <td>34.0</td>\n",
       "      <td>27.0</td>\n",
       "      <td>59.0</td>\n",
       "      <td>43.0</td>\n",
       "      <td>88.0</td>\n",
       "    </tr>\n",
       "    <tr>\n",
       "      <th>August</th>\n",
       "      <td>0.0</td>\n",
       "      <td>1.0</td>\n",
       "      <td>0.0</td>\n",
       "      <td>0.0</td>\n",
       "      <td>11.0</td>\n",
       "      <td>38.0</td>\n",
       "      <td>34.0</td>\n",
       "      <td>44.0</td>\n",
       "      <td>47.0</td>\n",
       "      <td>61.0</td>\n",
       "    </tr>\n",
       "    <tr>\n",
       "      <th>September</th>\n",
       "      <td>0.0</td>\n",
       "      <td>1.0</td>\n",
       "      <td>0.0</td>\n",
       "      <td>1.0</td>\n",
       "      <td>19.0</td>\n",
       "      <td>32.0</td>\n",
       "      <td>43.0</td>\n",
       "      <td>37.0</td>\n",
       "      <td>53.0</td>\n",
       "      <td>65.0</td>\n",
       "    </tr>\n",
       "    <tr>\n",
       "      <th>October</th>\n",
       "      <td>0.0</td>\n",
       "      <td>2.0</td>\n",
       "      <td>0.0</td>\n",
       "      <td>4.0</td>\n",
       "      <td>19.0</td>\n",
       "      <td>29.0</td>\n",
       "      <td>45.0</td>\n",
       "      <td>65.0</td>\n",
       "      <td>51.0</td>\n",
       "      <td>0.0</td>\n",
       "    </tr>\n",
       "    <tr>\n",
       "      <th>November</th>\n",
       "      <td>0.0</td>\n",
       "      <td>0.0</td>\n",
       "      <td>2.0</td>\n",
       "      <td>2.0</td>\n",
       "      <td>18.0</td>\n",
       "      <td>30.0</td>\n",
       "      <td>36.0</td>\n",
       "      <td>68.0</td>\n",
       "      <td>51.0</td>\n",
       "      <td>0.0</td>\n",
       "    </tr>\n",
       "    <tr>\n",
       "      <th>December</th>\n",
       "      <td>0.0</td>\n",
       "      <td>0.0</td>\n",
       "      <td>1.0</td>\n",
       "      <td>7.0</td>\n",
       "      <td>44.0</td>\n",
       "      <td>38.0</td>\n",
       "      <td>61.0</td>\n",
       "      <td>47.0</td>\n",
       "      <td>68.0</td>\n",
       "      <td>0.0</td>\n",
       "    </tr>\n",
       "  </tbody>\n",
       "</table>\n",
       "</div>"
      ],
      "text/plain": [
       "year       2008  2013  2014  2015  2016  2017  2018  2019  2020  2021\n",
       "month                                                                \n",
       "January     0.0   0.0   0.0   0.0  28.0  14.0  24.0  37.0  53.0  36.0\n",
       "February    1.0   0.0   1.0   1.0   6.0  17.0  24.0  45.0  42.0  44.0\n",
       "March       0.0   1.0   0.0   2.0   3.0  38.0  35.0  53.0  44.0  37.0\n",
       "April       0.0   0.0   1.0   4.0   8.0  27.0  28.0  43.0  50.0  53.0\n",
       "May         0.0   0.0   0.0   1.0   4.0  23.0  27.0  48.0  52.0  38.0\n",
       "June        0.0   0.0   0.0   2.0   7.0  29.0  28.0  46.0  41.0  83.0\n",
       "July        0.0   0.0   0.0   2.0   9.0  34.0  27.0  59.0  43.0  88.0\n",
       "August      0.0   1.0   0.0   0.0  11.0  38.0  34.0  44.0  47.0  61.0\n",
       "September   0.0   1.0   0.0   1.0  19.0  32.0  43.0  37.0  53.0  65.0\n",
       "October     0.0   2.0   0.0   4.0  19.0  29.0  45.0  65.0  51.0   0.0\n",
       "November    0.0   0.0   2.0   2.0  18.0  30.0  36.0  68.0  51.0   0.0\n",
       "December    0.0   0.0   1.0   7.0  44.0  38.0  61.0  47.0  68.0   0.0"
      ]
     },
     "execution_count": 32,
     "metadata": {},
     "output_type": "execute_result"
    }
   ],
   "source": [
    "drt = netflix_date.groupby('year')['month'].value_counts().unstack().fillna(0)[month_order].T\n",
    "drt"
   ]
  },
  {
   "cell_type": "code",
   "execution_count": 35,
   "id": "53477f9e",
   "metadata": {},
   "outputs": [
    {
     "data": {
      "image/png": "[encoded data removed]",
      "text/plain": [
       "<Figure size 1000x800 with 2 Axes>"
      ]
     },
     "metadata": {},
     "output_type": "display_data"
    }
   ],
   "source": [
    "plt.figure(figsize = (10,8), dpi = 100)\n",
    "plt.pcolor(drt, cmap = 'GnBu',edgecolors = 'white', linewidths = 2)\n",
    "plt.xticks(np.arange(0.5, len(drt.columns), 1),drt.columns, fontsize = 7)\n",
    "plt.yticks(np.arange(0.5, len(drt.index), 1), drt.index, fontsize = 7)\n",
    "\n",
    "plt.title('Netflix Content Update', fontsize = 12, fontweight = 'bold')\n",
    "cbar = plt.colorbar()\n",
    "\n",
    "cbar.ax.tick_params(labelsize = 8)\n",
    "cbar.ax.minorticks_on()\n",
    "plt.show()"
   ]
  },
  {
   "cell_type": "markdown",
   "id": "5fdd19cb",
   "metadata": {},
   "source": [
    "# Analysis Movie Rating "
   ]
  },
  {
   "cell_type": "code",
   "execution_count": 36,
   "id": "60c9484b",
   "metadata": {},
   "outputs": [
    {
     "data": {
      "image/png": "[encoded data removed]",
      "text/plain": [
       "<Figure size 1200x1000 with 1 Axes>"
      ]
     },
     "metadata": {},
     "output_type": "display_data"
    }
   ],
   "source": [
    "plt.figure(figsize = (12,10))\n",
    "sns.set(style = 'darkgrid')\n",
    "ax = sns.countplot(x = 'rating', data = netflix_movies, palette = 'Set2', order = netflix_movies['rating'].value_counts().index[0:15])"
   ]
  },
  {
   "cell_type": "markdown",
   "id": "d3edabb7",
   "metadata": {},
   "source": [
    "# Film release year analysis"
   ]
  },
  {
   "cell_type": "code",
   "execution_count": 37,
   "id": "bbedcd0e",
   "metadata": {},
   "outputs": [
    {
     "data": {
      "image/png": "[encoded data removed]",
      "text/plain": [
       "<Figure size 1200x1000 with 1 Axes>"
      ]
     },
     "metadata": {},
     "output_type": "display_data"
    }
   ],
   "source": [
    "plt.figure(figsize = (12,10))\n",
    "sns.set(style = 'darkgrid')\n",
    "ax = sns.countplot(y = 'release_year', data = netflix_movies, palette = 'Set2', order = netflix_movies['release_year'].value_counts().index[0:15])"
   ]
  },
  {
   "cell_type": "markdown",
   "id": "c00278ec",
   "metadata": {},
   "source": [
    "# Top 10 countries that produce films "
   ]
  },
  {
   "cell_type": "code",
   "execution_count": 38,
   "id": "00e9d07a",
   "metadata": {},
   "outputs": [
    {
     "data": {
      "text/plain": [
       "show_id           0\n",
       "type              0\n",
       "title             0\n",
       "director        188\n",
       "cast            475\n",
       "country         440\n",
       "date_added        0\n",
       "release_year      0\n",
       "rating            2\n",
       "duration          3\n",
       "listed_in         0\n",
       "description       0\n",
       "dtype: int64"
      ]
     },
     "execution_count": 38,
     "metadata": {},
     "output_type": "execute_result"
    }
   ],
   "source": [
    "netflix_movies.isnull().sum()"
   ]
  },
  {
   "cell_type": "code",
   "execution_count": 40,
   "id": "44957e71",
   "metadata": {},
   "outputs": [
    {
     "data": {
      "text/plain": [
       "show_id           0\n",
       "type              0\n",
       "title             0\n",
       "director        188\n",
       "cast            475\n",
       "country           0\n",
       "date_added        0\n",
       "release_year      0\n",
       "rating            2\n",
       "duration          3\n",
       "listed_in         0\n",
       "description       0\n",
       "dtype: int64"
      ]
     },
     "execution_count": 40,
     "metadata": {},
     "output_type": "execute_result"
    }
   ],
   "source": [
    "netflix_movies['country'].fillna('Unknown', inplace = True)\n",
    "netflix_movies.isnull().sum()"
   ]
  },
  {
   "cell_type": "code",
   "execution_count": 41,
   "id": "a2255387",
   "metadata": {},
   "outputs": [
    {
     "data": {
      "text/plain": [
       "United States                            2058\n",
       "India                                     893\n",
       "Unknown                                   440\n",
       "United Kingdom                            206\n",
       "Canada                                    122\n",
       "                                         ... \n",
       "United Kingdom, Russia, United States       1\n",
       "Paraguay, Argentina                         1\n",
       "United Kingdom, Malawi                      1\n",
       "Austria, Iraq, United States                1\n",
       "United Arab Emirates, Jordan                1\n",
       "Name: country, Length: 652, dtype: int64"
      ]
     },
     "execution_count": 41,
     "metadata": {},
     "output_type": "execute_result"
    }
   ],
   "source": [
    "netflix_movies['country'].value_counts()"
   ]
  },
  {
   "cell_type": "code",
   "execution_count": 42,
   "id": "8e04a1c6",
   "metadata": {},
   "outputs": [],
   "source": [
    "country_mov = {}\n",
    "cou = list(netflix_movies['country'])\n",
    "for i in cou:\n",
    "    i = i.replace(' ', '')\n",
    "    i = list(i.split(','))\n",
    "    \n",
    "    for j in i:\n",
    "        if j in list(country_mov.keys()):\n",
    "            country_mov[j] +=1\n",
    "        else:\n",
    "            country_mov[j] = 1"
   ]
  },
  {
   "cell_type": "code",
   "execution_count": 43,
   "id": "7b68f300",
   "metadata": {},
   "outputs": [
    {
     "data": {
      "text/plain": [
       "{'UnitedStates': 2752,\n",
       " 'Unknown': 440,\n",
       " 'Ghana': 5,\n",
       " 'BurkinaFaso': 1,\n",
       " 'UnitedKingdom': 534,\n",
       " 'Germany': 182,\n",
       " 'Ethiopia': 1,\n",
       " 'CzechRepublic': 16,\n",
       " 'India': 962,\n",
       " 'France': 303,\n",
       " 'China': 114,\n",
       " 'Canada': 319,\n",
       " 'SouthAfrica': 51,\n",
       " 'Japan': 119,\n",
       " 'Nigeria': 94,\n",
       " 'Spain': 171,\n",
       " 'Australia': 94,\n",
       " 'Mexico': 111,\n",
       " 'Italy': 75,\n",
       " 'Romania': 14,\n",
       " 'Argentina': 71,\n",
       " 'Venezuela': 4,\n",
       " 'HongKong': 100,\n",
       " 'Nepal': 2,\n",
       " 'NewZealand': 25,\n",
       " 'Brazil': 66,\n",
       " 'Greece': 9,\n",
       " 'Colombia': 20,\n",
       " 'Belgium': 78,\n",
       " 'Switzerland': 18,\n",
       " 'Bulgaria': 10,\n",
       " '': 6,\n",
       " 'Algeria': 3,\n",
       " 'Poland': 32,\n",
       " 'Israel': 19,\n",
       " 'SaudiArabia': 9,\n",
       " 'Thailand': 46,\n",
       " 'Indonesia': 86,\n",
       " 'Egypt': 102,\n",
       " 'Denmark': 34,\n",
       " 'Kuwait': 5,\n",
       " 'Netherlands': 42,\n",
       " 'Singapore': 18,\n",
       " 'Malaysia': 18,\n",
       " 'SouthKorea': 61,\n",
       " 'Vietnam': 7,\n",
       " 'Hungary': 10,\n",
       " 'Lebanon': 24,\n",
       " 'Syria': 2,\n",
       " 'Philippines': 80,\n",
       " 'UnitedArabEmirates': 36,\n",
       " 'Sweden': 31,\n",
       " 'Qatar': 10,\n",
       " 'Mauritius': 1,\n",
       " 'Austria': 11,\n",
       " 'Turkey': 83,\n",
       " 'Russia': 11,\n",
       " 'Taiwan': 19,\n",
       " 'Cameroon': 1,\n",
       " 'Palestine': 1,\n",
       " 'Ireland': 32,\n",
       " 'Kenya': 6,\n",
       " 'Chile': 24,\n",
       " 'Uruguay': 13,\n",
       " 'Cambodia': 6,\n",
       " 'Bangladesh': 4,\n",
       " 'Portugal': 6,\n",
       " 'CaymanIslands': 2,\n",
       " 'Norway': 21,\n",
       " 'Iceland': 8,\n",
       " 'Serbia': 7,\n",
       " 'Malta': 2,\n",
       " 'Luxembourg': 10,\n",
       " 'Namibia': 2,\n",
       " 'Angola': 1,\n",
       " 'Peru': 10,\n",
       " 'Mozambique': 1,\n",
       " 'Jordan': 7,\n",
       " 'Zimbabwe': 3,\n",
       " 'Pakistan': 20,\n",
       " 'Guatemala': 2,\n",
       " 'Senegal': 2,\n",
       " 'Finland': 7,\n",
       " 'Iraq': 2,\n",
       " 'Malawi': 1,\n",
       " 'Paraguay': 1,\n",
       " 'Iran': 4,\n",
       " 'Albania': 1,\n",
       " 'Georgia': 2,\n",
       " 'SovietUnion': 3,\n",
       " 'Morocco': 6,\n",
       " 'Slovakia': 1,\n",
       " 'WestGermany': 3,\n",
       " 'Ukraine': 1,\n",
       " 'Bermuda': 1,\n",
       " 'Ecuador': 1,\n",
       " 'Armenia': 1,\n",
       " 'Mongolia': 1,\n",
       " 'Bahamas': 1,\n",
       " 'SriLanka': 1,\n",
       " 'Latvia': 1,\n",
       " 'Liechtenstein': 1,\n",
       " 'Nicaragua': 1,\n",
       " 'Croatia': 3,\n",
       " 'Slovenia': 3,\n",
       " 'DominicanRepublic': 1,\n",
       " 'Samoa': 1,\n",
       " 'Botswana': 1,\n",
       " 'VaticanCity': 1,\n",
       " 'Jamaica': 1,\n",
       " 'Kazakhstan': 1,\n",
       " 'Lithuania': 1,\n",
       " 'Afghanistan': 1,\n",
       " 'Somalia': 1,\n",
       " 'Sudan': 1,\n",
       " 'Panama': 1,\n",
       " 'Uganda': 1,\n",
       " 'EastGermany': 1,\n",
       " 'Montenegro': 1}"
      ]
     },
     "execution_count": 43,
     "metadata": {},
     "output_type": "execute_result"
    }
   ],
   "source": [
    "country_mov"
   ]
  },
  {
   "cell_type": "code",
   "execution_count": 44,
   "id": "08a0325b",
   "metadata": {},
   "outputs": [
    {
     "data": {
      "text/plain": [
       "[('UnitedStates', 2752),\n",
       " ('India', 962),\n",
       " ('UnitedKingdom', 534),\n",
       " ('Unknown', 440),\n",
       " ('Canada', 319),\n",
       " ('France', 303),\n",
       " ('Germany', 182),\n",
       " ('Spain', 171),\n",
       " ('Japan', 119),\n",
       " ('China', 114)]"
      ]
     },
     "execution_count": 44,
     "metadata": {},
     "output_type": "execute_result"
    }
   ],
   "source": [
    "countries_fin  = sorted(country_mov.items(), key = lambda item: country_mov[item[0]], reverse = True)\n",
    "countries_fin = countries_fin[:10]\n",
    "countries_fin"
   ]
  },
  {
   "cell_type": "code",
   "execution_count": 45,
   "id": "a22a9520",
   "metadata": {},
   "outputs": [
    {
     "data": {
      "text/plain": [
       "['UnitedStates',\n",
       " 'India',\n",
       " 'UnitedKingdom',\n",
       " 'Unknown',\n",
       " 'Canada',\n",
       " 'France',\n",
       " 'Germany',\n",
       " 'Spain',\n",
       " 'Japan',\n",
       " 'China']"
      ]
     },
     "execution_count": 45,
     "metadata": {},
     "output_type": "execute_result"
    }
   ],
   "source": [
    "names = [name for name, value in countries_fin]\n",
    "names"
   ]
  },
  {
   "cell_type": "code",
   "execution_count": 46,
   "id": "a79cada3",
   "metadata": {},
   "outputs": [
    {
     "data": {
      "text/plain": [
       "[2752, 962, 534, 440, 319, 303, 182, 171, 119, 114]"
      ]
     },
     "execution_count": 46,
     "metadata": {},
     "output_type": "execute_result"
    }
   ],
   "source": [
    "values = [values for values, values in countries_fin]\n",
    "values"
   ]
  },
  {
   "cell_type": "code",
   "execution_count": 47,
   "id": "92e6f56c",
   "metadata": {},
   "outputs": [
    {
     "data": {
      "text/plain": [
       "[Text(0, 0, 'UnitedStates'),\n",
       " Text(1, 0, 'India'),\n",
       " Text(2, 0, 'UnitedKingdom'),\n",
       " Text(3, 0, 'Unknown'),\n",
       " Text(4, 0, 'Canada'),\n",
       " Text(5, 0, 'France'),\n",
       " Text(6, 0, 'Germany'),\n",
       " Text(7, 0, 'Spain'),\n",
       " Text(8, 0, 'Japan'),\n",
       " Text(9, 0, 'China')]"
      ]
     },
     "execution_count": 47,
     "metadata": {},
     "output_type": "execute_result"
    },
    {
     "data": {
      "image/png": "[encoded data removed]",
      "text/plain": [
       "<Figure size 800x800 with 1 Axes>"
      ]
     },
     "metadata": {},
     "output_type": "display_data"
    }
   ],
   "source": [
    "plt.figure(figsize = (8,8))\n",
    "ax = sns.barplot(x= names , y = values)\n",
    "ax.set_xticklabels(names, rotation = 45)"
   ]
  },
  {
   "cell_type": "markdown",
   "id": "58bb55fc",
   "metadata": {},
   "source": [
    "# Movie length Analysis "
   ]
  },
  {
   "cell_type": "code",
   "execution_count": 48,
   "id": "a0ad36d2",
   "metadata": {},
   "outputs": [
    {
     "data": {
      "text/plain": [
       "0        90 min\n",
       "6        91 min\n",
       "7       125 min\n",
       "9       104 min\n",
       "12      127 min\n",
       "         ...   \n",
       "8801     96 min\n",
       "8802    158 min\n",
       "8804     88 min\n",
       "8805     88 min\n",
       "8806    111 min\n",
       "Name: duration, Length: 6131, dtype: object"
      ]
     },
     "execution_count": 48,
     "metadata": {},
     "output_type": "execute_result"
    }
   ],
   "source": [
    "netflix_movies['duration']"
   ]
  },
  {
   "cell_type": "code",
   "execution_count": 49,
   "id": "9dff9b95",
   "metadata": {},
   "outputs": [
    {
     "data": {
      "text/plain": [
       "3"
      ]
     },
     "execution_count": 49,
     "metadata": {},
     "output_type": "execute_result"
    }
   ],
   "source": [
    "netflix_movies['duration'].isnull().sum()"
   ]
  },
  {
   "cell_type": "code",
   "execution_count": 50,
   "id": "79e560a8",
   "metadata": {},
   "outputs": [],
   "source": [
    "netflix_movies['duration'] = pd.to_numeric(netflix_movies['duration'].str.replace(' min', ''), errors='coerce')\n",
    "\n",
    "median_duration = netflix_movies['duration'].median()\n",
    "netflix_movies['duration'] = netflix_movies['duration'].fillna(median_duration)\n",
    "\n",
    "netflix_movies['duration'] = netflix_movies['duration'].astype(int)"
   ]
  },
  {
   "cell_type": "code",
   "execution_count": 51,
   "id": "49857553",
   "metadata": {},
   "outputs": [
    {
     "data": {
      "text/plain": [
       "0        90\n",
       "6        91\n",
       "7       125\n",
       "9       104\n",
       "12      127\n",
       "       ... \n",
       "8801     96\n",
       "8802    158\n",
       "8804     88\n",
       "8805     88\n",
       "8806    111\n",
       "Name: duration, Length: 6131, dtype: int32"
      ]
     },
     "execution_count": 51,
     "metadata": {},
     "output_type": "execute_result"
    }
   ],
   "source": [
    "netflix_movies['duration']"
   ]
  },
  {
   "cell_type": "code",
   "execution_count": 53,
   "id": "a9343ad1",
   "metadata": {},
   "outputs": [
    {
     "data": {
      "image/png": "[encoded data removed]",
      "text/plain": [
       "<Figure size 1000x800 with 1 Axes>"
      ]
     },
     "metadata": {},
     "output_type": "display_data"
    }
   ],
   "source": [
    "sns.set(style = 'darkgrid')\n",
    "plt.figure(figsize = (10,8))\n",
    "sns.kdeplot(data = netflix_movies['duration'], fill= True);"
   ]
  },
  {
   "cell_type": "markdown",
   "id": "07367a5f",
   "metadata": {},
   "source": [
    "# Genre Analysis "
   ]
  },
  {
   "cell_type": "code",
   "execution_count": 54,
   "id": "e05568f2",
   "metadata": {},
   "outputs": [
    {
     "data": {
      "text/plain": [
       "0                                          Documentaries\n",
       "6                               Children & Family Movies\n",
       "7       Dramas, Independent Movies, International Movies\n",
       "9                                       Comedies, Dramas\n",
       "12                          Dramas, International Movies\n",
       "                              ...                       \n",
       "8801             Dramas, International Movies, Thrillers\n",
       "8802                      Cult Movies, Dramas, Thrillers\n",
       "8804                             Comedies, Horror Movies\n",
       "8805                  Children & Family Movies, Comedies\n",
       "8806      Dramas, International Movies, Music & Musicals\n",
       "Name: listed_in, Length: 6131, dtype: object"
      ]
     },
     "execution_count": 54,
     "metadata": {},
     "output_type": "execute_result"
    }
   ],
   "source": [
    "netflix_movies['listed_in']"
   ]
  },
  {
   "cell_type": "code",
   "execution_count": 55,
   "id": "34e15c76",
   "metadata": {},
   "outputs": [],
   "source": [
    "genres = list(netflix_movies['listed_in'])\n",
    "gen  = []\n",
    "for i in genres:\n",
    "    i = list(i.split(','))\n",
    "    for j in i:\n",
    "        gen.append(j.replace(' ', ''))\n",
    "g = Counter(gen)"
   ]
  },
  {
   "cell_type": "code",
   "execution_count": 56,
   "id": "a37e83de",
   "metadata": {},
   "outputs": [],
   "source": [
    "g = sorted(g.items(), key = lambda item: g[item[0]], reverse = True)"
   ]
  },
  {
   "cell_type": "code",
   "execution_count": 57,
   "id": "29a3c53f",
   "metadata": {},
   "outputs": [
    {
     "data": {
      "text/plain": [
       "[('InternationalMovies', 2752),\n",
       " ('Dramas', 2427),\n",
       " ('Comedies', 1674),\n",
       " ('Documentaries', 869),\n",
       " ('Action&Adventure', 859),\n",
       " ('IndependentMovies', 756),\n",
       " ('Children&FamilyMovies', 641),\n",
       " ('RomanticMovies', 616),\n",
       " ('Thrillers', 577),\n",
       " ('Music&Musicals', 375),\n",
       " ('HorrorMovies', 357),\n",
       " ('Stand-UpComedy', 343),\n",
       " ('Sci-Fi&Fantasy', 243),\n",
       " ('SportsMovies', 219),\n",
       " ('ClassicMovies', 116),\n",
       " ('LGBTQMovies', 102),\n",
       " ('AnimeFeatures', 71),\n",
       " ('CultMovies', 71),\n",
       " ('Faith&Spirituality', 65),\n",
       " ('Movies', 57)]"
      ]
     },
     "execution_count": 57,
     "metadata": {},
     "output_type": "execute_result"
    }
   ],
   "source": [
    "g"
   ]
  },
  {
   "cell_type": "code",
   "execution_count": 58,
   "id": "f990a924",
   "metadata": {},
   "outputs": [
    {
     "data": {
      "text/plain": [
       "['InternationalMovies',\n",
       " 'Dramas',\n",
       " 'Comedies',\n",
       " 'Documentaries',\n",
       " 'Action&Adventure',\n",
       " 'IndependentMovies',\n",
       " 'Children&FamilyMovies',\n",
       " 'RomanticMovies',\n",
       " 'Thrillers',\n",
       " 'Music&Musicals',\n",
       " 'HorrorMovies',\n",
       " 'Stand-UpComedy',\n",
       " 'Sci-Fi&Fantasy',\n",
       " 'SportsMovies',\n",
       " 'ClassicMovies',\n",
       " 'LGBTQMovies',\n",
       " 'AnimeFeatures',\n",
       " 'CultMovies',\n",
       " 'Faith&Spirituality',\n",
       " 'Movies']"
      ]
     },
     "execution_count": 58,
     "metadata": {},
     "output_type": "execute_result"
    }
   ],
   "source": [
    "genre_names = [name for name , value in g]\n",
    "genre_names"
   ]
  },
  {
   "cell_type": "code",
   "execution_count": 59,
   "id": "af9b4cdd",
   "metadata": {},
   "outputs": [
    {
     "data": {
      "text/plain": [
       "[2752,\n",
       " 2427,\n",
       " 1674,\n",
       " 869,\n",
       " 859,\n",
       " 756,\n",
       " 641,\n",
       " 616,\n",
       " 577,\n",
       " 375,\n",
       " 357,\n",
       " 343,\n",
       " 243,\n",
       " 219,\n",
       " 116,\n",
       " 102,\n",
       " 71,\n",
       " 71,\n",
       " 65,\n",
       " 57]"
      ]
     },
     "execution_count": 59,
     "metadata": {},
     "output_type": "execute_result"
    }
   ],
   "source": [
    "genre_values = [value for name ,value in g]\n",
    "genre_values"
   ]
  },
  {
   "cell_type": "code",
   "execution_count": 60,
   "id": "d17fff75",
   "metadata": {},
   "outputs": [
    {
     "data": {
      "image/png": "[encoded data removed]",
      "text/plain": [
       "<Figure size 1000x1000 with 1 Axes>"
      ]
     },
     "metadata": {},
     "output_type": "display_data"
    }
   ],
   "source": [
    "fig = plt.figure(figsize =(10,10))\n",
    "ax = sns.barplot(x = genre_names, y = genre_values)\n",
    "\n",
    "ax.set_xticklabels(genre_names, rotation =70)\n",
    "ax.set_ylabel('Count movies')\n",
    "ax.set_xlabel('Genres')\n",
    "plt.show()\n"
   ]
  },
  {
   "cell_type": "markdown",
   "id": "f2bca5a0",
   "metadata": {},
   "source": [
    "# Series Analysis "
   ]
  },
  {
   "cell_type": "code",
   "execution_count": 62,
   "id": "e6703389",
   "metadata": {},
   "outputs": [
    {
     "data": {
      "text/plain": [
       "show_id            0\n",
       "type               0\n",
       "title              0\n",
       "director        2446\n",
       "cast             350\n",
       "country          391\n",
       "date_added        10\n",
       "release_year       0\n",
       "rating             2\n",
       "duration           0\n",
       "listed_in          0\n",
       "description        0\n",
       "dtype: int64"
      ]
     },
     "execution_count": 62,
     "metadata": {},
     "output_type": "execute_result"
    }
   ],
   "source": [
    "netflix_shows.isnull().sum()"
   ]
  },
  {
   "cell_type": "code",
   "execution_count": 63,
   "id": "d6548d0a",
   "metadata": {},
   "outputs": [
    {
     "data": {
      "text/plain": [
       "show_id            0\n",
       "type               0\n",
       "title              0\n",
       "director        2446\n",
       "cast             350\n",
       "country            0\n",
       "date_added        10\n",
       "release_year       0\n",
       "rating             2\n",
       "duration           0\n",
       "listed_in          0\n",
       "description        0\n",
       "dtype: int64"
      ]
     },
     "execution_count": 63,
     "metadata": {},
     "output_type": "execute_result"
    }
   ],
   "source": [
    "netflix_shows['country'].fillna('Unknown', inplace = True)\n",
    "netflix_shows.isnull().sum()"
   ]
  },
  {
   "cell_type": "code",
   "execution_count": 64,
   "id": "b62633cc",
   "metadata": {},
   "outputs": [
    {
     "data": {
      "text/plain": [
       "United States                                    760\n",
       "Unknown                                          391\n",
       "United Kingdom                                   213\n",
       "Japan                                            169\n",
       "South Korea                                      158\n",
       "                                                ... \n",
       "Belarus                                            1\n",
       "United Kingdom, Australia                          1\n",
       "France, Australia, Germany                         1\n",
       "Australia, New Zealand, United States              1\n",
       "United States, France, South Korea, Indonesia      1\n",
       "Name: country, Length: 197, dtype: int64"
      ]
     },
     "execution_count": 64,
     "metadata": {},
     "output_type": "execute_result"
    }
   ],
   "source": [
    "netflix_shows['country'].value_counts()"
   ]
  },
  {
   "cell_type": "code",
   "execution_count": 66,
   "id": "723cc36d",
   "metadata": {},
   "outputs": [],
   "source": [
    "countries_show = {}\n",
    "cout = list(netflix_shows['country'])\n",
    "for i in cou:\n",
    "    i = i.replace(' ', '')\n",
    "    i = list(i.split(','))\n",
    "    \n",
    "    for j in i:\n",
    "        if j in list(countries_show.keys()):\n",
    "            countries_show[j] +=1\n",
    "        else:\n",
    "            countries_show[j] = 1"
   ]
  },
  {
   "cell_type": "code",
   "execution_count": 67,
   "id": "fd55ff1c",
   "metadata": {},
   "outputs": [
    {
     "data": {
      "text/plain": [
       "{'UnitedStates': 2752,\n",
       " 'Unknown': 440,\n",
       " 'Ghana': 5,\n",
       " 'BurkinaFaso': 1,\n",
       " 'UnitedKingdom': 534,\n",
       " 'Germany': 182,\n",
       " 'Ethiopia': 1,\n",
       " 'CzechRepublic': 16,\n",
       " 'India': 962,\n",
       " 'France': 303,\n",
       " 'China': 114,\n",
       " 'Canada': 319,\n",
       " 'SouthAfrica': 51,\n",
       " 'Japan': 119,\n",
       " 'Nigeria': 94,\n",
       " 'Spain': 171,\n",
       " 'Australia': 94,\n",
       " 'Mexico': 111,\n",
       " 'Italy': 75,\n",
       " 'Romania': 14,\n",
       " 'Argentina': 71,\n",
       " 'Venezuela': 4,\n",
       " 'HongKong': 100,\n",
       " 'Nepal': 2,\n",
       " 'NewZealand': 25,\n",
       " 'Brazil': 66,\n",
       " 'Greece': 9,\n",
       " 'Colombia': 20,\n",
       " 'Belgium': 78,\n",
       " 'Switzerland': 18,\n",
       " 'Bulgaria': 10,\n",
       " '': 6,\n",
       " 'Algeria': 3,\n",
       " 'Poland': 32,\n",
       " 'Israel': 19,\n",
       " 'SaudiArabia': 9,\n",
       " 'Thailand': 46,\n",
       " 'Indonesia': 86,\n",
       " 'Egypt': 102,\n",
       " 'Denmark': 34,\n",
       " 'Kuwait': 5,\n",
       " 'Netherlands': 42,\n",
       " 'Singapore': 18,\n",
       " 'Malaysia': 18,\n",
       " 'SouthKorea': 61,\n",
       " 'Vietnam': 7,\n",
       " 'Hungary': 10,\n",
       " 'Lebanon': 24,\n",
       " 'Syria': 2,\n",
       " 'Philippines': 80,\n",
       " 'UnitedArabEmirates': 36,\n",
       " 'Sweden': 31,\n",
       " 'Qatar': 10,\n",
       " 'Mauritius': 1,\n",
       " 'Austria': 11,\n",
       " 'Turkey': 83,\n",
       " 'Russia': 11,\n",
       " 'Taiwan': 19,\n",
       " 'Cameroon': 1,\n",
       " 'Palestine': 1,\n",
       " 'Ireland': 32,\n",
       " 'Kenya': 6,\n",
       " 'Chile': 24,\n",
       " 'Uruguay': 13,\n",
       " 'Cambodia': 6,\n",
       " 'Bangladesh': 4,\n",
       " 'Portugal': 6,\n",
       " 'CaymanIslands': 2,\n",
       " 'Norway': 21,\n",
       " 'Iceland': 8,\n",
       " 'Serbia': 7,\n",
       " 'Malta': 2,\n",
       " 'Luxembourg': 10,\n",
       " 'Namibia': 2,\n",
       " 'Angola': 1,\n",
       " 'Peru': 10,\n",
       " 'Mozambique': 1,\n",
       " 'Jordan': 7,\n",
       " 'Zimbabwe': 3,\n",
       " 'Pakistan': 20,\n",
       " 'Guatemala': 2,\n",
       " 'Senegal': 2,\n",
       " 'Finland': 7,\n",
       " 'Iraq': 2,\n",
       " 'Malawi': 1,\n",
       " 'Paraguay': 1,\n",
       " 'Iran': 4,\n",
       " 'Albania': 1,\n",
       " 'Georgia': 2,\n",
       " 'SovietUnion': 3,\n",
       " 'Morocco': 6,\n",
       " 'Slovakia': 1,\n",
       " 'WestGermany': 3,\n",
       " 'Ukraine': 1,\n",
       " 'Bermuda': 1,\n",
       " 'Ecuador': 1,\n",
       " 'Armenia': 1,\n",
       " 'Mongolia': 1,\n",
       " 'Bahamas': 1,\n",
       " 'SriLanka': 1,\n",
       " 'Latvia': 1,\n",
       " 'Liechtenstein': 1,\n",
       " 'Nicaragua': 1,\n",
       " 'Croatia': 3,\n",
       " 'Slovenia': 3,\n",
       " 'DominicanRepublic': 1,\n",
       " 'Samoa': 1,\n",
       " 'Botswana': 1,\n",
       " 'VaticanCity': 1,\n",
       " 'Jamaica': 1,\n",
       " 'Kazakhstan': 1,\n",
       " 'Lithuania': 1,\n",
       " 'Afghanistan': 1,\n",
       " 'Somalia': 1,\n",
       " 'Sudan': 1,\n",
       " 'Panama': 1,\n",
       " 'Uganda': 1,\n",
       " 'EastGermany': 1,\n",
       " 'Montenegro': 1}"
      ]
     },
     "execution_count": 67,
     "metadata": {},
     "output_type": "execute_result"
    }
   ],
   "source": [
    "countries_show"
   ]
  },
  {
   "cell_type": "code",
   "execution_count": 68,
   "id": "a539084f",
   "metadata": {},
   "outputs": [
    {
     "data": {
      "text/plain": [
       "[('UnitedStates', 2752),\n",
       " ('India', 962),\n",
       " ('UnitedKingdom', 534),\n",
       " ('Unknown', 440),\n",
       " ('Canada', 319),\n",
       " ('France', 303),\n",
       " ('Germany', 182),\n",
       " ('Spain', 171),\n",
       " ('Japan', 119),\n",
       " ('China', 114)]"
      ]
     },
     "execution_count": 68,
     "metadata": {},
     "output_type": "execute_result"
    }
   ],
   "source": [
    "countries_fin2 = sorted(countries_show.items(), key =  lambda item: countries_show[item[0]], reverse = True)\n",
    "countries_fin2 = countries_fin2[:10]\n",
    "countries_fin2"
   ]
  },
  {
   "cell_type": "code",
   "execution_count": 69,
   "id": "9a87be9c",
   "metadata": {},
   "outputs": [
    {
     "data": {
      "text/plain": [
       "['UnitedStates',\n",
       " 'India',\n",
       " 'UnitedKingdom',\n",
       " 'Unknown',\n",
       " 'Canada',\n",
       " 'France',\n",
       " 'Germany',\n",
       " 'Spain',\n",
       " 'Japan',\n",
       " 'China']"
      ]
     },
     "execution_count": 69,
     "metadata": {},
     "output_type": "execute_result"
    }
   ],
   "source": [
    "names = [name  for name, value in countries_fin2]\n",
    "names"
   ]
  },
  {
   "cell_type": "code",
   "execution_count": 70,
   "id": "01ba4bea",
   "metadata": {},
   "outputs": [
    {
     "data": {
      "text/plain": [
       "[2752, 962, 534, 440, 319, 303, 182, 171, 119, 114]"
      ]
     },
     "execution_count": 70,
     "metadata": {},
     "output_type": "execute_result"
    }
   ],
   "source": [
    "values = [value for name, value in countries_fin2]\n",
    "values"
   ]
  },
  {
   "cell_type": "code",
   "execution_count": 71,
   "id": "29d3b858",
   "metadata": {},
   "outputs": [
    {
     "data": {
      "text/plain": [
       "[2752, 962, 534, 440, 319, 303, 182, 171, 119, 114]"
      ]
     },
     "execution_count": 71,
     "metadata": {},
     "output_type": "execute_result"
    }
   ],
   "source": [
    "values = [value for name, value in countries_fin2]\n",
    "values"
   ]
  },
  {
   "cell_type": "code",
   "execution_count": 72,
   "id": "daee321e",
   "metadata": {},
   "outputs": [
    {
     "data": {
      "text/plain": [
       "[Text(0, 0, 'UnitedStates'),\n",
       " Text(1, 0, 'India'),\n",
       " Text(2, 0, 'UnitedKingdom'),\n",
       " Text(3, 0, 'Unknown'),\n",
       " Text(4, 0, 'Canada'),\n",
       " Text(5, 0, 'France'),\n",
       " Text(6, 0, 'Germany'),\n",
       " Text(7, 0, 'Spain'),\n",
       " Text(8, 0, 'Japan'),\n",
       " Text(9, 0, 'China')]"
      ]
     },
     "execution_count": 72,
     "metadata": {},
     "output_type": "execute_result"
    },
    {
     "data": {
      "image/png": "[encoded data removed]",
      "text/plain": [
       "<Figure size 800x800 with 1 Axes>"
      ]
     },
     "metadata": {},
     "output_type": "display_data"
    }
   ],
   "source": [
    "plt.figure(figsize = (8,8))\n",
    "ax = sns.barplot(x= names, y = values)\n",
    "ax.set_xticklabels(names, rotation = 45)"
   ]
  },
  {
   "cell_type": "markdown",
   "id": "bd1529fb",
   "metadata": {},
   "source": [
    "# TV series with many seasons "
   ]
  },
  {
   "cell_type": "code",
   "execution_count": 73,
   "id": "40f70a4c",
   "metadata": {},
   "outputs": [
    {
     "data": {
      "text/html": [
       "<div>\n",
       "<style scoped>\n",
       "    .dataframe tbody tr th:only-of-type {\n",
       "        vertical-align: middle;\n",
       "    }\n",
       "\n",
       "    .dataframe tbody tr th {\n",
       "        vertical-align: top;\n",
       "    }\n",
       "\n",
       "    .dataframe thead th {\n",
       "        text-align: right;\n",
       "    }\n",
       "</style>\n",
       "<table border=\"1\" class=\"dataframe\">\n",
       "  <thead>\n",
       "    <tr style=\"text-align: right;\">\n",
       "      <th></th>\n",
       "      <th>title</th>\n",
       "      <th>duration</th>\n",
       "    </tr>\n",
       "  </thead>\n",
       "  <tbody>\n",
       "    <tr>\n",
       "      <th>1</th>\n",
       "      <td>Blood &amp; Water</td>\n",
       "      <td>2 Seasons</td>\n",
       "    </tr>\n",
       "    <tr>\n",
       "      <th>2</th>\n",
       "      <td>Ganglands</td>\n",
       "      <td>1 Season</td>\n",
       "    </tr>\n",
       "    <tr>\n",
       "      <th>3</th>\n",
       "      <td>Jailbirds New Orleans</td>\n",
       "      <td>1 Season</td>\n",
       "    </tr>\n",
       "    <tr>\n",
       "      <th>4</th>\n",
       "      <td>Kota Factory</td>\n",
       "      <td>2 Seasons</td>\n",
       "    </tr>\n",
       "    <tr>\n",
       "      <th>5</th>\n",
       "      <td>Midnight Mass</td>\n",
       "      <td>1 Season</td>\n",
       "    </tr>\n",
       "    <tr>\n",
       "      <th>...</th>\n",
       "      <td>...</td>\n",
       "      <td>...</td>\n",
       "    </tr>\n",
       "    <tr>\n",
       "      <th>8795</th>\n",
       "      <td>Yu-Gi-Oh! Arc-V</td>\n",
       "      <td>2 Seasons</td>\n",
       "    </tr>\n",
       "    <tr>\n",
       "      <th>8796</th>\n",
       "      <td>Yunus Emre</td>\n",
       "      <td>2 Seasons</td>\n",
       "    </tr>\n",
       "    <tr>\n",
       "      <th>8797</th>\n",
       "      <td>Zak Storm</td>\n",
       "      <td>3 Seasons</td>\n",
       "    </tr>\n",
       "    <tr>\n",
       "      <th>8800</th>\n",
       "      <td>Zindagi Gulzar Hai</td>\n",
       "      <td>1 Season</td>\n",
       "    </tr>\n",
       "    <tr>\n",
       "      <th>8803</th>\n",
       "      <td>Zombie Dumb</td>\n",
       "      <td>2 Seasons</td>\n",
       "    </tr>\n",
       "  </tbody>\n",
       "</table>\n",
       "<p>2676 rows × 2 columns</p>\n",
       "</div>"
      ],
      "text/plain": [
       "                      title   duration\n",
       "1             Blood & Water  2 Seasons\n",
       "2                 Ganglands   1 Season\n",
       "3     Jailbirds New Orleans   1 Season\n",
       "4              Kota Factory  2 Seasons\n",
       "5             Midnight Mass   1 Season\n",
       "...                     ...        ...\n",
       "8795        Yu-Gi-Oh! Arc-V  2 Seasons\n",
       "8796             Yunus Emre  2 Seasons\n",
       "8797              Zak Storm  3 Seasons\n",
       "8800     Zindagi Gulzar Hai   1 Season\n",
       "8803            Zombie Dumb  2 Seasons\n",
       "\n",
       "[2676 rows x 2 columns]"
      ]
     },
     "execution_count": 73,
     "metadata": {},
     "output_type": "execute_result"
    }
   ],
   "source": [
    "features = ['title', 'duration']\n",
    "durations = netflix_shows[features]\n",
    "durations"
   ]
  },
  {
   "cell_type": "code",
   "execution_count": 74,
   "id": "02b5a8fa",
   "metadata": {},
   "outputs": [
    {
     "name": "stderr",
     "output_type": "stream",
     "text": [
      "C:\\Users\\HP\\AppData\\Local\\Temp\\ipykernel_31696\\1205882244.py:1: SettingWithCopyWarning:\n",
      "\n",
      "\n",
      "A value is trying to be set on a copy of a slice from a DataFrame.\n",
      "Try using .loc[row_indexer,col_indexer] = value instead\n",
      "\n",
      "See the caveats in the documentation: https://pandas.pydata.org/pandas-docs/stable/user_guide/indexing.html#returning-a-view-versus-a-copy\n",
      "\n"
     ]
    },
    {
     "data": {
      "text/html": [
       "<div>\n",
       "<style scoped>\n",
       "    .dataframe tbody tr th:only-of-type {\n",
       "        vertical-align: middle;\n",
       "    }\n",
       "\n",
       "    .dataframe tbody tr th {\n",
       "        vertical-align: top;\n",
       "    }\n",
       "\n",
       "    .dataframe thead th {\n",
       "        text-align: right;\n",
       "    }\n",
       "</style>\n",
       "<table border=\"1\" class=\"dataframe\">\n",
       "  <thead>\n",
       "    <tr style=\"text-align: right;\">\n",
       "      <th></th>\n",
       "      <th>title</th>\n",
       "      <th>duration</th>\n",
       "      <th>no_of_seasons</th>\n",
       "    </tr>\n",
       "  </thead>\n",
       "  <tbody>\n",
       "    <tr>\n",
       "      <th>1</th>\n",
       "      <td>Blood &amp; Water</td>\n",
       "      <td>2 Seasons</td>\n",
       "      <td>2s</td>\n",
       "    </tr>\n",
       "    <tr>\n",
       "      <th>2</th>\n",
       "      <td>Ganglands</td>\n",
       "      <td>1 Season</td>\n",
       "      <td>1</td>\n",
       "    </tr>\n",
       "    <tr>\n",
       "      <th>3</th>\n",
       "      <td>Jailbirds New Orleans</td>\n",
       "      <td>1 Season</td>\n",
       "      <td>1</td>\n",
       "    </tr>\n",
       "    <tr>\n",
       "      <th>4</th>\n",
       "      <td>Kota Factory</td>\n",
       "      <td>2 Seasons</td>\n",
       "      <td>2s</td>\n",
       "    </tr>\n",
       "    <tr>\n",
       "      <th>5</th>\n",
       "      <td>Midnight Mass</td>\n",
       "      <td>1 Season</td>\n",
       "      <td>1</td>\n",
       "    </tr>\n",
       "    <tr>\n",
       "      <th>...</th>\n",
       "      <td>...</td>\n",
       "      <td>...</td>\n",
       "      <td>...</td>\n",
       "    </tr>\n",
       "    <tr>\n",
       "      <th>8795</th>\n",
       "      <td>Yu-Gi-Oh! Arc-V</td>\n",
       "      <td>2 Seasons</td>\n",
       "      <td>2s</td>\n",
       "    </tr>\n",
       "    <tr>\n",
       "      <th>8796</th>\n",
       "      <td>Yunus Emre</td>\n",
       "      <td>2 Seasons</td>\n",
       "      <td>2s</td>\n",
       "    </tr>\n",
       "    <tr>\n",
       "      <th>8797</th>\n",
       "      <td>Zak Storm</td>\n",
       "      <td>3 Seasons</td>\n",
       "      <td>3s</td>\n",
       "    </tr>\n",
       "    <tr>\n",
       "      <th>8800</th>\n",
       "      <td>Zindagi Gulzar Hai</td>\n",
       "      <td>1 Season</td>\n",
       "      <td>1</td>\n",
       "    </tr>\n",
       "    <tr>\n",
       "      <th>8803</th>\n",
       "      <td>Zombie Dumb</td>\n",
       "      <td>2 Seasons</td>\n",
       "      <td>2s</td>\n",
       "    </tr>\n",
       "  </tbody>\n",
       "</table>\n",
       "<p>2676 rows × 3 columns</p>\n",
       "</div>"
      ],
      "text/plain": [
       "                      title   duration no_of_seasons\n",
       "1             Blood & Water  2 Seasons            2s\n",
       "2                 Ganglands   1 Season             1\n",
       "3     Jailbirds New Orleans   1 Season             1\n",
       "4              Kota Factory  2 Seasons            2s\n",
       "5             Midnight Mass   1 Season             1\n",
       "...                     ...        ...           ...\n",
       "8795        Yu-Gi-Oh! Arc-V  2 Seasons            2s\n",
       "8796             Yunus Emre  2 Seasons            2s\n",
       "8797              Zak Storm  3 Seasons            3s\n",
       "8800     Zindagi Gulzar Hai   1 Season             1\n",
       "8803            Zombie Dumb  2 Seasons            2s\n",
       "\n",
       "[2676 rows x 3 columns]"
      ]
     },
     "execution_count": 74,
     "metadata": {},
     "output_type": "execute_result"
    }
   ],
   "source": [
    "durations['no_of_seasons'] = durations['duration'].str.replace(' Season', '')\n",
    "durations"
   ]
  },
  {
   "cell_type": "code",
   "execution_count": 75,
   "id": "1723fc43",
   "metadata": {},
   "outputs": [
    {
     "name": "stderr",
     "output_type": "stream",
     "text": [
      "C:\\Users\\HP\\AppData\\Local\\Temp\\ipykernel_31696\\334835126.py:1: SettingWithCopyWarning:\n",
      "\n",
      "\n",
      "A value is trying to be set on a copy of a slice from a DataFrame.\n",
      "Try using .loc[row_indexer,col_indexer] = value instead\n",
      "\n",
      "See the caveats in the documentation: https://pandas.pydata.org/pandas-docs/stable/user_guide/indexing.html#returning-a-view-versus-a-copy\n",
      "\n"
     ]
    },
    {
     "data": {
      "text/html": [
       "<div>\n",
       "<style scoped>\n",
       "    .dataframe tbody tr th:only-of-type {\n",
       "        vertical-align: middle;\n",
       "    }\n",
       "\n",
       "    .dataframe tbody tr th {\n",
       "        vertical-align: top;\n",
       "    }\n",
       "\n",
       "    .dataframe thead th {\n",
       "        text-align: right;\n",
       "    }\n",
       "</style>\n",
       "<table border=\"1\" class=\"dataframe\">\n",
       "  <thead>\n",
       "    <tr style=\"text-align: right;\">\n",
       "      <th></th>\n",
       "      <th>title</th>\n",
       "      <th>duration</th>\n",
       "      <th>no_of_seasons</th>\n",
       "    </tr>\n",
       "  </thead>\n",
       "  <tbody>\n",
       "    <tr>\n",
       "      <th>1</th>\n",
       "      <td>Blood &amp; Water</td>\n",
       "      <td>2 Seasons</td>\n",
       "      <td>2</td>\n",
       "    </tr>\n",
       "    <tr>\n",
       "      <th>2</th>\n",
       "      <td>Ganglands</td>\n",
       "      <td>1 Season</td>\n",
       "      <td>1</td>\n",
       "    </tr>\n",
       "    <tr>\n",
       "      <th>3</th>\n",
       "      <td>Jailbirds New Orleans</td>\n",
       "      <td>1 Season</td>\n",
       "      <td>1</td>\n",
       "    </tr>\n",
       "    <tr>\n",
       "      <th>4</th>\n",
       "      <td>Kota Factory</td>\n",
       "      <td>2 Seasons</td>\n",
       "      <td>2</td>\n",
       "    </tr>\n",
       "    <tr>\n",
       "      <th>5</th>\n",
       "      <td>Midnight Mass</td>\n",
       "      <td>1 Season</td>\n",
       "      <td>1</td>\n",
       "    </tr>\n",
       "    <tr>\n",
       "      <th>...</th>\n",
       "      <td>...</td>\n",
       "      <td>...</td>\n",
       "      <td>...</td>\n",
       "    </tr>\n",
       "    <tr>\n",
       "      <th>8795</th>\n",
       "      <td>Yu-Gi-Oh! Arc-V</td>\n",
       "      <td>2 Seasons</td>\n",
       "      <td>2</td>\n",
       "    </tr>\n",
       "    <tr>\n",
       "      <th>8796</th>\n",
       "      <td>Yunus Emre</td>\n",
       "      <td>2 Seasons</td>\n",
       "      <td>2</td>\n",
       "    </tr>\n",
       "    <tr>\n",
       "      <th>8797</th>\n",
       "      <td>Zak Storm</td>\n",
       "      <td>3 Seasons</td>\n",
       "      <td>3</td>\n",
       "    </tr>\n",
       "    <tr>\n",
       "      <th>8800</th>\n",
       "      <td>Zindagi Gulzar Hai</td>\n",
       "      <td>1 Season</td>\n",
       "      <td>1</td>\n",
       "    </tr>\n",
       "    <tr>\n",
       "      <th>8803</th>\n",
       "      <td>Zombie Dumb</td>\n",
       "      <td>2 Seasons</td>\n",
       "      <td>2</td>\n",
       "    </tr>\n",
       "  </tbody>\n",
       "</table>\n",
       "<p>2676 rows × 3 columns</p>\n",
       "</div>"
      ],
      "text/plain": [
       "                      title   duration no_of_seasons\n",
       "1             Blood & Water  2 Seasons             2\n",
       "2                 Ganglands   1 Season             1\n",
       "3     Jailbirds New Orleans   1 Season             1\n",
       "4              Kota Factory  2 Seasons             2\n",
       "5             Midnight Mass   1 Season             1\n",
       "...                     ...        ...           ...\n",
       "8795        Yu-Gi-Oh! Arc-V  2 Seasons             2\n",
       "8796             Yunus Emre  2 Seasons             2\n",
       "8797              Zak Storm  3 Seasons             3\n",
       "8800     Zindagi Gulzar Hai   1 Season             1\n",
       "8803            Zombie Dumb  2 Seasons             2\n",
       "\n",
       "[2676 rows x 3 columns]"
      ]
     },
     "execution_count": 75,
     "metadata": {},
     "output_type": "execute_result"
    }
   ],
   "source": [
    "durations['no_of_seasons'] = durations['no_of_seasons'].str.replace('s', '')\n",
    "durations"
   ]
  },
  {
   "cell_type": "code",
   "execution_count": 76,
   "id": "ccba2c35",
   "metadata": {},
   "outputs": [
    {
     "name": "stderr",
     "output_type": "stream",
     "text": [
      "C:\\Users\\HP\\AppData\\Local\\Temp\\ipykernel_31696\\334835126.py:1: SettingWithCopyWarning:\n",
      "\n",
      "\n",
      "A value is trying to be set on a copy of a slice from a DataFrame.\n",
      "Try using .loc[row_indexer,col_indexer] = value instead\n",
      "\n",
      "See the caveats in the documentation: https://pandas.pydata.org/pandas-docs/stable/user_guide/indexing.html#returning-a-view-versus-a-copy\n",
      "\n"
     ]
    },
    {
     "data": {
      "text/html": [
       "<div>\n",
       "<style scoped>\n",
       "    .dataframe tbody tr th:only-of-type {\n",
       "        vertical-align: middle;\n",
       "    }\n",
       "\n",
       "    .dataframe tbody tr th {\n",
       "        vertical-align: top;\n",
       "    }\n",
       "\n",
       "    .dataframe thead th {\n",
       "        text-align: right;\n",
       "    }\n",
       "</style>\n",
       "<table border=\"1\" class=\"dataframe\">\n",
       "  <thead>\n",
       "    <tr style=\"text-align: right;\">\n",
       "      <th></th>\n",
       "      <th>title</th>\n",
       "      <th>duration</th>\n",
       "      <th>no_of_seasons</th>\n",
       "    </tr>\n",
       "  </thead>\n",
       "  <tbody>\n",
       "    <tr>\n",
       "      <th>1</th>\n",
       "      <td>Blood &amp; Water</td>\n",
       "      <td>2 Seasons</td>\n",
       "      <td>2</td>\n",
       "    </tr>\n",
       "    <tr>\n",
       "      <th>2</th>\n",
       "      <td>Ganglands</td>\n",
       "      <td>1 Season</td>\n",
       "      <td>1</td>\n",
       "    </tr>\n",
       "    <tr>\n",
       "      <th>3</th>\n",
       "      <td>Jailbirds New Orleans</td>\n",
       "      <td>1 Season</td>\n",
       "      <td>1</td>\n",
       "    </tr>\n",
       "    <tr>\n",
       "      <th>4</th>\n",
       "      <td>Kota Factory</td>\n",
       "      <td>2 Seasons</td>\n",
       "      <td>2</td>\n",
       "    </tr>\n",
       "    <tr>\n",
       "      <th>5</th>\n",
       "      <td>Midnight Mass</td>\n",
       "      <td>1 Season</td>\n",
       "      <td>1</td>\n",
       "    </tr>\n",
       "    <tr>\n",
       "      <th>...</th>\n",
       "      <td>...</td>\n",
       "      <td>...</td>\n",
       "      <td>...</td>\n",
       "    </tr>\n",
       "    <tr>\n",
       "      <th>8795</th>\n",
       "      <td>Yu-Gi-Oh! Arc-V</td>\n",
       "      <td>2 Seasons</td>\n",
       "      <td>2</td>\n",
       "    </tr>\n",
       "    <tr>\n",
       "      <th>8796</th>\n",
       "      <td>Yunus Emre</td>\n",
       "      <td>2 Seasons</td>\n",
       "      <td>2</td>\n",
       "    </tr>\n",
       "    <tr>\n",
       "      <th>8797</th>\n",
       "      <td>Zak Storm</td>\n",
       "      <td>3 Seasons</td>\n",
       "      <td>3</td>\n",
       "    </tr>\n",
       "    <tr>\n",
       "      <th>8800</th>\n",
       "      <td>Zindagi Gulzar Hai</td>\n",
       "      <td>1 Season</td>\n",
       "      <td>1</td>\n",
       "    </tr>\n",
       "    <tr>\n",
       "      <th>8803</th>\n",
       "      <td>Zombie Dumb</td>\n",
       "      <td>2 Seasons</td>\n",
       "      <td>2</td>\n",
       "    </tr>\n",
       "  </tbody>\n",
       "</table>\n",
       "<p>2676 rows × 3 columns</p>\n",
       "</div>"
      ],
      "text/plain": [
       "                      title   duration no_of_seasons\n",
       "1             Blood & Water  2 Seasons             2\n",
       "2                 Ganglands   1 Season             1\n",
       "3     Jailbirds New Orleans   1 Season             1\n",
       "4              Kota Factory  2 Seasons             2\n",
       "5             Midnight Mass   1 Season             1\n",
       "...                     ...        ...           ...\n",
       "8795        Yu-Gi-Oh! Arc-V  2 Seasons             2\n",
       "8796             Yunus Emre  2 Seasons             2\n",
       "8797              Zak Storm  3 Seasons             3\n",
       "8800     Zindagi Gulzar Hai   1 Season             1\n",
       "8803            Zombie Dumb  2 Seasons             2\n",
       "\n",
       "[2676 rows x 3 columns]"
      ]
     },
     "execution_count": 76,
     "metadata": {},
     "output_type": "execute_result"
    }
   ],
   "source": [
    "durations['no_of_seasons'] = durations['no_of_seasons'].str.replace('s', '')\n",
    "durations"
   ]
  },
  {
   "cell_type": "code",
   "execution_count": 77,
   "id": "7e4d4d8a",
   "metadata": {},
   "outputs": [
    {
     "name": "stderr",
     "output_type": "stream",
     "text": [
      "C:\\Users\\HP\\AppData\\Local\\Temp\\ipykernel_31696\\1104603247.py:1: SettingWithCopyWarning:\n",
      "\n",
      "\n",
      "A value is trying to be set on a copy of a slice from a DataFrame.\n",
      "Try using .loc[row_indexer,col_indexer] = value instead\n",
      "\n",
      "See the caveats in the documentation: https://pandas.pydata.org/pandas-docs/stable/user_guide/indexing.html#returning-a-view-versus-a-copy\n",
      "\n"
     ]
    },
    {
     "data": {
      "text/html": [
       "<div>\n",
       "<style scoped>\n",
       "    .dataframe tbody tr th:only-of-type {\n",
       "        vertical-align: middle;\n",
       "    }\n",
       "\n",
       "    .dataframe tbody tr th {\n",
       "        vertical-align: top;\n",
       "    }\n",
       "\n",
       "    .dataframe thead th {\n",
       "        text-align: right;\n",
       "    }\n",
       "</style>\n",
       "<table border=\"1\" class=\"dataframe\">\n",
       "  <thead>\n",
       "    <tr style=\"text-align: right;\">\n",
       "      <th></th>\n",
       "      <th>title</th>\n",
       "      <th>duration</th>\n",
       "      <th>no_of_seasons</th>\n",
       "    </tr>\n",
       "  </thead>\n",
       "  <tbody>\n",
       "    <tr>\n",
       "      <th>1</th>\n",
       "      <td>Blood &amp; Water</td>\n",
       "      <td>2 Seasons</td>\n",
       "      <td>2</td>\n",
       "    </tr>\n",
       "    <tr>\n",
       "      <th>2</th>\n",
       "      <td>Ganglands</td>\n",
       "      <td>1 Season</td>\n",
       "      <td>1</td>\n",
       "    </tr>\n",
       "    <tr>\n",
       "      <th>3</th>\n",
       "      <td>Jailbirds New Orleans</td>\n",
       "      <td>1 Season</td>\n",
       "      <td>1</td>\n",
       "    </tr>\n",
       "    <tr>\n",
       "      <th>4</th>\n",
       "      <td>Kota Factory</td>\n",
       "      <td>2 Seasons</td>\n",
       "      <td>2</td>\n",
       "    </tr>\n",
       "    <tr>\n",
       "      <th>5</th>\n",
       "      <td>Midnight Mass</td>\n",
       "      <td>1 Season</td>\n",
       "      <td>1</td>\n",
       "    </tr>\n",
       "    <tr>\n",
       "      <th>...</th>\n",
       "      <td>...</td>\n",
       "      <td>...</td>\n",
       "      <td>...</td>\n",
       "    </tr>\n",
       "    <tr>\n",
       "      <th>8795</th>\n",
       "      <td>Yu-Gi-Oh! Arc-V</td>\n",
       "      <td>2 Seasons</td>\n",
       "      <td>2</td>\n",
       "    </tr>\n",
       "    <tr>\n",
       "      <th>8796</th>\n",
       "      <td>Yunus Emre</td>\n",
       "      <td>2 Seasons</td>\n",
       "      <td>2</td>\n",
       "    </tr>\n",
       "    <tr>\n",
       "      <th>8797</th>\n",
       "      <td>Zak Storm</td>\n",
       "      <td>3 Seasons</td>\n",
       "      <td>3</td>\n",
       "    </tr>\n",
       "    <tr>\n",
       "      <th>8800</th>\n",
       "      <td>Zindagi Gulzar Hai</td>\n",
       "      <td>1 Season</td>\n",
       "      <td>1</td>\n",
       "    </tr>\n",
       "    <tr>\n",
       "      <th>8803</th>\n",
       "      <td>Zombie Dumb</td>\n",
       "      <td>2 Seasons</td>\n",
       "      <td>2</td>\n",
       "    </tr>\n",
       "  </tbody>\n",
       "</table>\n",
       "<p>2676 rows × 3 columns</p>\n",
       "</div>"
      ],
      "text/plain": [
       "                      title   duration  no_of_seasons\n",
       "1             Blood & Water  2 Seasons              2\n",
       "2                 Ganglands   1 Season              1\n",
       "3     Jailbirds New Orleans   1 Season              1\n",
       "4              Kota Factory  2 Seasons              2\n",
       "5             Midnight Mass   1 Season              1\n",
       "...                     ...        ...            ...\n",
       "8795        Yu-Gi-Oh! Arc-V  2 Seasons              2\n",
       "8796             Yunus Emre  2 Seasons              2\n",
       "8797              Zak Storm  3 Seasons              3\n",
       "8800     Zindagi Gulzar Hai   1 Season              1\n",
       "8803            Zombie Dumb  2 Seasons              2\n",
       "\n",
       "[2676 rows x 3 columns]"
      ]
     },
     "execution_count": 77,
     "metadata": {},
     "output_type": "execute_result"
    }
   ],
   "source": [
    "durations['no_of_seasons'] = durations['no_of_seasons'].astype(str).astype(int)\n",
    "durations"
   ]
  },
  {
   "cell_type": "code",
   "execution_count": 78,
   "id": "50ebb274",
   "metadata": {},
   "outputs": [],
   "source": [
    "t = ['title', 'no_of_seasons']\n",
    "top = durations[t]\n",
    "\n",
    "top = top.sort_values(by = 'no_of_seasons', ascending = False)"
   ]
  },
  {
   "cell_type": "code",
   "execution_count": 79,
   "id": "ae67a880",
   "metadata": {},
   "outputs": [
    {
     "data": {
      "text/plain": [
       "([<matplotlib.axis.XTick at 0x29918cf3850>,\n",
       "  <matplotlib.axis.XTick at 0x29918cf3820>,\n",
       "  <matplotlib.axis.XTick at 0x29918cf3280>,\n",
       "  <matplotlib.axis.XTick at 0x29918d39e10>,\n",
       "  <matplotlib.axis.XTick at 0x29918d3a8c0>,\n",
       "  <matplotlib.axis.XTick at 0x29918d3add0>,\n",
       "  <matplotlib.axis.XTick at 0x29918d3b880>,\n",
       "  <matplotlib.axis.XTick at 0x29918d64370>,\n",
       "  <matplotlib.axis.XTick at 0x29918d64e20>,\n",
       "  <matplotlib.axis.XTick at 0x29918d3b1f0>,\n",
       "  <matplotlib.axis.XTick at 0x29918d657b0>,\n",
       "  <matplotlib.axis.XTick at 0x29918d66260>,\n",
       "  <matplotlib.axis.XTick at 0x29918d66d10>,\n",
       "  <matplotlib.axis.XTick at 0x29918d677c0>,\n",
       "  <matplotlib.axis.XTick at 0x29918d666b0>,\n",
       "  <matplotlib.axis.XTick at 0x29918d7c220>,\n",
       "  <matplotlib.axis.XTick at 0x29918d7ccd0>,\n",
       "  <matplotlib.axis.XTick at 0x29918d7d780>,\n",
       "  <matplotlib.axis.XTick at 0x29918d7e230>,\n",
       "  <matplotlib.axis.XTick at 0x29918d7d210>],\n",
       " [Text(0.0, 0, \"Grey's Anatomy\"),\n",
       "  Text(1.0, 0, 'Supernatural'),\n",
       "  Text(2.0, 0, 'NCIS'),\n",
       "  Text(3.0, 0, 'Heartland'),\n",
       "  Text(4.0, 0, 'COMEDIANS of the world'),\n",
       "  Text(5.0, 0, 'Red vs. Blue'),\n",
       "  Text(6.0, 0, 'Trailer Park Boys'),\n",
       "  Text(7.0, 0, 'Criminal Minds'),\n",
       "  Text(8.0, 0, 'Frasier'),\n",
       "  Text(9.0, 0, 'Cheers'),\n",
       "  Text(10.0, 0, 'Shameless (U.S.)'),\n",
       "  Text(11.0, 0, 'Friends'),\n",
       "  Text(12.0, 0, 'LEGO Ninjago: Masters of Spinjitzu'),\n",
       "  Text(13.0, 0, 'Danger Mouse: Classic Collection'),\n",
       "  Text(14.0, 0, 'The Walking Dead'),\n",
       "  Text(15.0, 0, 'Stargate SG-1'),\n",
       "  Text(16.0, 0, \"Dad's Army\"),\n",
       "  Text(17.0, 0, 'The Great British Baking Show'),\n",
       "  Text(18.0, 0, 'Forensic Files'),\n",
       "  Text(19.0, 0, 'The Office (U.S.)')])"
      ]
     },
     "execution_count": 79,
     "metadata": {},
     "output_type": "execute_result"
    },
    {
     "data": {
      "image/png": "[encoded data removed]",
      "text/plain": [
       "<Figure size 1200x700 with 1 Axes>"
      ]
     },
     "metadata": {},
     "output_type": "display_data"
    }
   ],
   "source": [
    "top20 = top[0:20]\n",
    "plt.figure(figsize = (12,7))\n",
    "\n",
    "plt.bar(top20['title'], top20['no_of_seasons'])\n",
    "plt.xticks(top20['title'], rotation= 70)"
   ]
  },
  {
   "cell_type": "markdown",
   "id": "3ee9f7e5",
   "metadata": {},
   "source": [
    "# Fewest number of seasons "
   ]
  },
  {
   "cell_type": "code",
   "execution_count": 80,
   "id": "09381f0b",
   "metadata": {},
   "outputs": [
    {
     "data": {
      "application/vnd.plotly.v1+json": {
       "config": {
        "plotlyServerURL": "https://plot.ly"
       },
       "data": [
        {
         "cells": {
          "values": [
           [
            "A Queen Is Born",
            "Messiah",
            "Gentefied",
            "Live Up To Your Name",
            "Chhota Bheem Kung Fu Dhamaka Series",
            "Cells at Work!",
            "Border Security: America's Front Line",
            "Because This Is My First Life",
            "Thieves of the Wood",
            "Sex, Explained",
            "DASH & LILY",
            "Dracula",
            "Cheer",
            "Until Dawn",
            "Bakugan: Armored Alliance",
            "The Disastrous Life of Saiki K.: Reawakened",
            "Kevin Hart: Don’t F**k This Up",
            "The Bonfire of Destiny",
            "Twice Upon A Time",
            "The Witcher",
            "Agent",
            "The Minions of Midas",
            "Palazuelos mi rey",
            "Afronta! Facing It!",
            "Love Is Blind",
            "Taj Mahal 1989",
            "Talking Tom and Friends",
            "On the Real",
            "DreamWorks Shrek's Swamp Stories",
            "Spectros"
           ],
           [
            1,
            1,
            1,
            1,
            1,
            1,
            1,
            1,
            1,
            1,
            1,
            1,
            1,
            1,
            1,
            1,
            1,
            1,
            1,
            1,
            1,
            1,
            1,
            1,
            1,
            1,
            1,
            1,
            1,
            1
           ]
          ]
         },
         "header": {
          "values": [
           "Title",
           "No of seasons"
          ]
         },
         "type": "table"
        }
       ],
       "layout": {
        "template": {
         "data": {
          "bar": [
           {
            "error_x": {
             "color": "#2a3f5f"
            },
            "error_y": {
             "color": "#2a3f5f"
            },
            "marker": {
             "line": {
              "color": "#E5ECF6",
              "width": 0.5
             },
             "pattern": {
              "fillmode": "overlay",
              "size": 10,
              "solidity": 0.2
             }
            },
            "type": "bar"
           }
          ],
          "barpolar": [
           {
            "marker": {
             "line": {
              "color": "#E5ECF6",
              "width": 0.5
             },
             "pattern": {
              "fillmode": "overlay",
              "size": 10,
              "solidity": 0.2
             }
            },
            "type": "barpolar"
           }
          ],
          "carpet": [
           {
            "aaxis": {
             "endlinecolor": "#2a3f5f",
             "gridcolor": "white",
             "linecolor": "white",
             "minorgridcolor": "white",
             "startlinecolor": "#2a3f5f"
            },
            "baxis": {
             "endlinecolor": "#2a3f5f",
             "gridcolor": "white",
             "linecolor": "white",
             "minorgridcolor": "white",
             "startlinecolor": "#2a3f5f"
            },
            "type": "carpet"
           }
          ],
          "choropleth": [
           {
            "colorbar": {
             "outlinewidth": 0,
             "ticks": ""
            },
            "type": "choropleth"
           }
          ],
          "contour": [
           {
            "colorbar": {
             "outlinewidth": 0,
             "ticks": ""
            },
            "colorscale": [
             [
              0,
              "#0d0887"
             ],
             [
              0.1111111111111111,
              "#46039f"
             ],
             [
              0.2222222222222222,
              "#7201a8"
             ],
             [
              0.3333333333333333,
              "#9c179e"
             ],
             [
              0.4444444444444444,
              "#bd3786"
             ],
             [
              0.5555555555555556,
              "#d8576b"
             ],
             [
              0.6666666666666666,
              "#ed7953"
             ],
             [
              0.7777777777777778,
              "#fb9f3a"
             ],
             [
              0.8888888888888888,
              "#fdca26"
             ],
             [
              1,
              "#f0f921"
             ]
            ],
            "type": "contour"
           }
          ],
          "contourcarpet": [
           {
            "colorbar": {
             "outlinewidth": 0,
             "ticks": ""
            },
            "type": "contourcarpet"
           }
          ],
          "heatmap": [
           {
            "colorbar": {
             "outlinewidth": 0,
             "ticks": ""
            },
            "colorscale": [
             [
              0,
              "#0d0887"
             ],
             [
              0.1111111111111111,
              "#46039f"
             ],
             [
              0.2222222222222222,
              "#7201a8"
             ],
             [
              0.3333333333333333,
              "#9c179e"
             ],
             [
              0.4444444444444444,
              "#bd3786"
             ],
             [
              0.5555555555555556,
              "#d8576b"
             ],
             [
              0.6666666666666666,
              "#ed7953"
             ],
             [
              0.7777777777777778,
              "#fb9f3a"
             ],
             [
              0.8888888888888888,
              "#fdca26"
             ],
             [
              1,
              "#f0f921"
             ]
            ],
            "type": "heatmap"
           }
          ],
          "heatmapgl": [
           {
            "colorbar": {
             "outlinewidth": 0,
             "ticks": ""
            },
            "colorscale": [
             [
              0,
              "#0d0887"
             ],
             [
              0.1111111111111111,
              "#46039f"
             ],
             [
              0.2222222222222222,
              "#7201a8"
             ],
             [
              0.3333333333333333,
              "#9c179e"
             ],
             [
              0.4444444444444444,
              "#bd3786"
             ],
             [
              0.5555555555555556,
              "#d8576b"
             ],
             [
              0.6666666666666666,
              "#ed7953"
             ],
             [
              0.7777777777777778,
              "#fb9f3a"
             ],
             [
              0.8888888888888888,
              "#fdca26"
             ],
             [
              1,
              "#f0f921"
             ]
            ],
            "type": "heatmapgl"
           }
          ],
          "histogram": [
           {
            "marker": {
             "pattern": {
              "fillmode": "overlay",
              "size": 10,
              "solidity": 0.2
             }
            },
            "type": "histogram"
           }
          ],
          "histogram2d": [
           {
            "colorbar": {
             "outlinewidth": 0,
             "ticks": ""
            },
            "colorscale": [
             [
              0,
              "#0d0887"
             ],
             [
              0.1111111111111111,
              "#46039f"
             ],
             [
              0.2222222222222222,
              "#7201a8"
             ],
             [
              0.3333333333333333,
              "#9c179e"
             ],
             [
              0.4444444444444444,
              "#bd3786"
             ],
             [
              0.5555555555555556,
              "#d8576b"
             ],
             [
              0.6666666666666666,
              "#ed7953"
             ],
             [
              0.7777777777777778,
              "#fb9f3a"
             ],
             [
              0.8888888888888888,
              "#fdca26"
             ],
             [
              1,
              "#f0f921"
             ]
            ],
            "type": "histogram2d"
           }
          ],
          "histogram2dcontour": [
           {
            "colorbar": {
             "outlinewidth": 0,
             "ticks": ""
            },
            "colorscale": [
             [
              0,
              "#0d0887"
             ],
             [
              0.1111111111111111,
              "#46039f"
             ],
             [
              0.2222222222222222,
              "#7201a8"
             ],
             [
              0.3333333333333333,
              "#9c179e"
             ],
             [
              0.4444444444444444,
              "#bd3786"
             ],
             [
              0.5555555555555556,
              "#d8576b"
             ],
             [
              0.6666666666666666,
              "#ed7953"
             ],
             [
              0.7777777777777778,
              "#fb9f3a"
             ],
             [
              0.8888888888888888,
              "#fdca26"
             ],
             [
              1,
              "#f0f921"
             ]
            ],
            "type": "histogram2dcontour"
           }
          ],
          "mesh3d": [
           {
            "colorbar": {
             "outlinewidth": 0,
             "ticks": ""
            },
            "type": "mesh3d"
           }
          ],
          "parcoords": [
           {
            "line": {
             "colorbar": {
              "outlinewidth": 0,
              "ticks": ""
             }
            },
            "type": "parcoords"
           }
          ],
          "pie": [
           {
            "automargin": true,
            "type": "pie"
           }
          ],
          "scatter": [
           {
            "fillpattern": {
             "fillmode": "overlay",
             "size": 10,
             "solidity": 0.2
            },
            "type": "scatter"
           }
          ],
          "scatter3d": [
           {
            "line": {
             "colorbar": {
              "outlinewidth": 0,
              "ticks": ""
             }
            },
            "marker": {
             "colorbar": {
              "outlinewidth": 0,
              "ticks": ""
             }
            },
            "type": "scatter3d"
           }
          ],
          "scattercarpet": [
           {
            "marker": {
             "colorbar": {
              "outlinewidth": 0,
              "ticks": ""
             }
            },
            "type": "scattercarpet"
           }
          ],
          "scattergeo": [
           {
            "marker": {
             "colorbar": {
              "outlinewidth": 0,
              "ticks": ""
             }
            },
            "type": "scattergeo"
           }
          ],
          "scattergl": [
           {
            "marker": {
             "colorbar": {
              "outlinewidth": 0,
              "ticks": ""
             }
            },
            "type": "scattergl"
           }
          ],
          "scattermapbox": [
           {
            "marker": {
             "colorbar": {
              "outlinewidth": 0,
              "ticks": ""
             }
            },
            "type": "scattermapbox"
           }
          ],
          "scatterpolar": [
           {
            "marker": {
             "colorbar": {
              "outlinewidth": 0,
              "ticks": ""
             }
            },
            "type": "scatterpolar"
           }
          ],
          "scatterpolargl": [
           {
            "marker": {
             "colorbar": {
              "outlinewidth": 0,
              "ticks": ""
             }
            },
            "type": "scatterpolargl"
           }
          ],
          "scatterternary": [
           {
            "marker": {
             "colorbar": {
              "outlinewidth": 0,
              "ticks": ""
             }
            },
            "type": "scatterternary"
           }
          ],
          "surface": [
           {
            "colorbar": {
             "outlinewidth": 0,
             "ticks": ""
            },
            "colorscale": [
             [
              0,
              "#0d0887"
             ],
             [
              0.1111111111111111,
              "#46039f"
             ],
             [
              0.2222222222222222,
              "#7201a8"
             ],
             [
              0.3333333333333333,
              "#9c179e"
             ],
             [
              0.4444444444444444,
              "#bd3786"
             ],
             [
              0.5555555555555556,
              "#d8576b"
             ],
             [
              0.6666666666666666,
              "#ed7953"
             ],
             [
              0.7777777777777778,
              "#fb9f3a"
             ],
             [
              0.8888888888888888,
              "#fdca26"
             ],
             [
              1,
              "#f0f921"
             ]
            ],
            "type": "surface"
           }
          ],
          "table": [
           {
            "cells": {
             "fill": {
              "color": "#EBF0F8"
             },
             "line": {
              "color": "white"
             }
            },
            "header": {
             "fill": {
              "color": "#C8D4E3"
             },
             "line": {
              "color": "white"
             }
            },
            "type": "table"
           }
          ]
         },
         "layout": {
          "annotationdefaults": {
           "arrowcolor": "#2a3f5f",
           "arrowhead": 0,
           "arrowwidth": 1
          },
          "autotypenumbers": "strict",
          "coloraxis": {
           "colorbar": {
            "outlinewidth": 0,
            "ticks": ""
           }
          },
          "colorscale": {
           "diverging": [
            [
             0,
             "#8e0152"
            ],
            [
             0.1,
             "#c51b7d"
            ],
            [
             0.2,
             "#de77ae"
            ],
            [
             0.3,
             "#f1b6da"
            ],
            [
             0.4,
             "#fde0ef"
            ],
            [
             0.5,
             "#f7f7f7"
            ],
            [
             0.6,
             "#e6f5d0"
            ],
            [
             0.7,
             "#b8e186"
            ],
            [
             0.8,
             "#7fbc41"
            ],
            [
             0.9,
             "#4d9221"
            ],
            [
             1,
             "#276419"
            ]
           ],
           "sequential": [
            [
             0,
             "#0d0887"
            ],
            [
             0.1111111111111111,
             "#46039f"
            ],
            [
             0.2222222222222222,
             "#7201a8"
            ],
            [
             0.3333333333333333,
             "#9c179e"
            ],
            [
             0.4444444444444444,
             "#bd3786"
            ],
            [
             0.5555555555555556,
             "#d8576b"
            ],
            [
             0.6666666666666666,
             "#ed7953"
            ],
            [
             0.7777777777777778,
             "#fb9f3a"
            ],
            [
             0.8888888888888888,
             "#fdca26"
            ],
            [
             1,
             "#f0f921"
            ]
           ],
           "sequentialminus": [
            [
             0,
             "#0d0887"
            ],
            [
             0.1111111111111111,
             "#46039f"
            ],
            [
             0.2222222222222222,
             "#7201a8"
            ],
            [
             0.3333333333333333,
             "#9c179e"
            ],
            [
             0.4444444444444444,
             "#bd3786"
            ],
            [
             0.5555555555555556,
             "#d8576b"
            ],
            [
             0.6666666666666666,
             "#ed7953"
            ],
            [
             0.7777777777777778,
             "#fb9f3a"
            ],
            [
             0.8888888888888888,
             "#fdca26"
            ],
            [
             1,
             "#f0f921"
            ]
           ]
          },
          "colorway": [
           "#636efa",
           "#EF553B",
           "#00cc96",
           "#ab63fa",
           "#FFA15A",
           "#19d3f3",
           "#FF6692",
           "#B6E880",
           "#FF97FF",
           "#FECB52"
          ],
          "font": {
           "color": "#2a3f5f"
          },
          "geo": {
           "bgcolor": "white",
           "lakecolor": "white",
           "landcolor": "#E5ECF6",
           "showlakes": true,
           "showland": true,
           "subunitcolor": "white"
          },
          "hoverlabel": {
           "align": "left"
          },
          "hovermode": "closest",
          "mapbox": {
           "style": "light"
          },
          "paper_bgcolor": "white",
          "plot_bgcolor": "#E5ECF6",
          "polar": {
           "angularaxis": {
            "gridcolor": "white",
            "linecolor": "white",
            "ticks": ""
           },
           "bgcolor": "#E5ECF6",
           "radialaxis": {
            "gridcolor": "white",
            "linecolor": "white",
            "ticks": ""
           }
          },
          "scene": {
           "xaxis": {
            "backgroundcolor": "#E5ECF6",
            "gridcolor": "white",
            "gridwidth": 2,
            "linecolor": "white",
            "showbackground": true,
            "ticks": "",
            "zerolinecolor": "white"
           },
           "yaxis": {
            "backgroundcolor": "#E5ECF6",
            "gridcolor": "white",
            "gridwidth": 2,
            "linecolor": "white",
            "showbackground": true,
            "ticks": "",
            "zerolinecolor": "white"
           },
           "zaxis": {
            "backgroundcolor": "#E5ECF6",
            "gridcolor": "white",
            "gridwidth": 2,
            "linecolor": "white",
            "showbackground": true,
            "ticks": "",
            "zerolinecolor": "white"
           }
          },
          "shapedefaults": {
           "line": {
            "color": "#2a3f5f"
           }
          },
          "ternary": {
           "aaxis": {
            "gridcolor": "white",
            "linecolor": "white",
            "ticks": ""
           },
           "baxis": {
            "gridcolor": "white",
            "linecolor": "white",
            "ticks": ""
           },
           "bgcolor": "#E5ECF6",
           "caxis": {
            "gridcolor": "white",
            "linecolor": "white",
            "ticks": ""
           }
          },
          "title": {
           "x": 0.05
          },
          "xaxis": {
           "automargin": true,
           "gridcolor": "white",
           "linecolor": "white",
           "ticks": "",
           "title": {
            "standoff": 15
           },
           "zerolinecolor": "white",
           "zerolinewidth": 2
          },
          "yaxis": {
           "automargin": true,
           "gridcolor": "white",
           "linecolor": "white",
           "ticks": "",
           "title": {
            "standoff": 15
           },
           "zerolinecolor": "white",
           "zerolinewidth": 2
          }
         }
        }
       }
      },
      "text/html": [
       "<div>                            <div id=\"1a144604-5b08-412a-b6dd-f3ec57849808\" class=\"plotly-graph-div\" style=\"height:525px; width:100%;\"></div>            <script type=\"text/javascript\">                require([\"plotly\"], function(Plotly) {                    window.PLOTLYENV=window.PLOTLYENV || {};                                    if (document.getElementById(\"1a144604-5b08-412a-b6dd-f3ec57849808\")) {                    Plotly.newPlot(                        \"1a144604-5b08-412a-b6dd-f3ec57849808\",                        [{\"cells\":{\"values\":[[\"A Queen Is Born\",\"Messiah\",\"Gentefied\",\"Live Up To Your Name\",\"Chhota Bheem Kung Fu Dhamaka Series\",\"Cells at Work!\",\"Border Security: America's Front Line\",\"Because This Is My First Life\",\"Thieves of the Wood\",\"Sex, Explained\",\"DASH & LILY\",\"Dracula\",\"Cheer\",\"Until Dawn\",\"Bakugan: Armored Alliance\",\"The Disastrous Life of Saiki K.: Reawakened\",\"Kevin Hart: Don\\u2019t F**k This Up\",\"The Bonfire of Destiny\",\"Twice Upon A Time\",\"The Witcher\",\"Agent\",\"The Minions of Midas\",\"Palazuelos mi rey\",\"Afronta! Facing It!\",\"Love Is Blind\",\"Taj Mahal 1989\",\"Talking Tom and Friends\",\"On the Real\",\"DreamWorks Shrek's Swamp Stories\",\"Spectros\"],[1,1,1,1,1,1,1,1,1,1,1,1,1,1,1,1,1,1,1,1,1,1,1,1,1,1,1,1,1,1]]},\"header\":{\"values\":[\"Title\",\"No of seasons\"]},\"type\":\"table\"}],                        {\"template\":{\"data\":{\"histogram2dcontour\":[{\"type\":\"histogram2dcontour\",\"colorbar\":{\"outlinewidth\":0,\"ticks\":\"\"},\"colorscale\":[[0.0,\"#0d0887\"],[0.1111111111111111,\"#46039f\"],[0.2222222222222222,\"#7201a8\"],[0.3333333333333333,\"#9c179e\"],[0.4444444444444444,\"#bd3786\"],[0.5555555555555556,\"#d8576b\"],[0.6666666666666666,\"#ed7953\"],[0.7777777777777778,\"#fb9f3a\"],[0.8888888888888888,\"#fdca26\"],[1.0,\"#f0f921\"]]}],\"choropleth\":[{\"type\":\"choropleth\",\"colorbar\":{\"outlinewidth\":0,\"ticks\":\"\"}}],\"histogram2d\":[{\"type\":\"histogram2d\",\"colorbar\":{\"outlinewidth\":0,\"ticks\":\"\"},\"colorscale\":[[0.0,\"#0d0887\"],[0.1111111111111111,\"#46039f\"],[0.2222222222222222,\"#7201a8\"],[0.3333333333333333,\"#9c179e\"],[0.4444444444444444,\"#bd3786\"],[0.5555555555555556,\"#d8576b\"],[0.6666666666666666,\"#ed7953\"],[0.7777777777777778,\"#fb9f3a\"],[0.8888888888888888,\"#fdca26\"],[1.0,\"#f0f921\"]]}],\"heatmap\":[{\"type\":\"heatmap\",\"colorbar\":{\"outlinewidth\":0,\"ticks\":\"\"},\"colorscale\":[[0.0,\"#0d0887\"],[0.1111111111111111,\"#46039f\"],[0.2222222222222222,\"#7201a8\"],[0.3333333333333333,\"#9c179e\"],[0.4444444444444444,\"#bd3786\"],[0.5555555555555556,\"#d8576b\"],[0.6666666666666666,\"#ed7953\"],[0.7777777777777778,\"#fb9f3a\"],[0.8888888888888888,\"#fdca26\"],[1.0,\"#f0f921\"]]}],\"heatmapgl\":[{\"type\":\"heatmapgl\",\"colorbar\":{\"outlinewidth\":0,\"ticks\":\"\"},\"colorscale\":[[0.0,\"#0d0887\"],[0.1111111111111111,\"#46039f\"],[0.2222222222222222,\"#7201a8\"],[0.3333333333333333,\"#9c179e\"],[0.4444444444444444,\"#bd3786\"],[0.5555555555555556,\"#d8576b\"],[0.6666666666666666,\"#ed7953\"],[0.7777777777777778,\"#fb9f3a\"],[0.8888888888888888,\"#fdca26\"],[1.0,\"#f0f921\"]]}],\"contourcarpet\":[{\"type\":\"contourcarpet\",\"colorbar\":{\"outlinewidth\":0,\"ticks\":\"\"}}],\"contour\":[{\"type\":\"contour\",\"colorbar\":{\"outlinewidth\":0,\"ticks\":\"\"},\"colorscale\":[[0.0,\"#0d0887\"],[0.1111111111111111,\"#46039f\"],[0.2222222222222222,\"#7201a8\"],[0.3333333333333333,\"#9c179e\"],[0.4444444444444444,\"#bd3786\"],[0.5555555555555556,\"#d8576b\"],[0.6666666666666666,\"#ed7953\"],[0.7777777777777778,\"#fb9f3a\"],[0.8888888888888888,\"#fdca26\"],[1.0,\"#f0f921\"]]}],\"surface\":[{\"type\":\"surface\",\"colorbar\":{\"outlinewidth\":0,\"ticks\":\"\"},\"colorscale\":[[0.0,\"#0d0887\"],[0.1111111111111111,\"#46039f\"],[0.2222222222222222,\"#7201a8\"],[0.3333333333333333,\"#9c179e\"],[0.4444444444444444,\"#bd3786\"],[0.5555555555555556,\"#d8576b\"],[0.6666666666666666,\"#ed7953\"],[0.7777777777777778,\"#fb9f3a\"],[0.8888888888888888,\"#fdca26\"],[1.0,\"#f0f921\"]]}],\"mesh3d\":[{\"type\":\"mesh3d\",\"colorbar\":{\"outlinewidth\":0,\"ticks\":\"\"}}],\"scatter\":[{\"fillpattern\":{\"fillmode\":\"overlay\",\"size\":10,\"solidity\":0.2},\"type\":\"scatter\"}],\"parcoords\":[{\"type\":\"parcoords\",\"line\":{\"colorbar\":{\"outlinewidth\":0,\"ticks\":\"\"}}}],\"scatterpolargl\":[{\"type\":\"scatterpolargl\",\"marker\":{\"colorbar\":{\"outlinewidth\":0,\"ticks\":\"\"}}}],\"bar\":[{\"error_x\":{\"color\":\"#2a3f5f\"},\"error_y\":{\"color\":\"#2a3f5f\"},\"marker\":{\"line\":{\"color\":\"#E5ECF6\",\"width\":0.5},\"pattern\":{\"fillmode\":\"overlay\",\"size\":10,\"solidity\":0.2}},\"type\":\"bar\"}],\"scattergeo\":[{\"type\":\"scattergeo\",\"marker\":{\"colorbar\":{\"outlinewidth\":0,\"ticks\":\"\"}}}],\"scatterpolar\":[{\"type\":\"scatterpolar\",\"marker\":{\"colorbar\":{\"outlinewidth\":0,\"ticks\":\"\"}}}],\"histogram\":[{\"marker\":{\"pattern\":{\"fillmode\":\"overlay\",\"size\":10,\"solidity\":0.2}},\"type\":\"histogram\"}],\"scattergl\":[{\"type\":\"scattergl\",\"marker\":{\"colorbar\":{\"outlinewidth\":0,\"ticks\":\"\"}}}],\"scatter3d\":[{\"type\":\"scatter3d\",\"line\":{\"colorbar\":{\"outlinewidth\":0,\"ticks\":\"\"}},\"marker\":{\"colorbar\":{\"outlinewidth\":0,\"ticks\":\"\"}}}],\"scattermapbox\":[{\"type\":\"scattermapbox\",\"marker\":{\"colorbar\":{\"outlinewidth\":0,\"ticks\":\"\"}}}],\"scatterternary\":[{\"type\":\"scatterternary\",\"marker\":{\"colorbar\":{\"outlinewidth\":0,\"ticks\":\"\"}}}],\"scattercarpet\":[{\"type\":\"scattercarpet\",\"marker\":{\"colorbar\":{\"outlinewidth\":0,\"ticks\":\"\"}}}],\"carpet\":[{\"aaxis\":{\"endlinecolor\":\"#2a3f5f\",\"gridcolor\":\"white\",\"linecolor\":\"white\",\"minorgridcolor\":\"white\",\"startlinecolor\":\"#2a3f5f\"},\"baxis\":{\"endlinecolor\":\"#2a3f5f\",\"gridcolor\":\"white\",\"linecolor\":\"white\",\"minorgridcolor\":\"white\",\"startlinecolor\":\"#2a3f5f\"},\"type\":\"carpet\"}],\"table\":[{\"cells\":{\"fill\":{\"color\":\"#EBF0F8\"},\"line\":{\"color\":\"white\"}},\"header\":{\"fill\":{\"color\":\"#C8D4E3\"},\"line\":{\"color\":\"white\"}},\"type\":\"table\"}],\"barpolar\":[{\"marker\":{\"line\":{\"color\":\"#E5ECF6\",\"width\":0.5},\"pattern\":{\"fillmode\":\"overlay\",\"size\":10,\"solidity\":0.2}},\"type\":\"barpolar\"}],\"pie\":[{\"automargin\":true,\"type\":\"pie\"}]},\"layout\":{\"autotypenumbers\":\"strict\",\"colorway\":[\"#636efa\",\"#EF553B\",\"#00cc96\",\"#ab63fa\",\"#FFA15A\",\"#19d3f3\",\"#FF6692\",\"#B6E880\",\"#FF97FF\",\"#FECB52\"],\"font\":{\"color\":\"#2a3f5f\"},\"hovermode\":\"closest\",\"hoverlabel\":{\"align\":\"left\"},\"paper_bgcolor\":\"white\",\"plot_bgcolor\":\"#E5ECF6\",\"polar\":{\"bgcolor\":\"#E5ECF6\",\"angularaxis\":{\"gridcolor\":\"white\",\"linecolor\":\"white\",\"ticks\":\"\"},\"radialaxis\":{\"gridcolor\":\"white\",\"linecolor\":\"white\",\"ticks\":\"\"}},\"ternary\":{\"bgcolor\":\"#E5ECF6\",\"aaxis\":{\"gridcolor\":\"white\",\"linecolor\":\"white\",\"ticks\":\"\"},\"baxis\":{\"gridcolor\":\"white\",\"linecolor\":\"white\",\"ticks\":\"\"},\"caxis\":{\"gridcolor\":\"white\",\"linecolor\":\"white\",\"ticks\":\"\"}},\"coloraxis\":{\"colorbar\":{\"outlinewidth\":0,\"ticks\":\"\"}},\"colorscale\":{\"sequential\":[[0.0,\"#0d0887\"],[0.1111111111111111,\"#46039f\"],[0.2222222222222222,\"#7201a8\"],[0.3333333333333333,\"#9c179e\"],[0.4444444444444444,\"#bd3786\"],[0.5555555555555556,\"#d8576b\"],[0.6666666666666666,\"#ed7953\"],[0.7777777777777778,\"#fb9f3a\"],[0.8888888888888888,\"#fdca26\"],[1.0,\"#f0f921\"]],\"sequentialminus\":[[0.0,\"#0d0887\"],[0.1111111111111111,\"#46039f\"],[0.2222222222222222,\"#7201a8\"],[0.3333333333333333,\"#9c179e\"],[0.4444444444444444,\"#bd3786\"],[0.5555555555555556,\"#d8576b\"],[0.6666666666666666,\"#ed7953\"],[0.7777777777777778,\"#fb9f3a\"],[0.8888888888888888,\"#fdca26\"],[1.0,\"#f0f921\"]],\"diverging\":[[0,\"#8e0152\"],[0.1,\"#c51b7d\"],[0.2,\"#de77ae\"],[0.3,\"#f1b6da\"],[0.4,\"#fde0ef\"],[0.5,\"#f7f7f7\"],[0.6,\"#e6f5d0\"],[0.7,\"#b8e186\"],[0.8,\"#7fbc41\"],[0.9,\"#4d9221\"],[1,\"#276419\"]]},\"xaxis\":{\"gridcolor\":\"white\",\"linecolor\":\"white\",\"ticks\":\"\",\"title\":{\"standoff\":15},\"zerolinecolor\":\"white\",\"automargin\":true,\"zerolinewidth\":2},\"yaxis\":{\"gridcolor\":\"white\",\"linecolor\":\"white\",\"ticks\":\"\",\"title\":{\"standoff\":15},\"zerolinecolor\":\"white\",\"automargin\":true,\"zerolinewidth\":2},\"scene\":{\"xaxis\":{\"backgroundcolor\":\"#E5ECF6\",\"gridcolor\":\"white\",\"linecolor\":\"white\",\"showbackground\":true,\"ticks\":\"\",\"zerolinecolor\":\"white\",\"gridwidth\":2},\"yaxis\":{\"backgroundcolor\":\"#E5ECF6\",\"gridcolor\":\"white\",\"linecolor\":\"white\",\"showbackground\":true,\"ticks\":\"\",\"zerolinecolor\":\"white\",\"gridwidth\":2},\"zaxis\":{\"backgroundcolor\":\"#E5ECF6\",\"gridcolor\":\"white\",\"linecolor\":\"white\",\"showbackground\":true,\"ticks\":\"\",\"zerolinecolor\":\"white\",\"gridwidth\":2}},\"shapedefaults\":{\"line\":{\"color\":\"#2a3f5f\"}},\"annotationdefaults\":{\"arrowcolor\":\"#2a3f5f\",\"arrowhead\":0,\"arrowwidth\":1},\"geo\":{\"bgcolor\":\"white\",\"landcolor\":\"#E5ECF6\",\"subunitcolor\":\"white\",\"showland\":true,\"showlakes\":true,\"lakecolor\":\"white\"},\"title\":{\"x\":0.05},\"mapbox\":{\"style\":\"light\"}}}},                        {\"responsive\": true}                    ).then(function(){\n",
       "                            \n",
       "var gd = document.getElementById('1a144604-5b08-412a-b6dd-f3ec57849808');\n",
       "var x = new MutationObserver(function (mutations, observer) {{\n",
       "        var display = window.getComputedStyle(gd).display;\n",
       "        if (!display || display === 'none') {{\n",
       "            console.log([gd, 'removed!']);\n",
       "            Plotly.purge(gd);\n",
       "            observer.disconnect();\n",
       "        }}\n",
       "}});\n",
       "\n",
       "// Listen for the removal of the full notebook cells\n",
       "var notebookContainer = gd.closest('#notebook-container');\n",
       "if (notebookContainer) {{\n",
       "    x.observe(notebookContainer, {childList: true});\n",
       "}}\n",
       "\n",
       "// Listen for the clearing of the current output cell\n",
       "var outputEl = gd.closest('.output');\n",
       "if (outputEl) {{\n",
       "    x.observe(outputEl, {childList: true});\n",
       "}}\n",
       "\n",
       "                        })                };                });            </script>        </div>"
      ]
     },
     "metadata": {},
     "output_type": "display_data"
    }
   ],
   "source": [
    "bottom = top.sort_values(by = 'no_of_seasons')\n",
    "bottom = bottom[20:50]\n",
    "fig = go.Figure(\n",
    "    data = [\n",
    "        go.Table(header = dict(values = ['Title', 'No of seasons']),\n",
    "                cells = dict(values = [bottom['title'], bottom['no_of_seasons']]))\n",
    "    ])\n",
    "fig.show()"
   ]
  },
  {
   "cell_type": "markdown",
   "id": "7778dd0d",
   "metadata": {},
   "source": [
    "# Gener Analysis "
   ]
  },
  {
   "cell_type": "code",
   "execution_count": 81,
   "id": "3a5f24d8",
   "metadata": {},
   "outputs": [
    {
     "data": {
      "text/plain": [
       "1         International TV Shows, TV Dramas, TV Mysteries\n",
       "2       Crime TV Shows, International TV Shows, TV Act...\n",
       "3                                  Docuseries, Reality TV\n",
       "4       International TV Shows, Romantic TV Shows, TV ...\n",
       "5                      TV Dramas, TV Horror, TV Mysteries\n",
       "                              ...                        \n",
       "8795                               Anime Series, Kids' TV\n",
       "8796                    International TV Shows, TV Dramas\n",
       "8797                                             Kids' TV\n",
       "8800    International TV Shows, Romantic TV Shows, TV ...\n",
       "8803               Kids' TV, Korean TV Shows, TV Comedies\n",
       "Name: listed_in, Length: 2676, dtype: object"
      ]
     },
     "execution_count": 81,
     "metadata": {},
     "output_type": "execute_result"
    }
   ],
   "source": [
    "netflix_shows['listed_in']"
   ]
  },
  {
   "cell_type": "code",
   "execution_count": 82,
   "id": "ed7994b6",
   "metadata": {},
   "outputs": [],
   "source": [
    "genres = list(netflix_shows['listed_in'])\n",
    "gen = []\n",
    "for i in genres :\n",
    "    i = list(i.split(','))\n",
    "    for j in i:\n",
    "        gen.append(j.replace(' ', ''))\n",
    "g = Counter(gen)"
   ]
  },
  {
   "cell_type": "code",
   "execution_count": 83,
   "id": "65cde663",
   "metadata": {},
   "outputs": [
    {
     "data": {
      "text/plain": [
       "[('InternationalTVShows', 1351),\n",
       " ('TVDramas', 763),\n",
       " ('TVComedies', 581),\n",
       " ('CrimeTVShows', 470),\n",
       " (\"Kids'TV\", 451),\n",
       " ('Docuseries', 395),\n",
       " ('RomanticTVShows', 370),\n",
       " ('RealityTV', 255),\n",
       " ('BritishTVShows', 253),\n",
       " ('AnimeSeries', 176),\n",
       " ('Spanish-LanguageTVShows', 174),\n",
       " ('TVAction&Adventure', 168),\n",
       " ('KoreanTVShows', 151),\n",
       " ('TVMysteries', 98),\n",
       " ('Science&NatureTV', 92),\n",
       " ('TVSci-Fi&Fantasy', 84),\n",
       " ('TVHorror', 75),\n",
       " ('TeenTVShows', 69),\n",
       " ('TVThrillers', 57),\n",
       " ('Stand-UpComedy&TalkShows', 56),\n",
       " ('Classic&CultTV', 28),\n",
       " ('TVShows', 16)]"
      ]
     },
     "execution_count": 83,
     "metadata": {},
     "output_type": "execute_result"
    }
   ],
   "source": [
    "g = sorted(g.items(), key = lambda item: g[item[0]], reverse = True)\n",
    "g"
   ]
  },
  {
   "cell_type": "code",
   "execution_count": 84,
   "id": "1a77e9e3",
   "metadata": {},
   "outputs": [
    {
     "data": {
      "text/plain": [
       "['InternationalTVShows',\n",
       " 'TVDramas',\n",
       " 'TVComedies',\n",
       " 'CrimeTVShows',\n",
       " \"Kids'TV\",\n",
       " 'Docuseries',\n",
       " 'RomanticTVShows',\n",
       " 'RealityTV',\n",
       " 'BritishTVShows',\n",
       " 'AnimeSeries',\n",
       " 'Spanish-LanguageTVShows',\n",
       " 'TVAction&Adventure',\n",
       " 'KoreanTVShows',\n",
       " 'TVMysteries',\n",
       " 'Science&NatureTV',\n",
       " 'TVSci-Fi&Fantasy',\n",
       " 'TVHorror',\n",
       " 'TeenTVShows',\n",
       " 'TVThrillers',\n",
       " 'Stand-UpComedy&TalkShows',\n",
       " 'Classic&CultTV',\n",
       " 'TVShows']"
      ]
     },
     "execution_count": 84,
     "metadata": {},
     "output_type": "execute_result"
    }
   ],
   "source": [
    "genre_names = [name for name , value in g]\n",
    "genre_names"
   ]
  },
  {
   "cell_type": "code",
   "execution_count": 85,
   "id": "3eb00db2",
   "metadata": {},
   "outputs": [
    {
     "data": {
      "text/plain": [
       "[1351,\n",
       " 763,\n",
       " 581,\n",
       " 470,\n",
       " 451,\n",
       " 395,\n",
       " 370,\n",
       " 255,\n",
       " 253,\n",
       " 176,\n",
       " 174,\n",
       " 168,\n",
       " 151,\n",
       " 98,\n",
       " 92,\n",
       " 84,\n",
       " 75,\n",
       " 69,\n",
       " 57,\n",
       " 56,\n",
       " 28,\n",
       " 16]"
      ]
     },
     "execution_count": 85,
     "metadata": {},
     "output_type": "execute_result"
    }
   ],
   "source": [
    "genre_values = [value for name, value in g]\n",
    "genre_values"
   ]
  },
  {
   "cell_type": "code",
   "execution_count": 86,
   "id": "7dc01345",
   "metadata": {},
   "outputs": [
    {
     "data": {
      "image/png": "[encoded data removed]",
      "text/plain": [
       "<Figure size 1000x1000 with 1 Axes>"
      ]
     },
     "metadata": {},
     "output_type": "display_data"
    }
   ],
   "source": [
    "fig = plt.figure(figsize = (10,10))\n",
    "ax = sns.barplot(x = genre_names, y =  genre_values)\n",
    "ax.set_xticklabels(genre_names, rotation = 70)\n",
    "ax.set_ylabel('Count of TV Shows')\n",
    "ax.set_title('Genres');"
   ]
  },
  {
   "cell_type": "markdown",
   "id": "67591407",
   "metadata": {},
   "source": [
    "# Analysis and duration of series "
   ]
  },
  {
   "cell_type": "code",
   "execution_count": 87,
   "id": "66019db5",
   "metadata": {},
   "outputs": [
    {
     "data": {
      "text/html": [
       "<div>\n",
       "<style scoped>\n",
       "    .dataframe tbody tr th:only-of-type {\n",
       "        vertical-align: middle;\n",
       "    }\n",
       "\n",
       "    .dataframe tbody tr th {\n",
       "        vertical-align: top;\n",
       "    }\n",
       "\n",
       "    .dataframe thead th {\n",
       "        text-align: right;\n",
       "    }\n",
       "</style>\n",
       "<table border=\"1\" class=\"dataframe\">\n",
       "  <thead>\n",
       "    <tr style=\"text-align: right;\">\n",
       "      <th></th>\n",
       "      <th>title</th>\n",
       "      <th>no_of_seasons</th>\n",
       "    </tr>\n",
       "  </thead>\n",
       "  <tbody>\n",
       "    <tr>\n",
       "      <th>1</th>\n",
       "      <td>Blood &amp; Water</td>\n",
       "      <td>2</td>\n",
       "    </tr>\n",
       "    <tr>\n",
       "      <th>2</th>\n",
       "      <td>Ganglands</td>\n",
       "      <td>1</td>\n",
       "    </tr>\n",
       "    <tr>\n",
       "      <th>3</th>\n",
       "      <td>Jailbirds New Orleans</td>\n",
       "      <td>1</td>\n",
       "    </tr>\n",
       "    <tr>\n",
       "      <th>4</th>\n",
       "      <td>Kota Factory</td>\n",
       "      <td>2</td>\n",
       "    </tr>\n",
       "    <tr>\n",
       "      <th>5</th>\n",
       "      <td>Midnight Mass</td>\n",
       "      <td>1</td>\n",
       "    </tr>\n",
       "    <tr>\n",
       "      <th>...</th>\n",
       "      <td>...</td>\n",
       "      <td>...</td>\n",
       "    </tr>\n",
       "    <tr>\n",
       "      <th>8795</th>\n",
       "      <td>Yu-Gi-Oh! Arc-V</td>\n",
       "      <td>2</td>\n",
       "    </tr>\n",
       "    <tr>\n",
       "      <th>8796</th>\n",
       "      <td>Yunus Emre</td>\n",
       "      <td>2</td>\n",
       "    </tr>\n",
       "    <tr>\n",
       "      <th>8797</th>\n",
       "      <td>Zak Storm</td>\n",
       "      <td>3</td>\n",
       "    </tr>\n",
       "    <tr>\n",
       "      <th>8800</th>\n",
       "      <td>Zindagi Gulzar Hai</td>\n",
       "      <td>1</td>\n",
       "    </tr>\n",
       "    <tr>\n",
       "      <th>8803</th>\n",
       "      <td>Zombie Dumb</td>\n",
       "      <td>2</td>\n",
       "    </tr>\n",
       "  </tbody>\n",
       "</table>\n",
       "<p>2676 rows × 2 columns</p>\n",
       "</div>"
      ],
      "text/plain": [
       "                      title  no_of_seasons\n",
       "1             Blood & Water              2\n",
       "2                 Ganglands              1\n",
       "3     Jailbirds New Orleans              1\n",
       "4              Kota Factory              2\n",
       "5             Midnight Mass              1\n",
       "...                     ...            ...\n",
       "8795        Yu-Gi-Oh! Arc-V              2\n",
       "8796             Yunus Emre              2\n",
       "8797              Zak Storm              3\n",
       "8800     Zindagi Gulzar Hai              1\n",
       "8803            Zombie Dumb              2\n",
       "\n",
       "[2676 rows x 2 columns]"
      ]
     },
     "execution_count": 87,
     "metadata": {},
     "output_type": "execute_result"
    }
   ],
   "source": [
    "durations[t]"
   ]
  },
  {
   "cell_type": "code",
   "execution_count": 88,
   "id": "d85dea28",
   "metadata": {},
   "outputs": [
    {
     "data": {
      "image/png": "[encoded data removed]",
      "text/plain": [
       "<Figure size 1000x800 with 1 Axes>"
      ]
     },
     "metadata": {},
     "output_type": "display_data"
    }
   ],
   "source": [
    "sns.set(style = 'darkgrid')\n",
    "plt.figure(figsize = (10,8))\n",
    "sns.kdeplot(data = durations['no_of_seasons'], fill = True)\n",
    "plt.xticks(sorted(durations['no_of_seasons'].unique()));"
   ]
  },
  {
   "cell_type": "markdown",
   "id": "7e1a6c05",
   "metadata": {},
   "source": [
    "# Recommendation(content based)"
   ]
  },
  {
   "cell_type": "code",
   "execution_count": 89,
   "id": "c2c44411",
   "metadata": {},
   "outputs": [
    {
     "data": {
      "text/plain": [
       "0       As her father nears the end of his life, filmm...\n",
       "6       Equestria's divided. But a bright-eyed hero be...\n",
       "7       On a photo shoot in Ghana, an American model s...\n",
       "9       A woman adjusting to life after a loss contend...\n",
       "12      After most of her family is murdered in a terr...\n",
       "                              ...                        \n",
       "8801    Recovering alcoholic Talal wakes up inside a s...\n",
       "8802    A political cartoonist, a crime reporter and a...\n",
       "8804    Looking to survive in a world taken over by zo...\n",
       "8805    Dragged from civilian life, a former superhero...\n",
       "8806    A scrappy but poor boy worms his way into a ty...\n",
       "Name: description, Length: 6131, dtype: object"
      ]
     },
     "execution_count": 89,
     "metadata": {},
     "output_type": "execute_result"
    }
   ],
   "source": [
    "netflix_movies['description']"
   ]
  },
  {
   "cell_type": "code",
   "execution_count": 90,
   "id": "bf88763c",
   "metadata": {},
   "outputs": [
    {
     "data": {
      "text/plain": [
       "0"
      ]
     },
     "execution_count": 90,
     "metadata": {},
     "output_type": "execute_result"
    }
   ],
   "source": [
    "netflix_movies['description'] = netflix_movies['description'].fillna('')\n",
    "netflix_movies['description'].isnull().sum()"
   ]
  },
  {
   "cell_type": "code",
   "execution_count": 91,
   "id": "18dce423",
   "metadata": {},
   "outputs": [
    {
     "data": {
      "text/plain": [
       "0     As her father nears the end of his life, filmm...\n",
       "6     Equestria's divided. But a bright-eyed hero be...\n",
       "7     On a photo shoot in Ghana, an American model s...\n",
       "9     A woman adjusting to life after a loss contend...\n",
       "12    After most of her family is murdered in a terr...\n",
       "Name: description, dtype: object"
      ]
     },
     "execution_count": 91,
     "metadata": {},
     "output_type": "execute_result"
    }
   ],
   "source": [
    "netflix_movies['description'].head()"
   ]
  },
  {
   "cell_type": "code",
   "execution_count": 92,
   "id": "873a4b4b",
   "metadata": {},
   "outputs": [
    {
     "data": {
      "text/plain": [
       "(6131, 15483)"
      ]
     },
     "execution_count": 92,
     "metadata": {},
     "output_type": "execute_result"
    }
   ],
   "source": [
    "tfidf = TfidfVectorizer(stop_words = 'english')\n",
    "tfidf_matrix = tfidf.fit_transform(netflix_movies['description'])\n",
    "tfidf_matrix.shape"
   ]
  },
  {
   "cell_type": "code",
   "execution_count": 93,
   "id": "f97e6113",
   "metadata": {},
   "outputs": [
    {
     "data": {
      "text/plain": [
       "array([[1.        , 0.        , 0.        , ..., 0.        , 0.01624469,\n",
       "        0.        ],\n",
       "       [0.        , 1.        , 0.        , ..., 0.        , 0.        ,\n",
       "        0.        ],\n",
       "       [0.        , 0.        , 1.        , ..., 0.        , 0.        ,\n",
       "        0.03650444],\n",
       "       ...,\n",
       "       [0.        , 0.        , 0.        , ..., 1.        , 0.        ,\n",
       "        0.        ],\n",
       "       [0.01624469, 0.        , 0.        , ..., 0.        , 1.        ,\n",
       "        0.        ],\n",
       "       [0.        , 0.        , 0.03650444, ..., 0.        , 0.        ,\n",
       "        1.        ]])"
      ]
     },
     "execution_count": 93,
     "metadata": {},
     "output_type": "execute_result"
    }
   ],
   "source": [
    "cosine_sim = cosine_similarity(tfidf_matrix,tfidf_matrix)\n",
    "cosine_sim"
   ]
  },
  {
   "cell_type": "code",
   "execution_count": 94,
   "id": "bb5db76a",
   "metadata": {},
   "outputs": [
    {
     "data": {
      "text/plain": [
       "title\n",
       "Dick Johnson Is Dead                   0\n",
       "My Little Pony: A New Generation       6\n",
       "Sankofa                                7\n",
       "The Starling                           9\n",
       "Je Suis Karl                          12\n",
       "                                    ... \n",
       "Zinzana                             8801\n",
       "Zodiac                              8802\n",
       "Zombieland                          8804\n",
       "Zoom                                8805\n",
       "Zubaan                              8806\n",
       "Length: 6131, dtype: int64"
      ]
     },
     "execution_count": 94,
     "metadata": {},
     "output_type": "execute_result"
    }
   ],
   "source": [
    "indices = pd.Series(netflix_movies.index, index = netflix_movies['title']).drop_duplicates()\n",
    "indices"
   ]
  },
  {
   "cell_type": "code",
   "execution_count": 95,
   "id": "e40025f0",
   "metadata": {},
   "outputs": [
    {
     "data": {
      "text/html": [
       "<div>\n",
       "<style scoped>\n",
       "    .dataframe tbody tr th:only-of-type {\n",
       "        vertical-align: middle;\n",
       "    }\n",
       "\n",
       "    .dataframe tbody tr th {\n",
       "        vertical-align: top;\n",
       "    }\n",
       "\n",
       "    .dataframe thead th {\n",
       "        text-align: right;\n",
       "    }\n",
       "</style>\n",
       "<table border=\"1\" class=\"dataframe\">\n",
       "  <thead>\n",
       "    <tr style=\"text-align: right;\">\n",
       "      <th>title</th>\n",
       "      <th>Dick Johnson Is Dead</th>\n",
       "      <th>My Little Pony: A New Generation</th>\n",
       "      <th>Sankofa</th>\n",
       "      <th>The Starling</th>\n",
       "      <th>Je Suis Karl</th>\n",
       "      <th>Confessions of an Invisible Girl</th>\n",
       "      <th>Europe's Most Dangerous Man: Otto Skorzeny in Spain</th>\n",
       "      <th>Intrusion</th>\n",
       "      <th>Avvai Shanmughi</th>\n",
       "      <th>Go! Go! Cory Carson: Chrissy Takes the Wheel</th>\n",
       "      <th>...</th>\n",
       "      <th>Young Tiger</th>\n",
       "      <th>Yours, Mine and Ours</th>\n",
       "      <th>اشتباك</th>\n",
       "      <th>Zed Plus</th>\n",
       "      <th>Zenda</th>\n",
       "      <th>Zinzana</th>\n",
       "      <th>Zodiac</th>\n",
       "      <th>Zombieland</th>\n",
       "      <th>Zoom</th>\n",
       "      <th>Zubaan</th>\n",
       "    </tr>\n",
       "    <tr>\n",
       "      <th>title</th>\n",
       "      <th></th>\n",
       "      <th></th>\n",
       "      <th></th>\n",
       "      <th></th>\n",
       "      <th></th>\n",
       "      <th></th>\n",
       "      <th></th>\n",
       "      <th></th>\n",
       "      <th></th>\n",
       "      <th></th>\n",
       "      <th></th>\n",
       "      <th></th>\n",
       "      <th></th>\n",
       "      <th></th>\n",
       "      <th></th>\n",
       "      <th></th>\n",
       "      <th></th>\n",
       "      <th></th>\n",
       "      <th></th>\n",
       "      <th></th>\n",
       "      <th></th>\n",
       "    </tr>\n",
       "  </thead>\n",
       "  <tbody>\n",
       "    <tr>\n",
       "      <th>Dick Johnson Is Dead</th>\n",
       "      <td>1.000000</td>\n",
       "      <td>0.0</td>\n",
       "      <td>0.0</td>\n",
       "      <td>0.018285</td>\n",
       "      <td>0.000000</td>\n",
       "      <td>0.0</td>\n",
       "      <td>0.014848</td>\n",
       "      <td>0.0</td>\n",
       "      <td>0.023927</td>\n",
       "      <td>0.0</td>\n",
       "      <td>...</td>\n",
       "      <td>0.0</td>\n",
       "      <td>0.02889</td>\n",
       "      <td>0.0</td>\n",
       "      <td>0.0</td>\n",
       "      <td>0.0</td>\n",
       "      <td>0.0</td>\n",
       "      <td>0.0</td>\n",
       "      <td>0.000000</td>\n",
       "      <td>0.016245</td>\n",
       "      <td>0.000000</td>\n",
       "    </tr>\n",
       "    <tr>\n",
       "      <th>My Little Pony: A New Generation</th>\n",
       "      <td>0.000000</td>\n",
       "      <td>1.0</td>\n",
       "      <td>0.0</td>\n",
       "      <td>0.000000</td>\n",
       "      <td>0.000000</td>\n",
       "      <td>0.0</td>\n",
       "      <td>0.000000</td>\n",
       "      <td>0.0</td>\n",
       "      <td>0.000000</td>\n",
       "      <td>0.0</td>\n",
       "      <td>...</td>\n",
       "      <td>0.0</td>\n",
       "      <td>0.00000</td>\n",
       "      <td>0.0</td>\n",
       "      <td>0.0</td>\n",
       "      <td>0.0</td>\n",
       "      <td>0.0</td>\n",
       "      <td>0.0</td>\n",
       "      <td>0.000000</td>\n",
       "      <td>0.000000</td>\n",
       "      <td>0.000000</td>\n",
       "    </tr>\n",
       "    <tr>\n",
       "      <th>Sankofa</th>\n",
       "      <td>0.000000</td>\n",
       "      <td>0.0</td>\n",
       "      <td>1.0</td>\n",
       "      <td>0.000000</td>\n",
       "      <td>0.000000</td>\n",
       "      <td>0.0</td>\n",
       "      <td>0.000000</td>\n",
       "      <td>0.0</td>\n",
       "      <td>0.029736</td>\n",
       "      <td>0.0</td>\n",
       "      <td>...</td>\n",
       "      <td>0.0</td>\n",
       "      <td>0.00000</td>\n",
       "      <td>0.0</td>\n",
       "      <td>0.0</td>\n",
       "      <td>0.0</td>\n",
       "      <td>0.0</td>\n",
       "      <td>0.0</td>\n",
       "      <td>0.000000</td>\n",
       "      <td>0.000000</td>\n",
       "      <td>0.036504</td>\n",
       "    </tr>\n",
       "    <tr>\n",
       "      <th>The Starling</th>\n",
       "      <td>0.018285</td>\n",
       "      <td>0.0</td>\n",
       "      <td>0.0</td>\n",
       "      <td>1.000000</td>\n",
       "      <td>0.029133</td>\n",
       "      <td>0.0</td>\n",
       "      <td>0.016294</td>\n",
       "      <td>0.0</td>\n",
       "      <td>0.000000</td>\n",
       "      <td>0.0</td>\n",
       "      <td>...</td>\n",
       "      <td>0.0</td>\n",
       "      <td>0.00000</td>\n",
       "      <td>0.0</td>\n",
       "      <td>0.0</td>\n",
       "      <td>0.0</td>\n",
       "      <td>0.0</td>\n",
       "      <td>0.0</td>\n",
       "      <td>0.061674</td>\n",
       "      <td>0.017826</td>\n",
       "      <td>0.045998</td>\n",
       "    </tr>\n",
       "    <tr>\n",
       "      <th>Je Suis Karl</th>\n",
       "      <td>0.000000</td>\n",
       "      <td>0.0</td>\n",
       "      <td>0.0</td>\n",
       "      <td>0.029133</td>\n",
       "      <td>1.000000</td>\n",
       "      <td>0.0</td>\n",
       "      <td>0.000000</td>\n",
       "      <td>0.0</td>\n",
       "      <td>0.000000</td>\n",
       "      <td>0.0</td>\n",
       "      <td>...</td>\n",
       "      <td>0.0</td>\n",
       "      <td>0.00000</td>\n",
       "      <td>0.0</td>\n",
       "      <td>0.0</td>\n",
       "      <td>0.0</td>\n",
       "      <td>0.0</td>\n",
       "      <td>0.0</td>\n",
       "      <td>0.000000</td>\n",
       "      <td>0.000000</td>\n",
       "      <td>0.028473</td>\n",
       "    </tr>\n",
       "  </tbody>\n",
       "</table>\n",
       "<p>5 rows × 6131 columns</p>\n",
       "</div>"
      ],
      "text/plain": [
       "title                             Dick Johnson Is Dead  \\\n",
       "title                                                    \n",
       "Dick Johnson Is Dead                          1.000000   \n",
       "My Little Pony: A New Generation              0.000000   \n",
       "Sankofa                                       0.000000   \n",
       "The Starling                                  0.018285   \n",
       "Je Suis Karl                                  0.000000   \n",
       "\n",
       "title                             My Little Pony: A New Generation  Sankofa  \\\n",
       "title                                                                         \n",
       "Dick Johnson Is Dead                                           0.0      0.0   \n",
       "My Little Pony: A New Generation                               1.0      0.0   \n",
       "Sankofa                                                        0.0      1.0   \n",
       "The Starling                                                   0.0      0.0   \n",
       "Je Suis Karl                                                   0.0      0.0   \n",
       "\n",
       "title                             The Starling  Je Suis Karl  \\\n",
       "title                                                          \n",
       "Dick Johnson Is Dead                  0.018285      0.000000   \n",
       "My Little Pony: A New Generation      0.000000      0.000000   \n",
       "Sankofa                               0.000000      0.000000   \n",
       "The Starling                          1.000000      0.029133   \n",
       "Je Suis Karl                          0.029133      1.000000   \n",
       "\n",
       "title                             Confessions of an Invisible Girl  \\\n",
       "title                                                                \n",
       "Dick Johnson Is Dead                                           0.0   \n",
       "My Little Pony: A New Generation                               0.0   \n",
       "Sankofa                                                        0.0   \n",
       "The Starling                                                   0.0   \n",
       "Je Suis Karl                                                   0.0   \n",
       "\n",
       "title                             Europe's Most Dangerous Man: Otto Skorzeny in Spain  \\\n",
       "title                                                                                   \n",
       "Dick Johnson Is Dead                                                       0.014848     \n",
       "My Little Pony: A New Generation                                           0.000000     \n",
       "Sankofa                                                                    0.000000     \n",
       "The Starling                                                               0.016294     \n",
       "Je Suis Karl                                                               0.000000     \n",
       "\n",
       "title                             Intrusion  Avvai Shanmughi  \\\n",
       "title                                                          \n",
       "Dick Johnson Is Dead                    0.0         0.023927   \n",
       "My Little Pony: A New Generation        0.0         0.000000   \n",
       "Sankofa                                 0.0         0.029736   \n",
       "The Starling                            0.0         0.000000   \n",
       "Je Suis Karl                            0.0         0.000000   \n",
       "\n",
       "title                             Go! Go! Cory Carson: Chrissy Takes the Wheel  \\\n",
       "title                                                                            \n",
       "Dick Johnson Is Dead                                                       0.0   \n",
       "My Little Pony: A New Generation                                           0.0   \n",
       "Sankofa                                                                    0.0   \n",
       "The Starling                                                               0.0   \n",
       "Je Suis Karl                                                               0.0   \n",
       "\n",
       "title                             ...  Young Tiger  Yours, Mine and Ours  \\\n",
       "title                             ...                                      \n",
       "Dick Johnson Is Dead              ...          0.0               0.02889   \n",
       "My Little Pony: A New Generation  ...          0.0               0.00000   \n",
       "Sankofa                           ...          0.0               0.00000   \n",
       "The Starling                      ...          0.0               0.00000   \n",
       "Je Suis Karl                      ...          0.0               0.00000   \n",
       "\n",
       "title                             اشتباك  Zed Plus  Zenda  Zinzana  Zodiac  \\\n",
       "title                                                                        \n",
       "Dick Johnson Is Dead                 0.0       0.0    0.0      0.0     0.0   \n",
       "My Little Pony: A New Generation     0.0       0.0    0.0      0.0     0.0   \n",
       "Sankofa                              0.0       0.0    0.0      0.0     0.0   \n",
       "The Starling                         0.0       0.0    0.0      0.0     0.0   \n",
       "Je Suis Karl                         0.0       0.0    0.0      0.0     0.0   \n",
       "\n",
       "title                             Zombieland      Zoom    Zubaan  \n",
       "title                                                             \n",
       "Dick Johnson Is Dead                0.000000  0.016245  0.000000  \n",
       "My Little Pony: A New Generation    0.000000  0.000000  0.000000  \n",
       "Sankofa                             0.000000  0.000000  0.036504  \n",
       "The Starling                        0.061674  0.017826  0.045998  \n",
       "Je Suis Karl                        0.000000  0.000000  0.028473  \n",
       "\n",
       "[5 rows x 6131 columns]"
      ]
     },
     "execution_count": 95,
     "metadata": {},
     "output_type": "execute_result"
    }
   ],
   "source": [
    "cosine_sim_df = pd.DataFrame(cosine_sim)\n",
    "\n",
    "cosine_sim_df.columns = indices.index\n",
    "\n",
    "cosine_sim_df['title'] = indices.index\n",
    "cosine_sim_df = cosine_sim_df.set_index('title')\n",
    "\n",
    "cosine_sim_df.head()"
   ]
  },
  {
   "cell_type": "code",
   "execution_count": 96,
   "id": "69cd12a9",
   "metadata": {},
   "outputs": [],
   "source": [
    "def get_recomandations(title, cosine_sim  = cosine_sim_df):\n",
    "    idx = indices[title]\n",
    "    sim_scores = list(enumerate(cosine_sim_df.loc[title]))\n",
    "    \n",
    "    sim_scores = sorted(sim_scores, key = lambda x:x[1], reverse = True)\n",
    "    sim_scores = sim_scores[1:11]\n",
    "    \n",
    "    movie_indicies = [i[0] for i in sim_scores]\n",
    "    return netflix_movies['title'].iloc[movie_indicies]"
   ]
  },
  {
   "cell_type": "code",
   "execution_count": 97,
   "id": "66dc5d9e",
   "metadata": {},
   "outputs": [
    {
     "data": {
      "text/plain": [
       "'A commercial diver becomes trapped on the ocean floor with dwindling oxygen and little hope of a timely rescue, so he tries to save himself.'"
      ]
     },
     "execution_count": 97,
     "metadata": {},
     "output_type": "execute_result"
    }
   ],
   "source": [
    "netflix_movies[netflix_movies['title'] == 'Last Breath'].description.iloc[0]"
   ]
  },
  {
   "cell_type": "code",
   "execution_count": 98,
   "id": "75dda2ae",
   "metadata": {},
   "outputs": [
    {
     "data": {
      "text/plain": [
       "7061                                          In The Deep\n",
       "940                        Motu Patlu: Deep Sea Adventure\n",
       "2703                                               Mine 9\n",
       "6466                                       Chicken Little\n",
       "7616                               NOVA: Thai Cave Rescue\n",
       "636                                          The Ice Road\n",
       "5773    My Little Pony Equestria Girls: Legend of Ever...\n",
       "4616                                          Big Miracle\n",
       "895                                                Oxygen\n",
       "3070                                              Posesif\n",
       "Name: title, dtype: object"
      ]
     },
     "execution_count": 98,
     "metadata": {},
     "output_type": "execute_result"
    }
   ],
   "source": [
    "get_recomandations('Last Breath')"
   ]
  },
  {
   "cell_type": "code",
   "execution_count": 99,
   "id": "c4b9181b",
   "metadata": {},
   "outputs": [
    {
     "data": {
      "text/plain": [
       "'With little oxygen left in their scuba tanks, two sisters are trapped in a shark cage at the bottom of the ocean while great whites circle nearby.'"
      ]
     },
     "execution_count": 99,
     "metadata": {},
     "output_type": "execute_result"
    }
   ],
   "source": [
    "netflix_movies[netflix_movies['title'] == 'In The Deep'].description.iloc[0]"
   ]
  },
  {
   "cell_type": "code",
   "execution_count": null,
   "id": "d58d30c9",
   "metadata": {},
   "outputs": [],
   "source": []
  }
 ],
 "metadata": {
  "kernelspec": {
   "display_name": "Python 3 (ipykernel)",
   "language": "python",
   "name": "python3"
  },
  "language_info": {
   "codemirror_mode": {
    "name": "ipython",
    "version": 3
   },
   "file_extension": ".py",
   "mimetype": "text/x-python",
   "name": "python",
   "nbconvert_exporter": "python",
   "pygments_lexer": "ipython3",
   "version": "3.10.9"
  }
 },
 "nbformat": 4,
 "nbformat_minor": 5
}
